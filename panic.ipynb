{
 "cells": [
  {
   "cell_type": "markdown",
   "id": "7ecfdd0d",
   "metadata": {
    "papermill": {
     "duration": 0.015058,
     "end_time": "2023-09-23T19:48:45.476766",
     "exception": false,
     "start_time": "2023-09-23T19:48:45.461708",
     "status": "completed"
    },
    "tags": []
   },
   "source": [
    "## About Notebook"
   ]
  },
  {
   "cell_type": "markdown",
   "id": "c65459ec",
   "metadata": {
    "papermill": {
     "duration": 0.01434,
     "end_time": "2023-09-23T19:48:45.506338",
     "exception": false,
     "start_time": "2023-09-23T19:48:45.491998",
     "status": "completed"
    },
    "tags": []
   },
   "source": [
    "In this notebook, our goal is to train a machine learning model for the detection of Panic Disorder, using the Panic Disorder Detection dataset and the Gradient Boosting classifier methodology.\n",
    "\n",
    "Panic Disorder is a serious mental health condition that affects millions of people worldwide. It's a debilitating condition that can lead to the development of phobias and anxiety, making everyday activities extremely challenging for those suffering from this condition. In this regard, early and accurate detection is a critical step towards effective treatment and management of this disease.\n",
    "\n",
    "Gradient Boosting is a powerful machine learning algorithm that builds a prediction model in an incremental manner, allowing the optimization of arbitrary loss functions. At each step, the model is enhanced by adding an estimator that reduces the prediction error. The flexibility and effectiveness of this algorithm make it suitable for our problem at hand.\n",
    "\n"
   ]
  },
  {
   "cell_type": "markdown",
   "id": "890a370e",
   "metadata": {
    "papermill": {
     "duration": 0.014918,
     "end_time": "2023-09-23T19:48:45.536553",
     "exception": false,
     "start_time": "2023-09-23T19:48:45.521635",
     "status": "completed"
    },
    "tags": []
   },
   "source": [
    "## Libraries"
   ]
  },
  {
   "cell_type": "code",
   "execution_count": 1,
   "id": "17fcf47d",
   "metadata": {
    "execution": {
     "iopub.execute_input": "2023-09-23T19:48:45.568768Z",
     "iopub.status.busy": "2023-09-23T19:48:45.568388Z",
     "iopub.status.idle": "2023-09-23T19:48:48.035328Z",
     "shell.execute_reply": "2023-09-23T19:48:48.034216Z"
    },
    "papermill": {
     "duration": 2.486461,
     "end_time": "2023-09-23T19:48:48.038200",
     "exception": false,
     "start_time": "2023-09-23T19:48:45.551739",
     "status": "completed"
    },
    "tags": []
   },
   "outputs": [],
   "source": [
    "import os\n",
    "\n",
    "import pandas as pd\n",
    "\n",
    "from sklearn.preprocessing import StandardScaler\n",
    "from sklearn.preprocessing import OneHotEncoder\n",
    "from sklearn.model_selection import train_test_split\n",
    "from sklearn.ensemble import GradientBoostingClassifier\n",
    "from sklearn.metrics import accuracy_score\n",
    "from sklearn.metrics import confusion_matrix\n",
    "\n",
    "import matplotlib.pyplot as plt\n",
    "import seaborn as sns"
   ]
  },
  {
   "cell_type": "markdown",
   "id": "f5e19858",
   "metadata": {
    "papermill": {
     "duration": 0.013905,
     "end_time": "2023-09-23T19:48:48.067775",
     "exception": false,
     "start_time": "2023-09-23T19:48:48.053870",
     "status": "completed"
    },
    "tags": []
   },
   "source": [
    "## Load Data"
   ]
  },
  {
   "cell_type": "code",
   "execution_count": 2,
   "id": "9e91f526",
   "metadata": {
    "execution": {
     "iopub.execute_input": "2023-09-23T19:48:48.099192Z",
     "iopub.status.busy": "2023-09-23T19:48:48.098310Z",
     "iopub.status.idle": "2023-09-23T19:48:48.105833Z",
     "shell.execute_reply": "2023-09-23T19:48:48.104850Z"
    },
    "papermill": {
     "duration": 0.025976,
     "end_time": "2023-09-23T19:48:48.108008",
     "exception": false,
     "start_time": "2023-09-23T19:48:48.082032",
     "status": "completed"
    },
    "tags": []
   },
   "outputs": [
    {
     "name": "stdout",
     "output_type": "stream",
     "text": [
      "/kaggle/input/panic-disorder-detection-dataset/panic_disorder_dataset_training.csv\n",
      "/kaggle/input/panic-disorder-detection-dataset/panic_disorder_dataset_testing.csv\n"
     ]
    }
   ],
   "source": [
    "panic_disorder_detection_dataset_path = \"/kaggle/input/panic-disorder-detection-dataset\"\n",
    "training_dataset_path = os.path.join(panic_disorder_detection_dataset_path, \"panic_disorder_dataset_training.csv\")\n",
    "testing_dataset_path = os.path.join(panic_disorder_detection_dataset_path, \"panic_disorder_dataset_testing.csv\")\n",
    "\n",
    "print(training_dataset_path)\n",
    "print(testing_dataset_path)"
   ]
  },
  {
   "cell_type": "code",
   "execution_count": 3,
   "id": "4f9ce4b7",
   "metadata": {
    "execution": {
     "iopub.execute_input": "2023-09-23T19:48:48.138831Z",
     "iopub.status.busy": "2023-09-23T19:48:48.138471Z",
     "iopub.status.idle": "2023-09-23T19:48:48.732531Z",
     "shell.execute_reply": "2023-09-23T19:48:48.731472Z"
    },
    "papermill": {
     "duration": 0.612505,
     "end_time": "2023-09-23T19:48:48.735163",
     "exception": false,
     "start_time": "2023-09-23T19:48:48.122658",
     "status": "completed"
    },
    "tags": []
   },
   "outputs": [
    {
     "name": "stdout",
     "output_type": "stream",
     "text": [
      "Training size (100000, 17)\n",
      "Testing size (20000, 17)\n"
     ]
    }
   ],
   "source": [
    "training_df = pd.read_csv(training_dataset_path)\n",
    "testing_df = pd.read_csv(testing_dataset_path)\n",
    "\n",
    "print(\"Training size\", training_df.shape)\n",
    "print(\"Testing size\", testing_df.shape)"
   ]
  },
  {
   "cell_type": "code",
   "execution_count": 4,
   "id": "8079cdb0",
   "metadata": {
    "execution": {
     "iopub.execute_input": "2023-09-23T19:48:48.767415Z",
     "iopub.status.busy": "2023-09-23T19:48:48.766480Z",
     "iopub.status.idle": "2023-09-23T19:48:48.821503Z",
     "shell.execute_reply": "2023-09-23T19:48:48.820378Z"
    },
    "papermill": {
     "duration": 0.073977,
     "end_time": "2023-09-23T19:48:48.824198",
     "exception": false,
     "start_time": "2023-09-23T19:48:48.750221",
     "status": "completed"
    },
    "tags": []
   },
   "outputs": [
    {
     "data": {
      "text/html": [
       "<div>\n",
       "<style scoped>\n",
       "    .dataframe tbody tr th:only-of-type {\n",
       "        vertical-align: middle;\n",
       "    }\n",
       "\n",
       "    .dataframe tbody tr th {\n",
       "        vertical-align: top;\n",
       "    }\n",
       "\n",
       "    .dataframe thead th {\n",
       "        text-align: right;\n",
       "    }\n",
       "</style>\n",
       "<table border=\"1\" class=\"dataframe\">\n",
       "  <thead>\n",
       "    <tr style=\"text-align: right;\">\n",
       "      <th></th>\n",
       "      <th>Participant ID</th>\n",
       "      <th>Age</th>\n",
       "      <th>Gender</th>\n",
       "      <th>Family History</th>\n",
       "      <th>Personal History</th>\n",
       "      <th>Current Stressors</th>\n",
       "      <th>Symptoms</th>\n",
       "      <th>Severity</th>\n",
       "      <th>Impact on Life</th>\n",
       "      <th>Demographics</th>\n",
       "      <th>Medical History</th>\n",
       "      <th>Psychiatric History</th>\n",
       "      <th>Substance Use</th>\n",
       "      <th>Coping Mechanisms</th>\n",
       "      <th>Social Support</th>\n",
       "      <th>Lifestyle Factors</th>\n",
       "      <th>Panic Disorder Diagnosis</th>\n",
       "    </tr>\n",
       "  </thead>\n",
       "  <tbody>\n",
       "    <tr>\n",
       "      <th>0</th>\n",
       "      <td>1</td>\n",
       "      <td>38</td>\n",
       "      <td>Male</td>\n",
       "      <td>No</td>\n",
       "      <td>Yes</td>\n",
       "      <td>Moderate</td>\n",
       "      <td>Shortness of breath</td>\n",
       "      <td>Mild</td>\n",
       "      <td>Mild</td>\n",
       "      <td>Rural</td>\n",
       "      <td>Diabetes</td>\n",
       "      <td>Bipolar disorder</td>\n",
       "      <td>NaN</td>\n",
       "      <td>Socializing</td>\n",
       "      <td>High</td>\n",
       "      <td>Sleep quality</td>\n",
       "      <td>0</td>\n",
       "    </tr>\n",
       "    <tr>\n",
       "      <th>1</th>\n",
       "      <td>2</td>\n",
       "      <td>51</td>\n",
       "      <td>Male</td>\n",
       "      <td>No</td>\n",
       "      <td>No</td>\n",
       "      <td>High</td>\n",
       "      <td>Panic attacks</td>\n",
       "      <td>Mild</td>\n",
       "      <td>Mild</td>\n",
       "      <td>Urban</td>\n",
       "      <td>Asthma</td>\n",
       "      <td>Anxiety disorder</td>\n",
       "      <td>Drugs</td>\n",
       "      <td>Exercise</td>\n",
       "      <td>High</td>\n",
       "      <td>Sleep quality</td>\n",
       "      <td>0</td>\n",
       "    </tr>\n",
       "    <tr>\n",
       "      <th>2</th>\n",
       "      <td>3</td>\n",
       "      <td>32</td>\n",
       "      <td>Female</td>\n",
       "      <td>Yes</td>\n",
       "      <td>No</td>\n",
       "      <td>High</td>\n",
       "      <td>Panic attacks</td>\n",
       "      <td>Mild</td>\n",
       "      <td>Significant</td>\n",
       "      <td>Urban</td>\n",
       "      <td>Diabetes</td>\n",
       "      <td>Depressive disorder</td>\n",
       "      <td>NaN</td>\n",
       "      <td>Seeking therapy</td>\n",
       "      <td>Moderate</td>\n",
       "      <td>Exercise</td>\n",
       "      <td>0</td>\n",
       "    </tr>\n",
       "    <tr>\n",
       "      <th>3</th>\n",
       "      <td>4</td>\n",
       "      <td>64</td>\n",
       "      <td>Female</td>\n",
       "      <td>No</td>\n",
       "      <td>No</td>\n",
       "      <td>Moderate</td>\n",
       "      <td>Chest pain</td>\n",
       "      <td>Moderate</td>\n",
       "      <td>Moderate</td>\n",
       "      <td>Rural</td>\n",
       "      <td>Diabetes</td>\n",
       "      <td>NaN</td>\n",
       "      <td>NaN</td>\n",
       "      <td>Meditation</td>\n",
       "      <td>High</td>\n",
       "      <td>Exercise</td>\n",
       "      <td>0</td>\n",
       "    </tr>\n",
       "    <tr>\n",
       "      <th>4</th>\n",
       "      <td>5</td>\n",
       "      <td>31</td>\n",
       "      <td>Male</td>\n",
       "      <td>Yes</td>\n",
       "      <td>No</td>\n",
       "      <td>Moderate</td>\n",
       "      <td>Panic attacks</td>\n",
       "      <td>Mild</td>\n",
       "      <td>Moderate</td>\n",
       "      <td>Rural</td>\n",
       "      <td>Asthma</td>\n",
       "      <td>NaN</td>\n",
       "      <td>Drugs</td>\n",
       "      <td>Seeking therapy</td>\n",
       "      <td>Low</td>\n",
       "      <td>Sleep quality</td>\n",
       "      <td>0</td>\n",
       "    </tr>\n",
       "  </tbody>\n",
       "</table>\n",
       "</div>"
      ],
      "text/plain": [
       "   Participant ID  Age  Gender Family History Personal History  \\\n",
       "0               1   38    Male             No              Yes   \n",
       "1               2   51    Male             No               No   \n",
       "2               3   32  Female            Yes               No   \n",
       "3               4   64  Female             No               No   \n",
       "4               5   31    Male            Yes               No   \n",
       "\n",
       "  Current Stressors             Symptoms  Severity Impact on Life  \\\n",
       "0          Moderate  Shortness of breath      Mild           Mild   \n",
       "1              High        Panic attacks      Mild           Mild   \n",
       "2              High        Panic attacks      Mild    Significant   \n",
       "3          Moderate           Chest pain  Moderate       Moderate   \n",
       "4          Moderate        Panic attacks      Mild       Moderate   \n",
       "\n",
       "  Demographics Medical History  Psychiatric History Substance Use  \\\n",
       "0        Rural        Diabetes     Bipolar disorder           NaN   \n",
       "1        Urban          Asthma     Anxiety disorder         Drugs   \n",
       "2        Urban        Diabetes  Depressive disorder           NaN   \n",
       "3        Rural        Diabetes                  NaN           NaN   \n",
       "4        Rural          Asthma                  NaN         Drugs   \n",
       "\n",
       "  Coping Mechanisms Social Support Lifestyle Factors  Panic Disorder Diagnosis  \n",
       "0       Socializing           High     Sleep quality                         0  \n",
       "1          Exercise           High     Sleep quality                         0  \n",
       "2   Seeking therapy       Moderate          Exercise                         0  \n",
       "3        Meditation           High          Exercise                         0  \n",
       "4   Seeking therapy            Low     Sleep quality                         0  "
      ]
     },
     "execution_count": 4,
     "metadata": {},
     "output_type": "execute_result"
    }
   ],
   "source": [
    "# Create a copy of the training DataFrame\n",
    "df = training_df.copy()\n",
    "df.head()"
   ]
  },
  {
   "cell_type": "markdown",
   "id": "67611c3d",
   "metadata": {
    "papermill": {
     "duration": 0.015758,
     "end_time": "2023-09-23T19:48:48.855856",
     "exception": false,
     "start_time": "2023-09-23T19:48:48.840098",
     "status": "completed"
    },
    "tags": []
   },
   "source": [
    "## Data Understanding"
   ]
  },
  {
   "cell_type": "markdown",
   "id": "4418606f",
   "metadata": {
    "papermill": {
     "duration": 0.015486,
     "end_time": "2023-09-23T19:48:48.887750",
     "exception": false,
     "start_time": "2023-09-23T19:48:48.872264",
     "status": "completed"
    },
    "tags": []
   },
   "source": [
    "**DataFrame Columns Description**\n",
    "* Participant ID: A unique identifier for each participant in the survey or study. Typically, this is a number that has no intrinsic meaning other than identifying a unique individual.\n",
    "\n",
    "* Age: The age of the participant at the time of the survey or study.\n",
    "\n",
    "* Gender: The gender of the participant.\n",
    "\n",
    "* Family History: Information about the presence of Panic Disorder or other mental health disorders in the participant's family.\n",
    "\n",
    "* Personal History: The personal history of the participant, likely referring to past events or conditions relevant to mental health.\n",
    "\n",
    "* Current Stressors: Current stressors in the participant's life that might affect mental health.\n",
    "\n",
    "* Symptoms: The symptoms reported by the participant\n",
    "\n",
    "* Severity: The severity of the symptoms reported by the participant.\n",
    "\n",
    "* Impact on Life: Measures the degree to which the symptoms affect the participant's daily life, whether at work, in relationships, or other areas.\n",
    "\n",
    "* Demographics: Demographic information about the participant.\n",
    "\n",
    "* Medical History: The general medical history of the participant.\n",
    "\n",
    "* Psychiatric History: The psychiatric history of the participant.\n",
    "\n",
    "* Substance Use: Information about the participant's use of substances.\n",
    "\n",
    "* Coping Mechanisms: The coping strategies the participant uses to deal with stress or the symptoms of Panic Disorder.\n",
    "\n",
    "* Social Support: The amount and quality of social support available to the participant, such as friends, family, or support groups.\n",
    "\n",
    "* Lifestyle Factors: Factors related to the participant's lifestyle that might affect mental health, such as sleep patterns, diet, and physical exercise.\n",
    "\n",
    "* Panic Disorder Diagnosis: The diagnosis of Panic Disorder, likely indicating whether the participant has been diagnosed with the disorder or not."
   ]
  },
  {
   "cell_type": "markdown",
   "id": "1d2bc33c",
   "metadata": {
    "papermill": {
     "duration": 0.015199,
     "end_time": "2023-09-23T19:48:48.918744",
     "exception": false,
     "start_time": "2023-09-23T19:48:48.903545",
     "status": "completed"
    },
    "tags": []
   },
   "source": [
    "**Data Dictionary**"
   ]
  },
  {
   "cell_type": "code",
   "execution_count": 5,
   "id": "d8d85744",
   "metadata": {
    "execution": {
     "iopub.execute_input": "2023-09-23T19:48:48.950751Z",
     "iopub.status.busy": "2023-09-23T19:48:48.950356Z",
     "iopub.status.idle": "2023-09-23T19:48:49.126082Z",
     "shell.execute_reply": "2023-09-23T19:48:49.125151Z"
    },
    "papermill": {
     "duration": 0.194492,
     "end_time": "2023-09-23T19:48:49.128525",
     "exception": false,
     "start_time": "2023-09-23T19:48:48.934033",
     "status": "completed"
    },
    "tags": []
   },
   "outputs": [
    {
     "data": {
      "text/html": [
       "<div>\n",
       "<style scoped>\n",
       "    .dataframe tbody tr th:only-of-type {\n",
       "        vertical-align: middle;\n",
       "    }\n",
       "\n",
       "    .dataframe tbody tr th {\n",
       "        vertical-align: top;\n",
       "    }\n",
       "\n",
       "    .dataframe thead th {\n",
       "        text-align: right;\n",
       "    }\n",
       "</style>\n",
       "<table border=\"1\" class=\"dataframe\">\n",
       "  <thead>\n",
       "    <tr style=\"text-align: right;\">\n",
       "      <th></th>\n",
       "      <th>Type</th>\n",
       "      <th>Unique Values Sample</th>\n",
       "    </tr>\n",
       "  </thead>\n",
       "  <tbody>\n",
       "    <tr>\n",
       "      <th>Gender</th>\n",
       "      <td>object</td>\n",
       "      <td>[Male, Female]</td>\n",
       "    </tr>\n",
       "    <tr>\n",
       "      <th>Family History</th>\n",
       "      <td>object</td>\n",
       "      <td>[No, Yes]</td>\n",
       "    </tr>\n",
       "    <tr>\n",
       "      <th>Personal History</th>\n",
       "      <td>object</td>\n",
       "      <td>[Yes, No]</td>\n",
       "    </tr>\n",
       "    <tr>\n",
       "      <th>Current Stressors</th>\n",
       "      <td>object</td>\n",
       "      <td>[Moderate, High, Low]</td>\n",
       "    </tr>\n",
       "    <tr>\n",
       "      <th>Symptoms</th>\n",
       "      <td>object</td>\n",
       "      <td>[Shortness of breath, Panic attacks, Chest pai...</td>\n",
       "    </tr>\n",
       "    <tr>\n",
       "      <th>Severity</th>\n",
       "      <td>object</td>\n",
       "      <td>[Mild, Moderate, Severe]</td>\n",
       "    </tr>\n",
       "    <tr>\n",
       "      <th>Impact on Life</th>\n",
       "      <td>object</td>\n",
       "      <td>[Mild, Significant, Moderate]</td>\n",
       "    </tr>\n",
       "    <tr>\n",
       "      <th>Demographics</th>\n",
       "      <td>object</td>\n",
       "      <td>[Rural, Urban]</td>\n",
       "    </tr>\n",
       "    <tr>\n",
       "      <th>Medical History</th>\n",
       "      <td>object</td>\n",
       "      <td>[Diabetes, Asthma, nan, Heart disease]</td>\n",
       "    </tr>\n",
       "    <tr>\n",
       "      <th>Psychiatric History</th>\n",
       "      <td>object</td>\n",
       "      <td>[Bipolar disorder, Anxiety disorder, Depressiv...</td>\n",
       "    </tr>\n",
       "    <tr>\n",
       "      <th>Substance Use</th>\n",
       "      <td>object</td>\n",
       "      <td>[nan, Drugs, Alcohol]</td>\n",
       "    </tr>\n",
       "    <tr>\n",
       "      <th>Coping Mechanisms</th>\n",
       "      <td>object</td>\n",
       "      <td>[Socializing, Exercise, Seeking therapy, Medit...</td>\n",
       "    </tr>\n",
       "    <tr>\n",
       "      <th>Social Support</th>\n",
       "      <td>object</td>\n",
       "      <td>[High, Moderate, Low]</td>\n",
       "    </tr>\n",
       "    <tr>\n",
       "      <th>Lifestyle Factors</th>\n",
       "      <td>object</td>\n",
       "      <td>[Sleep quality, Exercise, Diet]</td>\n",
       "    </tr>\n",
       "  </tbody>\n",
       "</table>\n",
       "</div>"
      ],
      "text/plain": [
       "                       Type                               Unique Values Sample\n",
       "Gender               object                                     [Male, Female]\n",
       "Family History       object                                          [No, Yes]\n",
       "Personal History     object                                          [Yes, No]\n",
       "Current Stressors    object                              [Moderate, High, Low]\n",
       "Symptoms             object  [Shortness of breath, Panic attacks, Chest pai...\n",
       "Severity             object                           [Mild, Moderate, Severe]\n",
       "Impact on Life       object                      [Mild, Significant, Moderate]\n",
       "Demographics         object                                     [Rural, Urban]\n",
       "Medical History      object             [Diabetes, Asthma, nan, Heart disease]\n",
       "Psychiatric History  object  [Bipolar disorder, Anxiety disorder, Depressiv...\n",
       "Substance Use        object                              [nan, Drugs, Alcohol]\n",
       "Coping Mechanisms    object  [Socializing, Exercise, Seeking therapy, Medit...\n",
       "Social Support       object                              [High, Moderate, Low]\n",
       "Lifestyle Factors    object                    [Sleep quality, Exercise, Diet]"
      ]
     },
     "execution_count": 5,
     "metadata": {},
     "output_type": "execute_result"
    }
   ],
   "source": [
    "# Create a DataFrame that includes only the 'object' columns\n",
    "object_df = df.select_dtypes(include=['object'])\n",
    "\n",
    "# Create a DataFrame to store the information\n",
    "data_dict = pd.DataFrame(object_df.dtypes, columns=['Type'])\n",
    "\n",
    "# Add a column for a sample of unique values in each column\n",
    "data_dict['Unique Values Sample'] = object_df.apply(lambda x: x.unique())\n",
    "\n",
    "data_dict"
   ]
  },
  {
   "cell_type": "code",
   "execution_count": 6,
   "id": "462a46e5",
   "metadata": {
    "execution": {
     "iopub.execute_input": "2023-09-23T19:48:49.215219Z",
     "iopub.status.busy": "2023-09-23T19:48:49.214813Z",
     "iopub.status.idle": "2023-09-23T19:48:49.373826Z",
     "shell.execute_reply": "2023-09-23T19:48:49.372700Z"
    },
    "papermill": {
     "duration": 0.179874,
     "end_time": "2023-09-23T19:48:49.376693",
     "exception": false,
     "start_time": "2023-09-23T19:48:49.196819",
     "status": "completed"
    },
    "tags": []
   },
   "outputs": [
    {
     "name": "stdout",
     "output_type": "stream",
     "text": [
      "<class 'pandas.core.frame.DataFrame'>\n",
      "RangeIndex: 100000 entries, 0 to 99999\n",
      "Data columns (total 17 columns):\n",
      " #   Column                    Non-Null Count   Dtype \n",
      "---  ------                    --------------   ----- \n",
      " 0   Participant ID            100000 non-null  int64 \n",
      " 1   Age                       100000 non-null  int64 \n",
      " 2   Gender                    100000 non-null  object\n",
      " 3   Family History            100000 non-null  object\n",
      " 4   Personal History          100000 non-null  object\n",
      " 5   Current Stressors         100000 non-null  object\n",
      " 6   Symptoms                  100000 non-null  object\n",
      " 7   Severity                  100000 non-null  object\n",
      " 8   Impact on Life            100000 non-null  object\n",
      " 9   Demographics              100000 non-null  object\n",
      " 10  Medical History           74827 non-null   object\n",
      " 11  Psychiatric History       75079 non-null   object\n",
      " 12  Substance Use             66626 non-null   object\n",
      " 13  Coping Mechanisms         100000 non-null  object\n",
      " 14  Social Support            100000 non-null  object\n",
      " 15  Lifestyle Factors         100000 non-null  object\n",
      " 16  Panic Disorder Diagnosis  100000 non-null  int64 \n",
      "dtypes: int64(3), object(14)\n",
      "memory usage: 13.0+ MB\n"
     ]
    }
   ],
   "source": [
    "df.info()"
   ]
  },
  {
   "cell_type": "markdown",
   "id": "64f7354e",
   "metadata": {
    "papermill": {
     "duration": 0.015661,
     "end_time": "2023-09-23T19:48:49.408817",
     "exception": false,
     "start_time": "2023-09-23T19:48:49.393156",
     "status": "completed"
    },
    "tags": []
   },
   "source": [
    "**There are no missing values**"
   ]
  },
  {
   "cell_type": "code",
   "execution_count": 7,
   "id": "9f420886",
   "metadata": {
    "execution": {
     "iopub.execute_input": "2023-09-23T19:48:49.443384Z",
     "iopub.status.busy": "2023-09-23T19:48:49.442417Z",
     "iopub.status.idle": "2023-09-23T19:48:49.475704Z",
     "shell.execute_reply": "2023-09-23T19:48:49.474516Z"
    },
    "papermill": {
     "duration": 0.053195,
     "end_time": "2023-09-23T19:48:49.478354",
     "exception": false,
     "start_time": "2023-09-23T19:48:49.425159",
     "status": "completed"
    },
    "tags": []
   },
   "outputs": [],
   "source": [
    "df.drop(columns=\"Participant ID\", inplace=True)\n",
    "testing_df.drop(columns=\"Participant ID\", inplace=True)"
   ]
  },
  {
   "cell_type": "markdown",
   "id": "f562532a",
   "metadata": {
    "papermill": {
     "duration": 0.015851,
     "end_time": "2023-09-23T19:48:49.510358",
     "exception": false,
     "start_time": "2023-09-23T19:48:49.494507",
     "status": "completed"
    },
    "tags": []
   },
   "source": [
    "## EDA"
   ]
  },
  {
   "cell_type": "markdown",
   "id": "7ab6b78b",
   "metadata": {
    "papermill": {
     "duration": 0.016167,
     "end_time": "2023-09-23T19:48:49.543146",
     "exception": false,
     "start_time": "2023-09-23T19:48:49.526979",
     "status": "completed"
    },
    "tags": []
   },
   "source": [
    "## Univariate Analysis"
   ]
  },
  {
   "cell_type": "markdown",
   "id": "219365f3",
   "metadata": {
    "papermill": {
     "duration": 0.016648,
     "end_time": "2023-09-23T19:48:49.576151",
     "exception": false,
     "start_time": "2023-09-23T19:48:49.559503",
     "status": "completed"
    },
    "tags": []
   },
   "source": [
    "### Age"
   ]
  },
  {
   "cell_type": "code",
   "execution_count": 8,
   "id": "1807ac30",
   "metadata": {
    "execution": {
     "iopub.execute_input": "2023-09-23T19:48:49.610499Z",
     "iopub.status.busy": "2023-09-23T19:48:49.610126Z",
     "iopub.status.idle": "2023-09-23T19:48:50.717023Z",
     "shell.execute_reply": "2023-09-23T19:48:50.715920Z"
    },
    "papermill": {
     "duration": 1.126987,
     "end_time": "2023-09-23T19:48:50.719454",
     "exception": false,
     "start_time": "2023-09-23T19:48:49.592467",
     "status": "completed"
    },
    "tags": []
   },
   "outputs": [
    {
     "data": {
      "image/png": "[encoded data removed]",
      "text/plain": [
       "<Figure size 1200x600 with 2 Axes>"
      ]
     },
     "metadata": {},
     "output_type": "display_data"
    },
    {
     "data": {
      "text/plain": [
       "count    100000.000000\n",
       "mean         41.454300\n",
       "std          13.839204\n",
       "min          18.000000\n",
       "25%          29.000000\n",
       "50%          41.000000\n",
       "75%          53.000000\n",
       "max          65.000000\n",
       "Name: Age, dtype: float64"
      ]
     },
     "execution_count": 8,
     "metadata": {},
     "output_type": "execute_result"
    }
   ],
   "source": [
    "column=\"Age\"\n",
    "\n",
    "# Box Plot\n",
    "plt.figure(figsize=(12, 6))\n",
    "plt.subplot(1, 2, 1)\n",
    "sns.boxplot(y=df[column])\n",
    "plt.title('Box Plot')\n",
    "\n",
    "# Histogram\n",
    "plt.subplot(1, 2, 2)\n",
    "sns.histplot(data=df, x=column, kde=True)\n",
    "plt.title('Histogram')\n",
    "\n",
    "plt.tight_layout()\n",
    "plt.show()\n",
    "\n",
    "df[column].describe()"
   ]
  },
  {
   "cell_type": "markdown",
   "id": "8ab30ad9",
   "metadata": {
    "papermill": {
     "duration": 0.017745,
     "end_time": "2023-09-23T19:48:50.755421",
     "exception": false,
     "start_time": "2023-09-23T19:48:50.737676",
     "status": "completed"
    },
    "tags": []
   },
   "source": [
    "Let's analyze...\n",
    "\n",
    "This age distribution portrays an example of a distribution generated from an algorithm. It presents a very specific pattern in the distribution of data, which is quite unlikely to occur in real life.\n",
    "\n",
    "Real data tend to be \"noisy\" and not normally distributed."
   ]
  },
  {
   "cell_type": "markdown",
   "id": "fb10ab51",
   "metadata": {
    "papermill": {
     "duration": 0.018436,
     "end_time": "2023-09-23T19:48:50.790528",
     "exception": false,
     "start_time": "2023-09-23T19:48:50.772092",
     "status": "completed"
    },
    "tags": []
   },
   "source": [
    "### Gender"
   ]
  },
  {
   "cell_type": "code",
   "execution_count": 9,
   "id": "42d8cd63",
   "metadata": {
    "execution": {
     "iopub.execute_input": "2023-09-23T19:48:50.835913Z",
     "iopub.status.busy": "2023-09-23T19:48:50.834941Z",
     "iopub.status.idle": "2023-09-23T19:48:51.167311Z",
     "shell.execute_reply": "2023-09-23T19:48:51.166181Z"
    },
    "papermill": {
     "duration": 0.356556,
     "end_time": "2023-09-23T19:48:51.169866",
     "exception": false,
     "start_time": "2023-09-23T19:48:50.813310",
     "status": "completed"
    },
    "tags": []
   },
   "outputs": [
    {
     "data": {
      "image/png": "[encoded data removed]",
      "text/plain": [
       "<Figure size 640x480 with 1 Axes>"
      ]
     },
     "metadata": {},
     "output_type": "display_data"
    },
    {
     "data": {
      "text/plain": [
       "Gender\n",
       "Male      50052\n",
       "Female    49948\n",
       "Name: count, dtype: int64"
      ]
     },
     "execution_count": 9,
     "metadata": {},
     "output_type": "execute_result"
    }
   ],
   "source": [
    "sns.countplot(data=df, x=\"Gender\")\n",
    "plt.show()\n",
    "\n",
    "df[\"Gender\"].value_counts()"
   ]
  },
  {
   "cell_type": "markdown",
   "id": "15ba722c",
   "metadata": {
    "papermill": {
     "duration": 0.017322,
     "end_time": "2023-09-23T19:48:51.205172",
     "exception": false,
     "start_time": "2023-09-23T19:48:51.187850",
     "status": "completed"
    },
    "tags": []
   },
   "source": [
    "Another example that validates our hypothesis that this DataFrame was generated by an algorithm. The distribution between genders is perfect.\n",
    "\n",
    "That's okay, our intent is to learn with the Gradient Boosting classifier algorithm."
   ]
  },
  {
   "cell_type": "markdown",
   "id": "d3b23b42",
   "metadata": {
    "papermill": {
     "duration": 0.018683,
     "end_time": "2023-09-23T19:48:51.241112",
     "exception": false,
     "start_time": "2023-09-23T19:48:51.222429",
     "status": "completed"
    },
    "tags": []
   },
   "source": [
    "NOTE: It makes sense to carry out exploratory analysis to learn how to manipulate the DataFrame, understand data visualization concepts, storytelling, among others. However, we should refrain from drawing definitive conclusions, as there is strong evidence that the DataFrame was generated by an algorithm.\n",
    "\n",
    "Additionally, exploratory analysis on this synthesized dataset can be an advantageous exercise. This provides us with the opportunity to understand and prepare for real-world scenarios. It allows us to practice techniques for cleaning data, handling missing or unusual values, and even discovering potential biases or errors in the data generation process.\n",
    "\n",
    "Furthermore, by examining the data distribution and relationships between features, we become better equipped to select suitable algorithms for our models, engineer relevant features, and validate our models' performances.\n",
    "\n",
    "Lastly, while storytelling with this data, it is important to acknowledge the data's origin. Synthetic data, such as this, helps us develop and refine our data handling and analysis skills without exposing sensitive real-world information. Although our insights might not translate directly into real-world applications, the skills and intuition gained from this analysis are invaluable.\n",
    "\n",
    "Feel free to contribute to this notebook in the EDA (Exploratory Data Analysis) section. Whether it's finding new insights, proposing different data visualization techniques, suggesting effective ways of handling the data, or simply sharing your thoughts and ideas, your collaboration can enhance our collective understanding of this synthesized dataset. By sharing our diverse perspectives and experiences, we all stand to learn and grow.\n",
    "\n"
   ]
  },
  {
   "cell_type": "markdown",
   "id": "f02eae01",
   "metadata": {
    "papermill": {
     "duration": 0.018656,
     "end_time": "2023-09-23T19:48:51.280459",
     "exception": false,
     "start_time": "2023-09-23T19:48:51.261803",
     "status": "completed"
    },
    "tags": []
   },
   "source": [
    "## Pre Processing Data"
   ]
  },
  {
   "cell_type": "markdown",
   "id": "5e4b4c49",
   "metadata": {
    "papermill": {
     "duration": 0.018759,
     "end_time": "2023-09-23T19:48:51.316539",
     "exception": false,
     "start_time": "2023-09-23T19:48:51.297780",
     "status": "completed"
    },
    "tags": []
   },
   "source": [
    "### Concepts"
   ]
  },
  {
   "attachments": {
    "f43b2935-6d0b-47d6-8a14-6b27e1331c2f.png": {
     "image/png": "[encoded data removed]"
    }
   },
   "cell_type": "markdown",
   "id": "d40bbdad",
   "metadata": {
    "papermill": {
     "duration": 0.017486,
     "end_time": "2023-09-23T19:48:51.351533",
     "exception": false,
     "start_time": "2023-09-23T19:48:51.334047",
     "status": "completed"
    },
    "tags": []
   },
   "source": [
    "#### About Train, Validation and Test\n",
    "\n",
    "In machine learning, it is common to split the dataset into three subsets: training, validation, and test. This is crucial for creating robust models and preventing overfitting.\n",
    "\n",
    "Training Data: The training dataset is the largest portion of the entire dataset and is used to train the model. It forms the basis for our machine learning algorithms to learn from the patterns and relationships in the data. The model sees and learns from this data.\n",
    "\n",
    "Validation Data: The validation dataset provides an unbiased evaluation of the model fit on the training data while tuning the model's hyperparameters. It's used to prevent overfitting, which happens when a model learns the training data too well, picking up noise and outlier patterns. Overfit models perform well on the training data but poorly on unseen data, which is a problem considering our end goal is to make predictions on new, unseen data.\n",
    "\n",
    "Test Data: The test dataset provides the final unbiased estimate of the model's performance. It is only used once after the model has been finalized. It's crucial not to use the test data in the model building process to avoid \"data leakage\", which would give an overly optimistic estimate of the model's performance.\n",
    "\n",
    "![image.png](attachment:f43b2935-6d0b-47d6-8a14-6b27e1331c2f.png)\n",
    "\n",
    "In our case, we have an entire test dataset with 20,000 instances, and a training dataset contains 100,000 instances. Therefore, we will split them as follows:\n",
    "\n",
    "Training Data: 70,000 instances - This is the majority of our data and it will be used to train our model. We will expose this data to our algorithm to learn and create a fit for the data's patterns and relationships.\n",
    "\n",
    "Validation Data: 30,000 instances - This portion of the data will serve to provide an unbiased evaluation of our model fit during the training phase. It will allow us to tune our model's hyperparameters and assist in preventing overfitting.\n",
    "\n",
    "Test Data: 20,000 instances - This set will provide the final evaluation of our model. After all training and validation has been done, we will use this unseen data to get an unbiased estimate of how our model might expect to perform in a real-world scenario.\n",
    "\n",
    "Reference: http://tarangshah.com/blog/2017-12-03/train-validation-and-test-sets/"
   ]
  },
  {
   "cell_type": "code",
   "execution_count": 10,
   "id": "fd5f42f7",
   "metadata": {
    "execution": {
     "iopub.execute_input": "2023-09-23T19:48:51.389871Z",
     "iopub.status.busy": "2023-09-23T19:48:51.389035Z",
     "iopub.status.idle": "2023-09-23T19:48:51.494633Z",
     "shell.execute_reply": "2023-09-23T19:48:51.493542Z"
    },
    "papermill": {
     "duration": 0.12701,
     "end_time": "2023-09-23T19:48:51.497421",
     "exception": false,
     "start_time": "2023-09-23T19:48:51.370411",
     "status": "completed"
    },
    "tags": []
   },
   "outputs": [],
   "source": [
    "target = \"Panic Disorder Diagnosis\"\n",
    "\n",
    "X = df.drop(columns=target)\n",
    "y = df.loc[:, target]\n",
    "\n",
    "X_train, X_validation, y_train, y_validation = train_test_split(\n",
    "    X,\n",
    "    y,\n",
    "    test_size=0.3, \n",
    "    random_state=42\n",
    ")\n",
    "\n",
    "X_testing = testing_df.drop(columns=target)\n",
    "y_testing = testing_df.loc[:, target]"
   ]
  },
  {
   "cell_type": "code",
   "execution_count": 11,
   "id": "d419ed98",
   "metadata": {
    "execution": {
     "iopub.execute_input": "2023-09-23T19:48:51.535990Z",
     "iopub.status.busy": "2023-09-23T19:48:51.534829Z",
     "iopub.status.idle": "2023-09-23T19:48:51.541196Z",
     "shell.execute_reply": "2023-09-23T19:48:51.540004Z"
    },
    "papermill": {
     "duration": 0.027775,
     "end_time": "2023-09-23T19:48:51.543342",
     "exception": false,
     "start_time": "2023-09-23T19:48:51.515567",
     "status": "completed"
    },
    "tags": []
   },
   "outputs": [
    {
     "name": "stdout",
     "output_type": "stream",
     "text": [
      "Training size:  70000\n",
      "Validation size:  30000\n",
      "Testing size:  20000\n"
     ]
    }
   ],
   "source": [
    "print(\"Training size: \", X_train.shape[0])\n",
    "print(\"Validation size: \", X_validation.shape[0])\n",
    "print(\"Testing size: \", X_testing.shape[0])"
   ]
  },
  {
   "cell_type": "markdown",
   "id": "12030ebd",
   "metadata": {
    "papermill": {
     "duration": 0.017421,
     "end_time": "2023-09-23T19:48:51.578759",
     "exception": false,
     "start_time": "2023-09-23T19:48:51.561338",
     "status": "completed"
    },
    "tags": []
   },
   "source": [
    "### OneHotEncoder"
   ]
  },
  {
   "cell_type": "code",
   "execution_count": 12,
   "id": "74f63ce4",
   "metadata": {
    "execution": {
     "iopub.execute_input": "2023-09-23T19:48:51.615787Z",
     "iopub.status.busy": "2023-09-23T19:48:51.615384Z",
     "iopub.status.idle": "2023-09-23T19:48:52.198060Z",
     "shell.execute_reply": "2023-09-23T19:48:52.196915Z"
    },
    "papermill": {
     "duration": 0.604056,
     "end_time": "2023-09-23T19:48:52.200556",
     "exception": false,
     "start_time": "2023-09-23T19:48:51.596500",
     "status": "completed"
    },
    "tags": []
   },
   "outputs": [
    {
     "data": {
      "text/html": [
       "<div>\n",
       "<style scoped>\n",
       "    .dataframe tbody tr th:only-of-type {\n",
       "        vertical-align: middle;\n",
       "    }\n",
       "\n",
       "    .dataframe tbody tr th {\n",
       "        vertical-align: top;\n",
       "    }\n",
       "\n",
       "    .dataframe thead th {\n",
       "        text-align: right;\n",
       "    }\n",
       "</style>\n",
       "<table border=\"1\" class=\"dataframe\">\n",
       "  <thead>\n",
       "    <tr style=\"text-align: right;\">\n",
       "      <th></th>\n",
       "      <th>Gender_Female</th>\n",
       "      <th>Gender_Male</th>\n",
       "      <th>Family History_No</th>\n",
       "      <th>Family History_Yes</th>\n",
       "      <th>Personal History_No</th>\n",
       "      <th>Personal History_Yes</th>\n",
       "      <th>Current Stressors_High</th>\n",
       "      <th>Current Stressors_Low</th>\n",
       "      <th>Current Stressors_Moderate</th>\n",
       "      <th>Symptoms_Chest pain</th>\n",
       "      <th>...</th>\n",
       "      <th>Coping Mechanisms_Meditation</th>\n",
       "      <th>Coping Mechanisms_Seeking therapy</th>\n",
       "      <th>Coping Mechanisms_Socializing</th>\n",
       "      <th>Social Support_High</th>\n",
       "      <th>Social Support_Low</th>\n",
       "      <th>Social Support_Moderate</th>\n",
       "      <th>Lifestyle Factors_Diet</th>\n",
       "      <th>Lifestyle Factors_Exercise</th>\n",
       "      <th>Lifestyle Factors_Sleep quality</th>\n",
       "      <th>Age</th>\n",
       "    </tr>\n",
       "  </thead>\n",
       "  <tbody>\n",
       "    <tr>\n",
       "      <th>0</th>\n",
       "      <td>0.0</td>\n",
       "      <td>1.0</td>\n",
       "      <td>1.0</td>\n",
       "      <td>0.0</td>\n",
       "      <td>0.0</td>\n",
       "      <td>1.0</td>\n",
       "      <td>1.0</td>\n",
       "      <td>0.0</td>\n",
       "      <td>0.0</td>\n",
       "      <td>1.0</td>\n",
       "      <td>...</td>\n",
       "      <td>0.0</td>\n",
       "      <td>0.0</td>\n",
       "      <td>0.0</td>\n",
       "      <td>0.0</td>\n",
       "      <td>0.0</td>\n",
       "      <td>1.0</td>\n",
       "      <td>0.0</td>\n",
       "      <td>0.0</td>\n",
       "      <td>1.0</td>\n",
       "      <td>38</td>\n",
       "    </tr>\n",
       "    <tr>\n",
       "      <th>1</th>\n",
       "      <td>0.0</td>\n",
       "      <td>1.0</td>\n",
       "      <td>0.0</td>\n",
       "      <td>1.0</td>\n",
       "      <td>1.0</td>\n",
       "      <td>0.0</td>\n",
       "      <td>1.0</td>\n",
       "      <td>0.0</td>\n",
       "      <td>0.0</td>\n",
       "      <td>0.0</td>\n",
       "      <td>...</td>\n",
       "      <td>0.0</td>\n",
       "      <td>0.0</td>\n",
       "      <td>0.0</td>\n",
       "      <td>0.0</td>\n",
       "      <td>0.0</td>\n",
       "      <td>1.0</td>\n",
       "      <td>1.0</td>\n",
       "      <td>0.0</td>\n",
       "      <td>0.0</td>\n",
       "      <td>22</td>\n",
       "    </tr>\n",
       "    <tr>\n",
       "      <th>2</th>\n",
       "      <td>1.0</td>\n",
       "      <td>0.0</td>\n",
       "      <td>0.0</td>\n",
       "      <td>1.0</td>\n",
       "      <td>1.0</td>\n",
       "      <td>0.0</td>\n",
       "      <td>0.0</td>\n",
       "      <td>1.0</td>\n",
       "      <td>0.0</td>\n",
       "      <td>0.0</td>\n",
       "      <td>...</td>\n",
       "      <td>0.0</td>\n",
       "      <td>0.0</td>\n",
       "      <td>0.0</td>\n",
       "      <td>0.0</td>\n",
       "      <td>0.0</td>\n",
       "      <td>1.0</td>\n",
       "      <td>0.0</td>\n",
       "      <td>0.0</td>\n",
       "      <td>1.0</td>\n",
       "      <td>27</td>\n",
       "    </tr>\n",
       "    <tr>\n",
       "      <th>3</th>\n",
       "      <td>1.0</td>\n",
       "      <td>0.0</td>\n",
       "      <td>0.0</td>\n",
       "      <td>1.0</td>\n",
       "      <td>1.0</td>\n",
       "      <td>0.0</td>\n",
       "      <td>0.0</td>\n",
       "      <td>0.0</td>\n",
       "      <td>1.0</td>\n",
       "      <td>0.0</td>\n",
       "      <td>...</td>\n",
       "      <td>0.0</td>\n",
       "      <td>0.0</td>\n",
       "      <td>0.0</td>\n",
       "      <td>0.0</td>\n",
       "      <td>0.0</td>\n",
       "      <td>1.0</td>\n",
       "      <td>0.0</td>\n",
       "      <td>1.0</td>\n",
       "      <td>0.0</td>\n",
       "      <td>33</td>\n",
       "    </tr>\n",
       "    <tr>\n",
       "      <th>4</th>\n",
       "      <td>0.0</td>\n",
       "      <td>1.0</td>\n",
       "      <td>1.0</td>\n",
       "      <td>0.0</td>\n",
       "      <td>0.0</td>\n",
       "      <td>1.0</td>\n",
       "      <td>0.0</td>\n",
       "      <td>1.0</td>\n",
       "      <td>0.0</td>\n",
       "      <td>0.0</td>\n",
       "      <td>...</td>\n",
       "      <td>1.0</td>\n",
       "      <td>0.0</td>\n",
       "      <td>0.0</td>\n",
       "      <td>0.0</td>\n",
       "      <td>0.0</td>\n",
       "      <td>1.0</td>\n",
       "      <td>0.0</td>\n",
       "      <td>0.0</td>\n",
       "      <td>1.0</td>\n",
       "      <td>25</td>\n",
       "    </tr>\n",
       "  </tbody>\n",
       "</table>\n",
       "<p>5 rows × 44 columns</p>\n",
       "</div>"
      ],
      "text/plain": [
       "   Gender_Female  Gender_Male  Family History_No  Family History_Yes  \\\n",
       "0            0.0          1.0                1.0                 0.0   \n",
       "1            0.0          1.0                0.0                 1.0   \n",
       "2            1.0          0.0                0.0                 1.0   \n",
       "3            1.0          0.0                0.0                 1.0   \n",
       "4            0.0          1.0                1.0                 0.0   \n",
       "\n",
       "   Personal History_No  Personal History_Yes  Current Stressors_High  \\\n",
       "0                  0.0                   1.0                     1.0   \n",
       "1                  1.0                   0.0                     1.0   \n",
       "2                  1.0                   0.0                     0.0   \n",
       "3                  1.0                   0.0                     0.0   \n",
       "4                  0.0                   1.0                     0.0   \n",
       "\n",
       "   Current Stressors_Low  Current Stressors_Moderate  Symptoms_Chest pain  \\\n",
       "0                    0.0                         0.0                  1.0   \n",
       "1                    0.0                         0.0                  0.0   \n",
       "2                    1.0                         0.0                  0.0   \n",
       "3                    0.0                         1.0                  0.0   \n",
       "4                    1.0                         0.0                  0.0   \n",
       "\n",
       "   ...  Coping Mechanisms_Meditation  Coping Mechanisms_Seeking therapy  \\\n",
       "0  ...                           0.0                                0.0   \n",
       "1  ...                           0.0                                0.0   \n",
       "2  ...                           0.0                                0.0   \n",
       "3  ...                           0.0                                0.0   \n",
       "4  ...                           1.0                                0.0   \n",
       "\n",
       "   Coping Mechanisms_Socializing  Social Support_High  Social Support_Low  \\\n",
       "0                            0.0                  0.0                 0.0   \n",
       "1                            0.0                  0.0                 0.0   \n",
       "2                            0.0                  0.0                 0.0   \n",
       "3                            0.0                  0.0                 0.0   \n",
       "4                            0.0                  0.0                 0.0   \n",
       "\n",
       "   Social Support_Moderate  Lifestyle Factors_Diet  \\\n",
       "0                      1.0                     0.0   \n",
       "1                      1.0                     1.0   \n",
       "2                      1.0                     0.0   \n",
       "3                      1.0                     0.0   \n",
       "4                      1.0                     0.0   \n",
       "\n",
       "   Lifestyle Factors_Exercise  Lifestyle Factors_Sleep quality  Age  \n",
       "0                         0.0                              1.0   38  \n",
       "1                         0.0                              0.0   22  \n",
       "2                         0.0                              1.0   27  \n",
       "3                         1.0                              0.0   33  \n",
       "4                         0.0                              1.0   25  \n",
       "\n",
       "[5 rows x 44 columns]"
      ]
     },
     "execution_count": 12,
     "metadata": {},
     "output_type": "execute_result"
    }
   ],
   "source": [
    "age_train = X_train.loc[:, \"Age\"].copy().reset_index(drop=True)\n",
    "categorical_columns_train = X_train.select_dtypes(include=['object']).columns\n",
    "\n",
    "encoder = OneHotEncoder(sparse_output=False, handle_unknown='ignore')\n",
    "X_train_categorical_encoded = encoder.fit_transform(X_train[categorical_columns_train])\n",
    "X_train_encoded = pd.DataFrame(X_train_categorical_encoded, columns=encoder.get_feature_names_out(categorical_columns_train))\n",
    "X_train_preprocessed = pd.concat([X_train_encoded, age_train], axis=1)\n",
    "\n",
    "X_train_preprocessed.head()"
   ]
  },
  {
   "cell_type": "code",
   "execution_count": 13,
   "id": "4529cecb",
   "metadata": {
    "execution": {
     "iopub.execute_input": "2023-09-23T19:48:52.238376Z",
     "iopub.status.busy": "2023-09-23T19:48:52.237941Z",
     "iopub.status.idle": "2023-09-23T19:48:52.561221Z",
     "shell.execute_reply": "2023-09-23T19:48:52.560009Z"
    },
    "papermill": {
     "duration": 0.345594,
     "end_time": "2023-09-23T19:48:52.564126",
     "exception": false,
     "start_time": "2023-09-23T19:48:52.218532",
     "status": "completed"
    },
    "tags": []
   },
   "outputs": [],
   "source": [
    "def encode_categorical_features(df: pd.DataFrame, columns_to_encode: list, encoder: OneHotEncoder) -> pd.DataFrame:\n",
    "    age = df.loc[:, \"Age\"].copy().reset_index(drop=True)\n",
    "\n",
    "    df_categorical_encoded = encoder.transform(df[columns_to_encode])\n",
    "    df_encoded = pd.DataFrame(df_categorical_encoded, columns=encoder.get_feature_names_out(columns_to_encode))\n",
    "    df_preprocessed = pd.concat([df_encoded, age], axis=1)\n",
    "\n",
    "    return df_preprocessed\n",
    "\n",
    "X_validation_preprocessed = encode_categorical_features(df=X_validation, columns_to_encode=categorical_columns_train, encoder=encoder)\n",
    "X_testing_preprocessed = encode_categorical_features(df=X_testing, columns_to_encode=categorical_columns_train, encoder=encoder)"
   ]
  },
  {
   "cell_type": "code",
   "execution_count": 14,
   "id": "b76f6a09",
   "metadata": {
    "execution": {
     "iopub.execute_input": "2023-09-23T19:48:52.603244Z",
     "iopub.status.busy": "2023-09-23T19:48:52.601992Z",
     "iopub.status.idle": "2023-09-23T19:48:52.638528Z",
     "shell.execute_reply": "2023-09-23T19:48:52.637675Z"
    },
    "papermill": {
     "duration": 0.058246,
     "end_time": "2023-09-23T19:48:52.640989",
     "exception": false,
     "start_time": "2023-09-23T19:48:52.582743",
     "status": "completed"
    },
    "tags": []
   },
   "outputs": [
    {
     "data": {
      "text/html": [
       "<div>\n",
       "<style scoped>\n",
       "    .dataframe tbody tr th:only-of-type {\n",
       "        vertical-align: middle;\n",
       "    }\n",
       "\n",
       "    .dataframe tbody tr th {\n",
       "        vertical-align: top;\n",
       "    }\n",
       "\n",
       "    .dataframe thead th {\n",
       "        text-align: right;\n",
       "    }\n",
       "</style>\n",
       "<table border=\"1\" class=\"dataframe\">\n",
       "  <thead>\n",
       "    <tr style=\"text-align: right;\">\n",
       "      <th></th>\n",
       "      <th>Gender_Female</th>\n",
       "      <th>Gender_Male</th>\n",
       "      <th>Family History_No</th>\n",
       "      <th>Family History_Yes</th>\n",
       "      <th>Personal History_No</th>\n",
       "      <th>Personal History_Yes</th>\n",
       "      <th>Current Stressors_High</th>\n",
       "      <th>Current Stressors_Low</th>\n",
       "      <th>Current Stressors_Moderate</th>\n",
       "      <th>Symptoms_Chest pain</th>\n",
       "      <th>...</th>\n",
       "      <th>Coping Mechanisms_Meditation</th>\n",
       "      <th>Coping Mechanisms_Seeking therapy</th>\n",
       "      <th>Coping Mechanisms_Socializing</th>\n",
       "      <th>Social Support_High</th>\n",
       "      <th>Social Support_Low</th>\n",
       "      <th>Social Support_Moderate</th>\n",
       "      <th>Lifestyle Factors_Diet</th>\n",
       "      <th>Lifestyle Factors_Exercise</th>\n",
       "      <th>Lifestyle Factors_Sleep quality</th>\n",
       "      <th>Age</th>\n",
       "    </tr>\n",
       "  </thead>\n",
       "  <tbody>\n",
       "    <tr>\n",
       "      <th>0</th>\n",
       "      <td>1.0</td>\n",
       "      <td>0.0</td>\n",
       "      <td>1.0</td>\n",
       "      <td>0.0</td>\n",
       "      <td>1.0</td>\n",
       "      <td>0.0</td>\n",
       "      <td>0.0</td>\n",
       "      <td>1.0</td>\n",
       "      <td>0.0</td>\n",
       "      <td>0.0</td>\n",
       "      <td>...</td>\n",
       "      <td>0.0</td>\n",
       "      <td>0.0</td>\n",
       "      <td>0.0</td>\n",
       "      <td>1.0</td>\n",
       "      <td>0.0</td>\n",
       "      <td>0.0</td>\n",
       "      <td>1.0</td>\n",
       "      <td>0.0</td>\n",
       "      <td>0.0</td>\n",
       "      <td>55</td>\n",
       "    </tr>\n",
       "    <tr>\n",
       "      <th>1</th>\n",
       "      <td>0.0</td>\n",
       "      <td>1.0</td>\n",
       "      <td>1.0</td>\n",
       "      <td>0.0</td>\n",
       "      <td>1.0</td>\n",
       "      <td>0.0</td>\n",
       "      <td>1.0</td>\n",
       "      <td>0.0</td>\n",
       "      <td>0.0</td>\n",
       "      <td>1.0</td>\n",
       "      <td>...</td>\n",
       "      <td>1.0</td>\n",
       "      <td>0.0</td>\n",
       "      <td>0.0</td>\n",
       "      <td>1.0</td>\n",
       "      <td>0.0</td>\n",
       "      <td>0.0</td>\n",
       "      <td>0.0</td>\n",
       "      <td>0.0</td>\n",
       "      <td>1.0</td>\n",
       "      <td>54</td>\n",
       "    </tr>\n",
       "    <tr>\n",
       "      <th>2</th>\n",
       "      <td>1.0</td>\n",
       "      <td>0.0</td>\n",
       "      <td>0.0</td>\n",
       "      <td>1.0</td>\n",
       "      <td>1.0</td>\n",
       "      <td>0.0</td>\n",
       "      <td>1.0</td>\n",
       "      <td>0.0</td>\n",
       "      <td>0.0</td>\n",
       "      <td>0.0</td>\n",
       "      <td>...</td>\n",
       "      <td>0.0</td>\n",
       "      <td>0.0</td>\n",
       "      <td>0.0</td>\n",
       "      <td>0.0</td>\n",
       "      <td>1.0</td>\n",
       "      <td>0.0</td>\n",
       "      <td>0.0</td>\n",
       "      <td>1.0</td>\n",
       "      <td>0.0</td>\n",
       "      <td>32</td>\n",
       "    </tr>\n",
       "    <tr>\n",
       "      <th>3</th>\n",
       "      <td>1.0</td>\n",
       "      <td>0.0</td>\n",
       "      <td>0.0</td>\n",
       "      <td>1.0</td>\n",
       "      <td>1.0</td>\n",
       "      <td>0.0</td>\n",
       "      <td>1.0</td>\n",
       "      <td>0.0</td>\n",
       "      <td>0.0</td>\n",
       "      <td>0.0</td>\n",
       "      <td>...</td>\n",
       "      <td>0.0</td>\n",
       "      <td>0.0</td>\n",
       "      <td>1.0</td>\n",
       "      <td>0.0</td>\n",
       "      <td>1.0</td>\n",
       "      <td>0.0</td>\n",
       "      <td>0.0</td>\n",
       "      <td>1.0</td>\n",
       "      <td>0.0</td>\n",
       "      <td>49</td>\n",
       "    </tr>\n",
       "    <tr>\n",
       "      <th>4</th>\n",
       "      <td>1.0</td>\n",
       "      <td>0.0</td>\n",
       "      <td>0.0</td>\n",
       "      <td>1.0</td>\n",
       "      <td>0.0</td>\n",
       "      <td>1.0</td>\n",
       "      <td>0.0</td>\n",
       "      <td>0.0</td>\n",
       "      <td>1.0</td>\n",
       "      <td>0.0</td>\n",
       "      <td>...</td>\n",
       "      <td>0.0</td>\n",
       "      <td>1.0</td>\n",
       "      <td>0.0</td>\n",
       "      <td>1.0</td>\n",
       "      <td>0.0</td>\n",
       "      <td>0.0</td>\n",
       "      <td>0.0</td>\n",
       "      <td>0.0</td>\n",
       "      <td>1.0</td>\n",
       "      <td>40</td>\n",
       "    </tr>\n",
       "  </tbody>\n",
       "</table>\n",
       "<p>5 rows × 44 columns</p>\n",
       "</div>"
      ],
      "text/plain": [
       "   Gender_Female  Gender_Male  Family History_No  Family History_Yes  \\\n",
       "0            1.0          0.0                1.0                 0.0   \n",
       "1            0.0          1.0                1.0                 0.0   \n",
       "2            1.0          0.0                0.0                 1.0   \n",
       "3            1.0          0.0                0.0                 1.0   \n",
       "4            1.0          0.0                0.0                 1.0   \n",
       "\n",
       "   Personal History_No  Personal History_Yes  Current Stressors_High  \\\n",
       "0                  1.0                   0.0                     0.0   \n",
       "1                  1.0                   0.0                     1.0   \n",
       "2                  1.0                   0.0                     1.0   \n",
       "3                  1.0                   0.0                     1.0   \n",
       "4                  0.0                   1.0                     0.0   \n",
       "\n",
       "   Current Stressors_Low  Current Stressors_Moderate  Symptoms_Chest pain  \\\n",
       "0                    1.0                         0.0                  0.0   \n",
       "1                    0.0                         0.0                  1.0   \n",
       "2                    0.0                         0.0                  0.0   \n",
       "3                    0.0                         0.0                  0.0   \n",
       "4                    0.0                         1.0                  0.0   \n",
       "\n",
       "   ...  Coping Mechanisms_Meditation  Coping Mechanisms_Seeking therapy  \\\n",
       "0  ...                           0.0                                0.0   \n",
       "1  ...                           1.0                                0.0   \n",
       "2  ...                           0.0                                0.0   \n",
       "3  ...                           0.0                                0.0   \n",
       "4  ...                           0.0                                1.0   \n",
       "\n",
       "   Coping Mechanisms_Socializing  Social Support_High  Social Support_Low  \\\n",
       "0                            0.0                  1.0                 0.0   \n",
       "1                            0.0                  1.0                 0.0   \n",
       "2                            0.0                  0.0                 1.0   \n",
       "3                            1.0                  0.0                 1.0   \n",
       "4                            0.0                  1.0                 0.0   \n",
       "\n",
       "   Social Support_Moderate  Lifestyle Factors_Diet  \\\n",
       "0                      0.0                     1.0   \n",
       "1                      0.0                     0.0   \n",
       "2                      0.0                     0.0   \n",
       "3                      0.0                     0.0   \n",
       "4                      0.0                     0.0   \n",
       "\n",
       "   Lifestyle Factors_Exercise  Lifestyle Factors_Sleep quality  Age  \n",
       "0                         0.0                              0.0   55  \n",
       "1                         0.0                              1.0   54  \n",
       "2                         1.0                              0.0   32  \n",
       "3                         1.0                              0.0   49  \n",
       "4                         0.0                              1.0   40  \n",
       "\n",
       "[5 rows x 44 columns]"
      ]
     },
     "execution_count": 14,
     "metadata": {},
     "output_type": "execute_result"
    }
   ],
   "source": [
    "X_validation_preprocessed.head()"
   ]
  },
  {
   "cell_type": "code",
   "execution_count": 15,
   "id": "b43621c7",
   "metadata": {
    "execution": {
     "iopub.execute_input": "2023-09-23T19:48:52.680472Z",
     "iopub.status.busy": "2023-09-23T19:48:52.679762Z",
     "iopub.status.idle": "2023-09-23T19:48:52.713134Z",
     "shell.execute_reply": "2023-09-23T19:48:52.711906Z"
    },
    "papermill": {
     "duration": 0.055853,
     "end_time": "2023-09-23T19:48:52.715757",
     "exception": false,
     "start_time": "2023-09-23T19:48:52.659904",
     "status": "completed"
    },
    "tags": []
   },
   "outputs": [
    {
     "data": {
      "text/html": [
       "<div>\n",
       "<style scoped>\n",
       "    .dataframe tbody tr th:only-of-type {\n",
       "        vertical-align: middle;\n",
       "    }\n",
       "\n",
       "    .dataframe tbody tr th {\n",
       "        vertical-align: top;\n",
       "    }\n",
       "\n",
       "    .dataframe thead th {\n",
       "        text-align: right;\n",
       "    }\n",
       "</style>\n",
       "<table border=\"1\" class=\"dataframe\">\n",
       "  <thead>\n",
       "    <tr style=\"text-align: right;\">\n",
       "      <th></th>\n",
       "      <th>Gender_Female</th>\n",
       "      <th>Gender_Male</th>\n",
       "      <th>Family History_No</th>\n",
       "      <th>Family History_Yes</th>\n",
       "      <th>Personal History_No</th>\n",
       "      <th>Personal History_Yes</th>\n",
       "      <th>Current Stressors_High</th>\n",
       "      <th>Current Stressors_Low</th>\n",
       "      <th>Current Stressors_Moderate</th>\n",
       "      <th>Symptoms_Chest pain</th>\n",
       "      <th>...</th>\n",
       "      <th>Coping Mechanisms_Meditation</th>\n",
       "      <th>Coping Mechanisms_Seeking therapy</th>\n",
       "      <th>Coping Mechanisms_Socializing</th>\n",
       "      <th>Social Support_High</th>\n",
       "      <th>Social Support_Low</th>\n",
       "      <th>Social Support_Moderate</th>\n",
       "      <th>Lifestyle Factors_Diet</th>\n",
       "      <th>Lifestyle Factors_Exercise</th>\n",
       "      <th>Lifestyle Factors_Sleep quality</th>\n",
       "      <th>Age</th>\n",
       "    </tr>\n",
       "  </thead>\n",
       "  <tbody>\n",
       "    <tr>\n",
       "      <th>0</th>\n",
       "      <td>0.0</td>\n",
       "      <td>1.0</td>\n",
       "      <td>0.0</td>\n",
       "      <td>1.0</td>\n",
       "      <td>1.0</td>\n",
       "      <td>0.0</td>\n",
       "      <td>1.0</td>\n",
       "      <td>0.0</td>\n",
       "      <td>0.0</td>\n",
       "      <td>0.0</td>\n",
       "      <td>...</td>\n",
       "      <td>0.0</td>\n",
       "      <td>1.0</td>\n",
       "      <td>0.0</td>\n",
       "      <td>0.0</td>\n",
       "      <td>1.0</td>\n",
       "      <td>0.0</td>\n",
       "      <td>0.0</td>\n",
       "      <td>1.0</td>\n",
       "      <td>0.0</td>\n",
       "      <td>41</td>\n",
       "    </tr>\n",
       "    <tr>\n",
       "      <th>1</th>\n",
       "      <td>1.0</td>\n",
       "      <td>0.0</td>\n",
       "      <td>0.0</td>\n",
       "      <td>1.0</td>\n",
       "      <td>1.0</td>\n",
       "      <td>0.0</td>\n",
       "      <td>0.0</td>\n",
       "      <td>1.0</td>\n",
       "      <td>0.0</td>\n",
       "      <td>0.0</td>\n",
       "      <td>...</td>\n",
       "      <td>0.0</td>\n",
       "      <td>0.0</td>\n",
       "      <td>0.0</td>\n",
       "      <td>1.0</td>\n",
       "      <td>0.0</td>\n",
       "      <td>0.0</td>\n",
       "      <td>1.0</td>\n",
       "      <td>0.0</td>\n",
       "      <td>0.0</td>\n",
       "      <td>20</td>\n",
       "    </tr>\n",
       "    <tr>\n",
       "      <th>2</th>\n",
       "      <td>0.0</td>\n",
       "      <td>1.0</td>\n",
       "      <td>0.0</td>\n",
       "      <td>1.0</td>\n",
       "      <td>0.0</td>\n",
       "      <td>1.0</td>\n",
       "      <td>1.0</td>\n",
       "      <td>0.0</td>\n",
       "      <td>0.0</td>\n",
       "      <td>0.0</td>\n",
       "      <td>...</td>\n",
       "      <td>1.0</td>\n",
       "      <td>0.0</td>\n",
       "      <td>0.0</td>\n",
       "      <td>0.0</td>\n",
       "      <td>0.0</td>\n",
       "      <td>1.0</td>\n",
       "      <td>0.0</td>\n",
       "      <td>1.0</td>\n",
       "      <td>0.0</td>\n",
       "      <td>32</td>\n",
       "    </tr>\n",
       "    <tr>\n",
       "      <th>3</th>\n",
       "      <td>1.0</td>\n",
       "      <td>0.0</td>\n",
       "      <td>0.0</td>\n",
       "      <td>1.0</td>\n",
       "      <td>0.0</td>\n",
       "      <td>1.0</td>\n",
       "      <td>0.0</td>\n",
       "      <td>0.0</td>\n",
       "      <td>1.0</td>\n",
       "      <td>0.0</td>\n",
       "      <td>...</td>\n",
       "      <td>0.0</td>\n",
       "      <td>0.0</td>\n",
       "      <td>0.0</td>\n",
       "      <td>1.0</td>\n",
       "      <td>0.0</td>\n",
       "      <td>0.0</td>\n",
       "      <td>0.0</td>\n",
       "      <td>0.0</td>\n",
       "      <td>1.0</td>\n",
       "      <td>41</td>\n",
       "    </tr>\n",
       "    <tr>\n",
       "      <th>4</th>\n",
       "      <td>1.0</td>\n",
       "      <td>0.0</td>\n",
       "      <td>0.0</td>\n",
       "      <td>1.0</td>\n",
       "      <td>1.0</td>\n",
       "      <td>0.0</td>\n",
       "      <td>1.0</td>\n",
       "      <td>0.0</td>\n",
       "      <td>0.0</td>\n",
       "      <td>1.0</td>\n",
       "      <td>...</td>\n",
       "      <td>0.0</td>\n",
       "      <td>1.0</td>\n",
       "      <td>0.0</td>\n",
       "      <td>0.0</td>\n",
       "      <td>1.0</td>\n",
       "      <td>0.0</td>\n",
       "      <td>0.0</td>\n",
       "      <td>1.0</td>\n",
       "      <td>0.0</td>\n",
       "      <td>36</td>\n",
       "    </tr>\n",
       "  </tbody>\n",
       "</table>\n",
       "<p>5 rows × 44 columns</p>\n",
       "</div>"
      ],
      "text/plain": [
       "   Gender_Female  Gender_Male  Family History_No  Family History_Yes  \\\n",
       "0            0.0          1.0                0.0                 1.0   \n",
       "1            1.0          0.0                0.0                 1.0   \n",
       "2            0.0          1.0                0.0                 1.0   \n",
       "3            1.0          0.0                0.0                 1.0   \n",
       "4            1.0          0.0                0.0                 1.0   \n",
       "\n",
       "   Personal History_No  Personal History_Yes  Current Stressors_High  \\\n",
       "0                  1.0                   0.0                     1.0   \n",
       "1                  1.0                   0.0                     0.0   \n",
       "2                  0.0                   1.0                     1.0   \n",
       "3                  0.0                   1.0                     0.0   \n",
       "4                  1.0                   0.0                     1.0   \n",
       "\n",
       "   Current Stressors_Low  Current Stressors_Moderate  Symptoms_Chest pain  \\\n",
       "0                    0.0                         0.0                  0.0   \n",
       "1                    1.0                         0.0                  0.0   \n",
       "2                    0.0                         0.0                  0.0   \n",
       "3                    0.0                         1.0                  0.0   \n",
       "4                    0.0                         0.0                  1.0   \n",
       "\n",
       "   ...  Coping Mechanisms_Meditation  Coping Mechanisms_Seeking therapy  \\\n",
       "0  ...                           0.0                                1.0   \n",
       "1  ...                           0.0                                0.0   \n",
       "2  ...                           1.0                                0.0   \n",
       "3  ...                           0.0                                0.0   \n",
       "4  ...                           0.0                                1.0   \n",
       "\n",
       "   Coping Mechanisms_Socializing  Social Support_High  Social Support_Low  \\\n",
       "0                            0.0                  0.0                 1.0   \n",
       "1                            0.0                  1.0                 0.0   \n",
       "2                            0.0                  0.0                 0.0   \n",
       "3                            0.0                  1.0                 0.0   \n",
       "4                            0.0                  0.0                 1.0   \n",
       "\n",
       "   Social Support_Moderate  Lifestyle Factors_Diet  \\\n",
       "0                      0.0                     0.0   \n",
       "1                      0.0                     1.0   \n",
       "2                      1.0                     0.0   \n",
       "3                      0.0                     0.0   \n",
       "4                      0.0                     0.0   \n",
       "\n",
       "   Lifestyle Factors_Exercise  Lifestyle Factors_Sleep quality  Age  \n",
       "0                         1.0                              0.0   41  \n",
       "1                         0.0                              0.0   20  \n",
       "2                         1.0                              0.0   32  \n",
       "3                         0.0                              1.0   41  \n",
       "4                         1.0                              0.0   36  \n",
       "\n",
       "[5 rows x 44 columns]"
      ]
     },
     "execution_count": 15,
     "metadata": {},
     "output_type": "execute_result"
    }
   ],
   "source": [
    "X_testing_preprocessed.head()"
   ]
  },
  {
   "cell_type": "code",
   "execution_count": 16,
   "id": "a76e2773",
   "metadata": {
    "execution": {
     "iopub.execute_input": "2023-09-23T19:48:52.754778Z",
     "iopub.status.busy": "2023-09-23T19:48:52.754147Z",
     "iopub.status.idle": "2023-09-23T19:48:53.002204Z",
     "shell.execute_reply": "2023-09-23T19:48:53.001098Z"
    },
    "papermill": {
     "duration": 0.270315,
     "end_time": "2023-09-23T19:48:53.004476",
     "exception": false,
     "start_time": "2023-09-23T19:48:52.734161",
     "status": "completed"
    },
    "tags": []
   },
   "outputs": [
    {
     "data": {
      "text/html": [
       "<div>\n",
       "<style scoped>\n",
       "    .dataframe tbody tr th:only-of-type {\n",
       "        vertical-align: middle;\n",
       "    }\n",
       "\n",
       "    .dataframe tbody tr th {\n",
       "        vertical-align: top;\n",
       "    }\n",
       "\n",
       "    .dataframe thead th {\n",
       "        text-align: right;\n",
       "    }\n",
       "</style>\n",
       "<table border=\"1\" class=\"dataframe\">\n",
       "  <thead>\n",
       "    <tr style=\"text-align: right;\">\n",
       "      <th></th>\n",
       "      <th>Gender_Female</th>\n",
       "      <th>Gender_Male</th>\n",
       "      <th>Family History_No</th>\n",
       "      <th>Family History_Yes</th>\n",
       "      <th>Personal History_No</th>\n",
       "      <th>Personal History_Yes</th>\n",
       "      <th>Current Stressors_High</th>\n",
       "      <th>Current Stressors_Low</th>\n",
       "      <th>Current Stressors_Moderate</th>\n",
       "      <th>Symptoms_Chest pain</th>\n",
       "      <th>...</th>\n",
       "      <th>Coping Mechanisms_Meditation</th>\n",
       "      <th>Coping Mechanisms_Seeking therapy</th>\n",
       "      <th>Coping Mechanisms_Socializing</th>\n",
       "      <th>Social Support_High</th>\n",
       "      <th>Social Support_Low</th>\n",
       "      <th>Social Support_Moderate</th>\n",
       "      <th>Lifestyle Factors_Diet</th>\n",
       "      <th>Lifestyle Factors_Exercise</th>\n",
       "      <th>Lifestyle Factors_Sleep quality</th>\n",
       "      <th>Age</th>\n",
       "    </tr>\n",
       "  </thead>\n",
       "  <tbody>\n",
       "    <tr>\n",
       "      <th>0</th>\n",
       "      <td>1.0</td>\n",
       "      <td>0.0</td>\n",
       "      <td>1.0</td>\n",
       "      <td>0.0</td>\n",
       "      <td>1.0</td>\n",
       "      <td>0.0</td>\n",
       "      <td>0.0</td>\n",
       "      <td>1.0</td>\n",
       "      <td>0.0</td>\n",
       "      <td>0.0</td>\n",
       "      <td>...</td>\n",
       "      <td>0.0</td>\n",
       "      <td>0.0</td>\n",
       "      <td>0.0</td>\n",
       "      <td>1.0</td>\n",
       "      <td>0.0</td>\n",
       "      <td>0.0</td>\n",
       "      <td>1.0</td>\n",
       "      <td>0.0</td>\n",
       "      <td>0.0</td>\n",
       "      <td>NaN</td>\n",
       "    </tr>\n",
       "    <tr>\n",
       "      <th>1</th>\n",
       "      <td>0.0</td>\n",
       "      <td>1.0</td>\n",
       "      <td>1.0</td>\n",
       "      <td>0.0</td>\n",
       "      <td>1.0</td>\n",
       "      <td>0.0</td>\n",
       "      <td>1.0</td>\n",
       "      <td>0.0</td>\n",
       "      <td>0.0</td>\n",
       "      <td>1.0</td>\n",
       "      <td>...</td>\n",
       "      <td>1.0</td>\n",
       "      <td>0.0</td>\n",
       "      <td>0.0</td>\n",
       "      <td>1.0</td>\n",
       "      <td>0.0</td>\n",
       "      <td>0.0</td>\n",
       "      <td>0.0</td>\n",
       "      <td>0.0</td>\n",
       "      <td>1.0</td>\n",
       "      <td>NaN</td>\n",
       "    </tr>\n",
       "    <tr>\n",
       "      <th>2</th>\n",
       "      <td>1.0</td>\n",
       "      <td>0.0</td>\n",
       "      <td>0.0</td>\n",
       "      <td>1.0</td>\n",
       "      <td>1.0</td>\n",
       "      <td>0.0</td>\n",
       "      <td>1.0</td>\n",
       "      <td>0.0</td>\n",
       "      <td>0.0</td>\n",
       "      <td>0.0</td>\n",
       "      <td>...</td>\n",
       "      <td>0.0</td>\n",
       "      <td>0.0</td>\n",
       "      <td>0.0</td>\n",
       "      <td>0.0</td>\n",
       "      <td>1.0</td>\n",
       "      <td>0.0</td>\n",
       "      <td>0.0</td>\n",
       "      <td>1.0</td>\n",
       "      <td>0.0</td>\n",
       "      <td>NaN</td>\n",
       "    </tr>\n",
       "    <tr>\n",
       "      <th>3</th>\n",
       "      <td>1.0</td>\n",
       "      <td>0.0</td>\n",
       "      <td>0.0</td>\n",
       "      <td>1.0</td>\n",
       "      <td>1.0</td>\n",
       "      <td>0.0</td>\n",
       "      <td>1.0</td>\n",
       "      <td>0.0</td>\n",
       "      <td>0.0</td>\n",
       "      <td>0.0</td>\n",
       "      <td>...</td>\n",
       "      <td>0.0</td>\n",
       "      <td>0.0</td>\n",
       "      <td>1.0</td>\n",
       "      <td>0.0</td>\n",
       "      <td>1.0</td>\n",
       "      <td>0.0</td>\n",
       "      <td>0.0</td>\n",
       "      <td>1.0</td>\n",
       "      <td>0.0</td>\n",
       "      <td>NaN</td>\n",
       "    </tr>\n",
       "    <tr>\n",
       "      <th>4</th>\n",
       "      <td>1.0</td>\n",
       "      <td>0.0</td>\n",
       "      <td>0.0</td>\n",
       "      <td>1.0</td>\n",
       "      <td>0.0</td>\n",
       "      <td>1.0</td>\n",
       "      <td>0.0</td>\n",
       "      <td>0.0</td>\n",
       "      <td>1.0</td>\n",
       "      <td>0.0</td>\n",
       "      <td>...</td>\n",
       "      <td>0.0</td>\n",
       "      <td>1.0</td>\n",
       "      <td>0.0</td>\n",
       "      <td>1.0</td>\n",
       "      <td>0.0</td>\n",
       "      <td>0.0</td>\n",
       "      <td>0.0</td>\n",
       "      <td>0.0</td>\n",
       "      <td>1.0</td>\n",
       "      <td>NaN</td>\n",
       "    </tr>\n",
       "  </tbody>\n",
       "</table>\n",
       "<p>5 rows × 44 columns</p>\n",
       "</div>"
      ],
      "text/plain": [
       "   Gender_Female  Gender_Male  Family History_No  Family History_Yes  \\\n",
       "0            1.0          0.0                1.0                 0.0   \n",
       "1            0.0          1.0                1.0                 0.0   \n",
       "2            1.0          0.0                0.0                 1.0   \n",
       "3            1.0          0.0                0.0                 1.0   \n",
       "4            1.0          0.0                0.0                 1.0   \n",
       "\n",
       "   Personal History_No  Personal History_Yes  Current Stressors_High  \\\n",
       "0                  1.0                   0.0                     0.0   \n",
       "1                  1.0                   0.0                     1.0   \n",
       "2                  1.0                   0.0                     1.0   \n",
       "3                  1.0                   0.0                     1.0   \n",
       "4                  0.0                   1.0                     0.0   \n",
       "\n",
       "   Current Stressors_Low  Current Stressors_Moderate  Symptoms_Chest pain  \\\n",
       "0                    1.0                         0.0                  0.0   \n",
       "1                    0.0                         0.0                  1.0   \n",
       "2                    0.0                         0.0                  0.0   \n",
       "3                    0.0                         0.0                  0.0   \n",
       "4                    0.0                         1.0                  0.0   \n",
       "\n",
       "   ...  Coping Mechanisms_Meditation  Coping Mechanisms_Seeking therapy  \\\n",
       "0  ...                           0.0                                0.0   \n",
       "1  ...                           1.0                                0.0   \n",
       "2  ...                           0.0                                0.0   \n",
       "3  ...                           0.0                                0.0   \n",
       "4  ...                           0.0                                1.0   \n",
       "\n",
       "   Coping Mechanisms_Socializing  Social Support_High  Social Support_Low  \\\n",
       "0                            0.0                  1.0                 0.0   \n",
       "1                            0.0                  1.0                 0.0   \n",
       "2                            0.0                  0.0                 1.0   \n",
       "3                            1.0                  0.0                 1.0   \n",
       "4                            0.0                  1.0                 0.0   \n",
       "\n",
       "   Social Support_Moderate  Lifestyle Factors_Diet  \\\n",
       "0                      0.0                     1.0   \n",
       "1                      0.0                     0.0   \n",
       "2                      0.0                     0.0   \n",
       "3                      0.0                     0.0   \n",
       "4                      0.0                     0.0   \n",
       "\n",
       "   Lifestyle Factors_Exercise  Lifestyle Factors_Sleep quality  Age  \n",
       "0                         0.0                              0.0  NaN  \n",
       "1                         0.0                              1.0  NaN  \n",
       "2                         1.0                              0.0  NaN  \n",
       "3                         1.0                              0.0  NaN  \n",
       "4                         0.0                              1.0  NaN  \n",
       "\n",
       "[5 rows x 44 columns]"
      ]
     },
     "execution_count": 16,
     "metadata": {},
     "output_type": "execute_result"
    }
   ],
   "source": [
    "age = X_validation.loc[:, \"Age\"].copy()\n",
    "\n",
    "categorical_columns = X_validation.select_dtypes(include=['object']).columns\n",
    "\n",
    "X_validation = encoder.transform(X_validation[categorical_columns])\n",
    "\n",
    "X_validation = pd.DataFrame(X_validation, columns=encoder.get_feature_names_out(categorical_columns))\n",
    "\n",
    "X_validation = pd.concat([X_validation, age], axis=1)\n",
    "\n",
    "X_validation.head()\n"
   ]
  },
  {
   "cell_type": "markdown",
   "id": "9fdca8c6",
   "metadata": {
    "papermill": {
     "duration": 0.019119,
     "end_time": "2023-09-23T19:48:53.043005",
     "exception": false,
     "start_time": "2023-09-23T19:48:53.023886",
     "status": "completed"
    },
    "tags": []
   },
   "source": [
    "### StandardScaler"
   ]
  },
  {
   "cell_type": "code",
   "execution_count": 17,
   "id": "51426dc1",
   "metadata": {
    "execution": {
     "iopub.execute_input": "2023-09-23T19:48:53.083848Z",
     "iopub.status.busy": "2023-09-23T19:48:53.083233Z",
     "iopub.status.idle": "2023-09-23T19:48:53.118931Z",
     "shell.execute_reply": "2023-09-23T19:48:53.117804Z"
    },
    "papermill": {
     "duration": 0.059055,
     "end_time": "2023-09-23T19:48:53.121218",
     "exception": false,
     "start_time": "2023-09-23T19:48:53.062163",
     "status": "completed"
    },
    "tags": []
   },
   "outputs": [
    {
     "data": {
      "text/html": [
       "<div>\n",
       "<style scoped>\n",
       "    .dataframe tbody tr th:only-of-type {\n",
       "        vertical-align: middle;\n",
       "    }\n",
       "\n",
       "    .dataframe tbody tr th {\n",
       "        vertical-align: top;\n",
       "    }\n",
       "\n",
       "    .dataframe thead th {\n",
       "        text-align: right;\n",
       "    }\n",
       "</style>\n",
       "<table border=\"1\" class=\"dataframe\">\n",
       "  <thead>\n",
       "    <tr style=\"text-align: right;\">\n",
       "      <th></th>\n",
       "      <th>Gender_Female</th>\n",
       "      <th>Gender_Male</th>\n",
       "      <th>Family History_No</th>\n",
       "      <th>Family History_Yes</th>\n",
       "      <th>Personal History_No</th>\n",
       "      <th>Personal History_Yes</th>\n",
       "      <th>Current Stressors_High</th>\n",
       "      <th>Current Stressors_Low</th>\n",
       "      <th>Current Stressors_Moderate</th>\n",
       "      <th>Symptoms_Chest pain</th>\n",
       "      <th>...</th>\n",
       "      <th>Coping Mechanisms_Meditation</th>\n",
       "      <th>Coping Mechanisms_Seeking therapy</th>\n",
       "      <th>Coping Mechanisms_Socializing</th>\n",
       "      <th>Social Support_High</th>\n",
       "      <th>Social Support_Low</th>\n",
       "      <th>Social Support_Moderate</th>\n",
       "      <th>Lifestyle Factors_Diet</th>\n",
       "      <th>Lifestyle Factors_Exercise</th>\n",
       "      <th>Lifestyle Factors_Sleep quality</th>\n",
       "      <th>Age</th>\n",
       "    </tr>\n",
       "  </thead>\n",
       "  <tbody>\n",
       "    <tr>\n",
       "      <th>0</th>\n",
       "      <td>0.0</td>\n",
       "      <td>1.0</td>\n",
       "      <td>1.0</td>\n",
       "      <td>0.0</td>\n",
       "      <td>0.0</td>\n",
       "      <td>1.0</td>\n",
       "      <td>1.0</td>\n",
       "      <td>0.0</td>\n",
       "      <td>0.0</td>\n",
       "      <td>1.0</td>\n",
       "      <td>...</td>\n",
       "      <td>0.0</td>\n",
       "      <td>0.0</td>\n",
       "      <td>0.0</td>\n",
       "      <td>0.0</td>\n",
       "      <td>0.0</td>\n",
       "      <td>1.0</td>\n",
       "      <td>0.0</td>\n",
       "      <td>0.0</td>\n",
       "      <td>1.0</td>\n",
       "      <td>-0.249851</td>\n",
       "    </tr>\n",
       "    <tr>\n",
       "      <th>1</th>\n",
       "      <td>0.0</td>\n",
       "      <td>1.0</td>\n",
       "      <td>0.0</td>\n",
       "      <td>1.0</td>\n",
       "      <td>1.0</td>\n",
       "      <td>0.0</td>\n",
       "      <td>1.0</td>\n",
       "      <td>0.0</td>\n",
       "      <td>0.0</td>\n",
       "      <td>0.0</td>\n",
       "      <td>...</td>\n",
       "      <td>0.0</td>\n",
       "      <td>0.0</td>\n",
       "      <td>0.0</td>\n",
       "      <td>0.0</td>\n",
       "      <td>0.0</td>\n",
       "      <td>1.0</td>\n",
       "      <td>1.0</td>\n",
       "      <td>0.0</td>\n",
       "      <td>0.0</td>\n",
       "      <td>-1.405773</td>\n",
       "    </tr>\n",
       "    <tr>\n",
       "      <th>2</th>\n",
       "      <td>1.0</td>\n",
       "      <td>0.0</td>\n",
       "      <td>0.0</td>\n",
       "      <td>1.0</td>\n",
       "      <td>1.0</td>\n",
       "      <td>0.0</td>\n",
       "      <td>0.0</td>\n",
       "      <td>1.0</td>\n",
       "      <td>0.0</td>\n",
       "      <td>0.0</td>\n",
       "      <td>...</td>\n",
       "      <td>0.0</td>\n",
       "      <td>0.0</td>\n",
       "      <td>0.0</td>\n",
       "      <td>0.0</td>\n",
       "      <td>0.0</td>\n",
       "      <td>1.0</td>\n",
       "      <td>0.0</td>\n",
       "      <td>0.0</td>\n",
       "      <td>1.0</td>\n",
       "      <td>-1.044547</td>\n",
       "    </tr>\n",
       "    <tr>\n",
       "      <th>3</th>\n",
       "      <td>1.0</td>\n",
       "      <td>0.0</td>\n",
       "      <td>0.0</td>\n",
       "      <td>1.0</td>\n",
       "      <td>1.0</td>\n",
       "      <td>0.0</td>\n",
       "      <td>0.0</td>\n",
       "      <td>0.0</td>\n",
       "      <td>1.0</td>\n",
       "      <td>0.0</td>\n",
       "      <td>...</td>\n",
       "      <td>0.0</td>\n",
       "      <td>0.0</td>\n",
       "      <td>0.0</td>\n",
       "      <td>0.0</td>\n",
       "      <td>0.0</td>\n",
       "      <td>1.0</td>\n",
       "      <td>0.0</td>\n",
       "      <td>1.0</td>\n",
       "      <td>0.0</td>\n",
       "      <td>-0.611076</td>\n",
       "    </tr>\n",
       "    <tr>\n",
       "      <th>4</th>\n",
       "      <td>0.0</td>\n",
       "      <td>1.0</td>\n",
       "      <td>1.0</td>\n",
       "      <td>0.0</td>\n",
       "      <td>0.0</td>\n",
       "      <td>1.0</td>\n",
       "      <td>0.0</td>\n",
       "      <td>1.0</td>\n",
       "      <td>0.0</td>\n",
       "      <td>0.0</td>\n",
       "      <td>...</td>\n",
       "      <td>1.0</td>\n",
       "      <td>0.0</td>\n",
       "      <td>0.0</td>\n",
       "      <td>0.0</td>\n",
       "      <td>0.0</td>\n",
       "      <td>1.0</td>\n",
       "      <td>0.0</td>\n",
       "      <td>0.0</td>\n",
       "      <td>1.0</td>\n",
       "      <td>-1.189038</td>\n",
       "    </tr>\n",
       "  </tbody>\n",
       "</table>\n",
       "<p>5 rows × 44 columns</p>\n",
       "</div>"
      ],
      "text/plain": [
       "   Gender_Female  Gender_Male  Family History_No  Family History_Yes  \\\n",
       "0            0.0          1.0                1.0                 0.0   \n",
       "1            0.0          1.0                0.0                 1.0   \n",
       "2            1.0          0.0                0.0                 1.0   \n",
       "3            1.0          0.0                0.0                 1.0   \n",
       "4            0.0          1.0                1.0                 0.0   \n",
       "\n",
       "   Personal History_No  Personal History_Yes  Current Stressors_High  \\\n",
       "0                  0.0                   1.0                     1.0   \n",
       "1                  1.0                   0.0                     1.0   \n",
       "2                  1.0                   0.0                     0.0   \n",
       "3                  1.0                   0.0                     0.0   \n",
       "4                  0.0                   1.0                     0.0   \n",
       "\n",
       "   Current Stressors_Low  Current Stressors_Moderate  Symptoms_Chest pain  \\\n",
       "0                    0.0                         0.0                  1.0   \n",
       "1                    0.0                         0.0                  0.0   \n",
       "2                    1.0                         0.0                  0.0   \n",
       "3                    0.0                         1.0                  0.0   \n",
       "4                    1.0                         0.0                  0.0   \n",
       "\n",
       "   ...  Coping Mechanisms_Meditation  Coping Mechanisms_Seeking therapy  \\\n",
       "0  ...                           0.0                                0.0   \n",
       "1  ...                           0.0                                0.0   \n",
       "2  ...                           0.0                                0.0   \n",
       "3  ...                           0.0                                0.0   \n",
       "4  ...                           1.0                                0.0   \n",
       "\n",
       "   Coping Mechanisms_Socializing  Social Support_High  Social Support_Low  \\\n",
       "0                            0.0                  0.0                 0.0   \n",
       "1                            0.0                  0.0                 0.0   \n",
       "2                            0.0                  0.0                 0.0   \n",
       "3                            0.0                  0.0                 0.0   \n",
       "4                            0.0                  0.0                 0.0   \n",
       "\n",
       "   Social Support_Moderate  Lifestyle Factors_Diet  \\\n",
       "0                      1.0                     0.0   \n",
       "1                      1.0                     1.0   \n",
       "2                      1.0                     0.0   \n",
       "3                      1.0                     0.0   \n",
       "4                      1.0                     0.0   \n",
       "\n",
       "   Lifestyle Factors_Exercise  Lifestyle Factors_Sleep quality       Age  \n",
       "0                         0.0                              1.0 -0.249851  \n",
       "1                         0.0                              0.0 -1.405773  \n",
       "2                         0.0                              1.0 -1.044547  \n",
       "3                         1.0                              0.0 -0.611076  \n",
       "4                         0.0                              1.0 -1.189038  \n",
       "\n",
       "[5 rows x 44 columns]"
      ]
     },
     "execution_count": 17,
     "metadata": {},
     "output_type": "execute_result"
    }
   ],
   "source": [
    "scaler = StandardScaler()\n",
    "X_train_preprocessed[\"Age\"] = scaler.fit_transform(X_train_preprocessed[\"Age\"].values.reshape(-1, 1))\n",
    "X_train_preprocessed.head()"
   ]
  },
  {
   "cell_type": "code",
   "execution_count": 18,
   "id": "ed009a51",
   "metadata": {
    "execution": {
     "iopub.execute_input": "2023-09-23T19:48:53.162331Z",
     "iopub.status.busy": "2023-09-23T19:48:53.161928Z",
     "iopub.status.idle": "2023-09-23T19:48:53.196384Z",
     "shell.execute_reply": "2023-09-23T19:48:53.195156Z"
    },
    "papermill": {
     "duration": 0.057525,
     "end_time": "2023-09-23T19:48:53.198664",
     "exception": false,
     "start_time": "2023-09-23T19:48:53.141139",
     "status": "completed"
    },
    "tags": []
   },
   "outputs": [
    {
     "data": {
      "text/html": [
       "<div>\n",
       "<style scoped>\n",
       "    .dataframe tbody tr th:only-of-type {\n",
       "        vertical-align: middle;\n",
       "    }\n",
       "\n",
       "    .dataframe tbody tr th {\n",
       "        vertical-align: top;\n",
       "    }\n",
       "\n",
       "    .dataframe thead th {\n",
       "        text-align: right;\n",
       "    }\n",
       "</style>\n",
       "<table border=\"1\" class=\"dataframe\">\n",
       "  <thead>\n",
       "    <tr style=\"text-align: right;\">\n",
       "      <th></th>\n",
       "      <th>Gender_Female</th>\n",
       "      <th>Gender_Male</th>\n",
       "      <th>Family History_No</th>\n",
       "      <th>Family History_Yes</th>\n",
       "      <th>Personal History_No</th>\n",
       "      <th>Personal History_Yes</th>\n",
       "      <th>Current Stressors_High</th>\n",
       "      <th>Current Stressors_Low</th>\n",
       "      <th>Current Stressors_Moderate</th>\n",
       "      <th>Symptoms_Chest pain</th>\n",
       "      <th>...</th>\n",
       "      <th>Coping Mechanisms_Meditation</th>\n",
       "      <th>Coping Mechanisms_Seeking therapy</th>\n",
       "      <th>Coping Mechanisms_Socializing</th>\n",
       "      <th>Social Support_High</th>\n",
       "      <th>Social Support_Low</th>\n",
       "      <th>Social Support_Moderate</th>\n",
       "      <th>Lifestyle Factors_Diet</th>\n",
       "      <th>Lifestyle Factors_Exercise</th>\n",
       "      <th>Lifestyle Factors_Sleep quality</th>\n",
       "      <th>Age</th>\n",
       "    </tr>\n",
       "  </thead>\n",
       "  <tbody>\n",
       "    <tr>\n",
       "      <th>0</th>\n",
       "      <td>1.0</td>\n",
       "      <td>0.0</td>\n",
       "      <td>1.0</td>\n",
       "      <td>0.0</td>\n",
       "      <td>1.0</td>\n",
       "      <td>0.0</td>\n",
       "      <td>0.0</td>\n",
       "      <td>1.0</td>\n",
       "      <td>0.0</td>\n",
       "      <td>0.0</td>\n",
       "      <td>...</td>\n",
       "      <td>0.0</td>\n",
       "      <td>0.0</td>\n",
       "      <td>0.0</td>\n",
       "      <td>1.0</td>\n",
       "      <td>0.0</td>\n",
       "      <td>0.0</td>\n",
       "      <td>1.0</td>\n",
       "      <td>0.0</td>\n",
       "      <td>0.0</td>\n",
       "      <td>0.978317</td>\n",
       "    </tr>\n",
       "    <tr>\n",
       "      <th>1</th>\n",
       "      <td>0.0</td>\n",
       "      <td>1.0</td>\n",
       "      <td>1.0</td>\n",
       "      <td>0.0</td>\n",
       "      <td>1.0</td>\n",
       "      <td>0.0</td>\n",
       "      <td>1.0</td>\n",
       "      <td>0.0</td>\n",
       "      <td>0.0</td>\n",
       "      <td>1.0</td>\n",
       "      <td>...</td>\n",
       "      <td>1.0</td>\n",
       "      <td>0.0</td>\n",
       "      <td>0.0</td>\n",
       "      <td>1.0</td>\n",
       "      <td>0.0</td>\n",
       "      <td>0.0</td>\n",
       "      <td>0.0</td>\n",
       "      <td>0.0</td>\n",
       "      <td>1.0</td>\n",
       "      <td>0.906072</td>\n",
       "    </tr>\n",
       "    <tr>\n",
       "      <th>2</th>\n",
       "      <td>1.0</td>\n",
       "      <td>0.0</td>\n",
       "      <td>0.0</td>\n",
       "      <td>1.0</td>\n",
       "      <td>1.0</td>\n",
       "      <td>0.0</td>\n",
       "      <td>1.0</td>\n",
       "      <td>0.0</td>\n",
       "      <td>0.0</td>\n",
       "      <td>0.0</td>\n",
       "      <td>...</td>\n",
       "      <td>0.0</td>\n",
       "      <td>0.0</td>\n",
       "      <td>0.0</td>\n",
       "      <td>0.0</td>\n",
       "      <td>1.0</td>\n",
       "      <td>0.0</td>\n",
       "      <td>0.0</td>\n",
       "      <td>1.0</td>\n",
       "      <td>0.0</td>\n",
       "      <td>-0.683321</td>\n",
       "    </tr>\n",
       "    <tr>\n",
       "      <th>3</th>\n",
       "      <td>1.0</td>\n",
       "      <td>0.0</td>\n",
       "      <td>0.0</td>\n",
       "      <td>1.0</td>\n",
       "      <td>1.0</td>\n",
       "      <td>0.0</td>\n",
       "      <td>1.0</td>\n",
       "      <td>0.0</td>\n",
       "      <td>0.0</td>\n",
       "      <td>0.0</td>\n",
       "      <td>...</td>\n",
       "      <td>0.0</td>\n",
       "      <td>0.0</td>\n",
       "      <td>1.0</td>\n",
       "      <td>0.0</td>\n",
       "      <td>1.0</td>\n",
       "      <td>0.0</td>\n",
       "      <td>0.0</td>\n",
       "      <td>1.0</td>\n",
       "      <td>0.0</td>\n",
       "      <td>0.544846</td>\n",
       "    </tr>\n",
       "    <tr>\n",
       "      <th>4</th>\n",
       "      <td>1.0</td>\n",
       "      <td>0.0</td>\n",
       "      <td>0.0</td>\n",
       "      <td>1.0</td>\n",
       "      <td>0.0</td>\n",
       "      <td>1.0</td>\n",
       "      <td>0.0</td>\n",
       "      <td>0.0</td>\n",
       "      <td>1.0</td>\n",
       "      <td>0.0</td>\n",
       "      <td>...</td>\n",
       "      <td>0.0</td>\n",
       "      <td>1.0</td>\n",
       "      <td>0.0</td>\n",
       "      <td>1.0</td>\n",
       "      <td>0.0</td>\n",
       "      <td>0.0</td>\n",
       "      <td>0.0</td>\n",
       "      <td>0.0</td>\n",
       "      <td>1.0</td>\n",
       "      <td>-0.105360</td>\n",
       "    </tr>\n",
       "  </tbody>\n",
       "</table>\n",
       "<p>5 rows × 44 columns</p>\n",
       "</div>"
      ],
      "text/plain": [
       "   Gender_Female  Gender_Male  Family History_No  Family History_Yes  \\\n",
       "0            1.0          0.0                1.0                 0.0   \n",
       "1            0.0          1.0                1.0                 0.0   \n",
       "2            1.0          0.0                0.0                 1.0   \n",
       "3            1.0          0.0                0.0                 1.0   \n",
       "4            1.0          0.0                0.0                 1.0   \n",
       "\n",
       "   Personal History_No  Personal History_Yes  Current Stressors_High  \\\n",
       "0                  1.0                   0.0                     0.0   \n",
       "1                  1.0                   0.0                     1.0   \n",
       "2                  1.0                   0.0                     1.0   \n",
       "3                  1.0                   0.0                     1.0   \n",
       "4                  0.0                   1.0                     0.0   \n",
       "\n",
       "   Current Stressors_Low  Current Stressors_Moderate  Symptoms_Chest pain  \\\n",
       "0                    1.0                         0.0                  0.0   \n",
       "1                    0.0                         0.0                  1.0   \n",
       "2                    0.0                         0.0                  0.0   \n",
       "3                    0.0                         0.0                  0.0   \n",
       "4                    0.0                         1.0                  0.0   \n",
       "\n",
       "   ...  Coping Mechanisms_Meditation  Coping Mechanisms_Seeking therapy  \\\n",
       "0  ...                           0.0                                0.0   \n",
       "1  ...                           1.0                                0.0   \n",
       "2  ...                           0.0                                0.0   \n",
       "3  ...                           0.0                                0.0   \n",
       "4  ...                           0.0                                1.0   \n",
       "\n",
       "   Coping Mechanisms_Socializing  Social Support_High  Social Support_Low  \\\n",
       "0                            0.0                  1.0                 0.0   \n",
       "1                            0.0                  1.0                 0.0   \n",
       "2                            0.0                  0.0                 1.0   \n",
       "3                            1.0                  0.0                 1.0   \n",
       "4                            0.0                  1.0                 0.0   \n",
       "\n",
       "   Social Support_Moderate  Lifestyle Factors_Diet  \\\n",
       "0                      0.0                     1.0   \n",
       "1                      0.0                     0.0   \n",
       "2                      0.0                     0.0   \n",
       "3                      0.0                     0.0   \n",
       "4                      0.0                     0.0   \n",
       "\n",
       "   Lifestyle Factors_Exercise  Lifestyle Factors_Sleep quality       Age  \n",
       "0                         0.0                              0.0  0.978317  \n",
       "1                         0.0                              1.0  0.906072  \n",
       "2                         1.0                              0.0 -0.683321  \n",
       "3                         1.0                              0.0  0.544846  \n",
       "4                         0.0                              1.0 -0.105360  \n",
       "\n",
       "[5 rows x 44 columns]"
      ]
     },
     "execution_count": 18,
     "metadata": {},
     "output_type": "execute_result"
    }
   ],
   "source": [
    "X_validation_preprocessed[\"Age\"] = scaler.transform(X_validation_preprocessed[\"Age\"].values.reshape(-1, 1))\n",
    "X_validation_preprocessed.head()"
   ]
  },
  {
   "cell_type": "code",
   "execution_count": 19,
   "id": "338c9998",
   "metadata": {
    "execution": {
     "iopub.execute_input": "2023-09-23T19:48:53.240655Z",
     "iopub.status.busy": "2023-09-23T19:48:53.240268Z",
     "iopub.status.idle": "2023-09-23T19:48:53.275032Z",
     "shell.execute_reply": "2023-09-23T19:48:53.274215Z"
    },
    "papermill": {
     "duration": 0.058374,
     "end_time": "2023-09-23T19:48:53.277067",
     "exception": false,
     "start_time": "2023-09-23T19:48:53.218693",
     "status": "completed"
    },
    "tags": []
   },
   "outputs": [
    {
     "data": {
      "text/html": [
       "<div>\n",
       "<style scoped>\n",
       "    .dataframe tbody tr th:only-of-type {\n",
       "        vertical-align: middle;\n",
       "    }\n",
       "\n",
       "    .dataframe tbody tr th {\n",
       "        vertical-align: top;\n",
       "    }\n",
       "\n",
       "    .dataframe thead th {\n",
       "        text-align: right;\n",
       "    }\n",
       "</style>\n",
       "<table border=\"1\" class=\"dataframe\">\n",
       "  <thead>\n",
       "    <tr style=\"text-align: right;\">\n",
       "      <th></th>\n",
       "      <th>Gender_Female</th>\n",
       "      <th>Gender_Male</th>\n",
       "      <th>Family History_No</th>\n",
       "      <th>Family History_Yes</th>\n",
       "      <th>Personal History_No</th>\n",
       "      <th>Personal History_Yes</th>\n",
       "      <th>Current Stressors_High</th>\n",
       "      <th>Current Stressors_Low</th>\n",
       "      <th>Current Stressors_Moderate</th>\n",
       "      <th>Symptoms_Chest pain</th>\n",
       "      <th>...</th>\n",
       "      <th>Coping Mechanisms_Meditation</th>\n",
       "      <th>Coping Mechanisms_Seeking therapy</th>\n",
       "      <th>Coping Mechanisms_Socializing</th>\n",
       "      <th>Social Support_High</th>\n",
       "      <th>Social Support_Low</th>\n",
       "      <th>Social Support_Moderate</th>\n",
       "      <th>Lifestyle Factors_Diet</th>\n",
       "      <th>Lifestyle Factors_Exercise</th>\n",
       "      <th>Lifestyle Factors_Sleep quality</th>\n",
       "      <th>Age</th>\n",
       "    </tr>\n",
       "  </thead>\n",
       "  <tbody>\n",
       "    <tr>\n",
       "      <th>0</th>\n",
       "      <td>0.0</td>\n",
       "      <td>1.0</td>\n",
       "      <td>0.0</td>\n",
       "      <td>1.0</td>\n",
       "      <td>1.0</td>\n",
       "      <td>0.0</td>\n",
       "      <td>1.0</td>\n",
       "      <td>0.0</td>\n",
       "      <td>0.0</td>\n",
       "      <td>0.0</td>\n",
       "      <td>...</td>\n",
       "      <td>0.0</td>\n",
       "      <td>1.0</td>\n",
       "      <td>0.0</td>\n",
       "      <td>0.0</td>\n",
       "      <td>1.0</td>\n",
       "      <td>0.0</td>\n",
       "      <td>0.0</td>\n",
       "      <td>1.0</td>\n",
       "      <td>0.0</td>\n",
       "      <td>-0.033115</td>\n",
       "    </tr>\n",
       "    <tr>\n",
       "      <th>1</th>\n",
       "      <td>1.0</td>\n",
       "      <td>0.0</td>\n",
       "      <td>0.0</td>\n",
       "      <td>1.0</td>\n",
       "      <td>1.0</td>\n",
       "      <td>0.0</td>\n",
       "      <td>0.0</td>\n",
       "      <td>1.0</td>\n",
       "      <td>0.0</td>\n",
       "      <td>0.0</td>\n",
       "      <td>...</td>\n",
       "      <td>0.0</td>\n",
       "      <td>0.0</td>\n",
       "      <td>0.0</td>\n",
       "      <td>1.0</td>\n",
       "      <td>0.0</td>\n",
       "      <td>0.0</td>\n",
       "      <td>1.0</td>\n",
       "      <td>0.0</td>\n",
       "      <td>0.0</td>\n",
       "      <td>-1.550263</td>\n",
       "    </tr>\n",
       "    <tr>\n",
       "      <th>2</th>\n",
       "      <td>0.0</td>\n",
       "      <td>1.0</td>\n",
       "      <td>0.0</td>\n",
       "      <td>1.0</td>\n",
       "      <td>0.0</td>\n",
       "      <td>1.0</td>\n",
       "      <td>1.0</td>\n",
       "      <td>0.0</td>\n",
       "      <td>0.0</td>\n",
       "      <td>0.0</td>\n",
       "      <td>...</td>\n",
       "      <td>1.0</td>\n",
       "      <td>0.0</td>\n",
       "      <td>0.0</td>\n",
       "      <td>0.0</td>\n",
       "      <td>0.0</td>\n",
       "      <td>1.0</td>\n",
       "      <td>0.0</td>\n",
       "      <td>1.0</td>\n",
       "      <td>0.0</td>\n",
       "      <td>-0.683321</td>\n",
       "    </tr>\n",
       "    <tr>\n",
       "      <th>3</th>\n",
       "      <td>1.0</td>\n",
       "      <td>0.0</td>\n",
       "      <td>0.0</td>\n",
       "      <td>1.0</td>\n",
       "      <td>0.0</td>\n",
       "      <td>1.0</td>\n",
       "      <td>0.0</td>\n",
       "      <td>0.0</td>\n",
       "      <td>1.0</td>\n",
       "      <td>0.0</td>\n",
       "      <td>...</td>\n",
       "      <td>0.0</td>\n",
       "      <td>0.0</td>\n",
       "      <td>0.0</td>\n",
       "      <td>1.0</td>\n",
       "      <td>0.0</td>\n",
       "      <td>0.0</td>\n",
       "      <td>0.0</td>\n",
       "      <td>0.0</td>\n",
       "      <td>1.0</td>\n",
       "      <td>-0.033115</td>\n",
       "    </tr>\n",
       "    <tr>\n",
       "      <th>4</th>\n",
       "      <td>1.0</td>\n",
       "      <td>0.0</td>\n",
       "      <td>0.0</td>\n",
       "      <td>1.0</td>\n",
       "      <td>1.0</td>\n",
       "      <td>0.0</td>\n",
       "      <td>1.0</td>\n",
       "      <td>0.0</td>\n",
       "      <td>0.0</td>\n",
       "      <td>1.0</td>\n",
       "      <td>...</td>\n",
       "      <td>0.0</td>\n",
       "      <td>1.0</td>\n",
       "      <td>0.0</td>\n",
       "      <td>0.0</td>\n",
       "      <td>1.0</td>\n",
       "      <td>0.0</td>\n",
       "      <td>0.0</td>\n",
       "      <td>1.0</td>\n",
       "      <td>0.0</td>\n",
       "      <td>-0.394341</td>\n",
       "    </tr>\n",
       "  </tbody>\n",
       "</table>\n",
       "<p>5 rows × 44 columns</p>\n",
       "</div>"
      ],
      "text/plain": [
       "   Gender_Female  Gender_Male  Family History_No  Family History_Yes  \\\n",
       "0            0.0          1.0                0.0                 1.0   \n",
       "1            1.0          0.0                0.0                 1.0   \n",
       "2            0.0          1.0                0.0                 1.0   \n",
       "3            1.0          0.0                0.0                 1.0   \n",
       "4            1.0          0.0                0.0                 1.0   \n",
       "\n",
       "   Personal History_No  Personal History_Yes  Current Stressors_High  \\\n",
       "0                  1.0                   0.0                     1.0   \n",
       "1                  1.0                   0.0                     0.0   \n",
       "2                  0.0                   1.0                     1.0   \n",
       "3                  0.0                   1.0                     0.0   \n",
       "4                  1.0                   0.0                     1.0   \n",
       "\n",
       "   Current Stressors_Low  Current Stressors_Moderate  Symptoms_Chest pain  \\\n",
       "0                    0.0                         0.0                  0.0   \n",
       "1                    1.0                         0.0                  0.0   \n",
       "2                    0.0                         0.0                  0.0   \n",
       "3                    0.0                         1.0                  0.0   \n",
       "4                    0.0                         0.0                  1.0   \n",
       "\n",
       "   ...  Coping Mechanisms_Meditation  Coping Mechanisms_Seeking therapy  \\\n",
       "0  ...                           0.0                                1.0   \n",
       "1  ...                           0.0                                0.0   \n",
       "2  ...                           1.0                                0.0   \n",
       "3  ...                           0.0                                0.0   \n",
       "4  ...                           0.0                                1.0   \n",
       "\n",
       "   Coping Mechanisms_Socializing  Social Support_High  Social Support_Low  \\\n",
       "0                            0.0                  0.0                 1.0   \n",
       "1                            0.0                  1.0                 0.0   \n",
       "2                            0.0                  0.0                 0.0   \n",
       "3                            0.0                  1.0                 0.0   \n",
       "4                            0.0                  0.0                 1.0   \n",
       "\n",
       "   Social Support_Moderate  Lifestyle Factors_Diet  \\\n",
       "0                      0.0                     0.0   \n",
       "1                      0.0                     1.0   \n",
       "2                      1.0                     0.0   \n",
       "3                      0.0                     0.0   \n",
       "4                      0.0                     0.0   \n",
       "\n",
       "   Lifestyle Factors_Exercise  Lifestyle Factors_Sleep quality       Age  \n",
       "0                         1.0                              0.0 -0.033115  \n",
       "1                         0.0                              0.0 -1.550263  \n",
       "2                         1.0                              0.0 -0.683321  \n",
       "3                         0.0                              1.0 -0.033115  \n",
       "4                         1.0                              0.0 -0.394341  \n",
       "\n",
       "[5 rows x 44 columns]"
      ]
     },
     "execution_count": 19,
     "metadata": {},
     "output_type": "execute_result"
    }
   ],
   "source": [
    "X_testing_preprocessed[\"Age\"] = scaler.transform(X_testing_preprocessed[\"Age\"].values.reshape(-1, 1))\n",
    "X_testing_preprocessed.head()"
   ]
  },
  {
   "cell_type": "code",
   "execution_count": 20,
   "id": "fb495a2e",
   "metadata": {
    "execution": {
     "iopub.execute_input": "2023-09-23T19:48:53.321149Z",
     "iopub.status.busy": "2023-09-23T19:48:53.320416Z",
     "iopub.status.idle": "2023-09-23T19:48:53.386124Z",
     "shell.execute_reply": "2023-09-23T19:48:53.385145Z"
    },
    "papermill": {
     "duration": 0.090914,
     "end_time": "2023-09-23T19:48:53.388746",
     "exception": false,
     "start_time": "2023-09-23T19:48:53.297832",
     "status": "completed"
    },
    "tags": []
   },
   "outputs": [],
   "source": [
    "X_train = X_train_preprocessed.copy()\n",
    "X_validation = X_validation_preprocessed.copy()\n",
    "X_testing = X_testing_preprocessed.copy()"
   ]
  },
  {
   "cell_type": "markdown",
   "id": "95a9ff36",
   "metadata": {
    "papermill": {
     "duration": 0.020917,
     "end_time": "2023-09-23T19:48:53.431191",
     "exception": false,
     "start_time": "2023-09-23T19:48:53.410274",
     "status": "completed"
    },
    "tags": []
   },
   "source": [
    " Well, it is a good model. Let's now apply the same model to the testing dataset."
   ]
  },
  {
   "cell_type": "code",
   "execution_count": 21,
   "id": "f7705281",
   "metadata": {
    "execution": {
     "iopub.execute_input": "2023-09-23T19:48:53.474448Z",
     "iopub.status.busy": "2023-09-23T19:48:53.474029Z",
     "iopub.status.idle": "2023-09-23T19:48:53.480529Z",
     "shell.execute_reply": "2023-09-23T19:48:53.479578Z"
    },
    "papermill": {
     "duration": 0.030593,
     "end_time": "2023-09-23T19:48:53.482668",
     "exception": false,
     "start_time": "2023-09-23T19:48:53.452075",
     "status": "completed"
    },
    "tags": []
   },
   "outputs": [
    {
     "data": {
      "text/plain": [
       "(70000, 44)"
      ]
     },
     "execution_count": 21,
     "metadata": {},
     "output_type": "execute_result"
    }
   ],
   "source": [
    "X_train.shape"
   ]
  },
  {
   "cell_type": "code",
   "execution_count": 22,
   "id": "26aa1341",
   "metadata": {
    "execution": {
     "iopub.execute_input": "2023-09-23T19:48:53.526713Z",
     "iopub.status.busy": "2023-09-23T19:48:53.526025Z",
     "iopub.status.idle": "2023-09-23T19:54:16.900504Z",
     "shell.execute_reply": "2023-09-23T19:54:16.899230Z"
    },
    "papermill": {
     "duration": 323.399799,
     "end_time": "2023-09-23T19:54:16.903290",
     "exception": false,
     "start_time": "2023-09-23T19:48:53.503491",
     "status": "completed"
    },
    "tags": []
   },
   "outputs": [
    {
     "name": "stdout",
     "output_type": "stream",
     "text": [
      "Epoch 1/50\n",
      "2188/2188 [==============================] - 7s 3ms/step - loss: 0.0559 - accuracy: 0.9768\n",
      "Epoch 2/50\n",
      "2188/2188 [==============================] - 6s 3ms/step - loss: 0.0101 - accuracy: 0.9969\n",
      "Epoch 3/50\n",
      "2188/2188 [==============================] - 6s 3ms/step - loss: 0.0023 - accuracy: 0.9996\n",
      "Epoch 4/50\n",
      "2188/2188 [==============================] - 6s 3ms/step - loss: 4.1164e-04 - accuracy: 1.0000\n",
      "Epoch 5/50\n",
      "2188/2188 [==============================] - 6s 3ms/step - loss: 0.0014 - accuracy: 0.9994\n",
      "Epoch 6/50\n",
      "2188/2188 [==============================] - 6s 3ms/step - loss: 0.0016 - accuracy: 0.9995\n",
      "Epoch 7/50\n",
      "2188/2188 [==============================] - 6s 3ms/step - loss: 1.4411e-04 - accuracy: 1.0000\n",
      "Epoch 8/50\n",
      "2188/2188 [==============================] - 6s 3ms/step - loss: 6.6201e-04 - accuracy: 0.9998\n",
      "Epoch 9/50\n",
      "2188/2188 [==============================] - 6s 3ms/step - loss: 6.2873e-05 - accuracy: 1.0000\n",
      "Epoch 10/50\n",
      "2188/2188 [==============================] - 6s 3ms/step - loss: 1.8540e-05 - accuracy: 1.0000\n",
      "Epoch 11/50\n",
      "2188/2188 [==============================] - 6s 3ms/step - loss: 8.3786e-06 - accuracy: 1.0000\n",
      "Epoch 12/50\n",
      "2188/2188 [==============================] - 6s 3ms/step - loss: 0.0012 - accuracy: 0.9997\n",
      "Epoch 13/50\n",
      "2188/2188 [==============================] - 6s 3ms/step - loss: 3.2133e-05 - accuracy: 1.0000\n",
      "Epoch 14/50\n",
      "2188/2188 [==============================] - 7s 3ms/step - loss: 9.3876e-06 - accuracy: 1.0000\n",
      "Epoch 15/50\n",
      "2188/2188 [==============================] - 7s 3ms/step - loss: 4.2965e-06 - accuracy: 1.0000\n",
      "Epoch 16/50\n",
      "2188/2188 [==============================] - 7s 3ms/step - loss: 2.1615e-06 - accuracy: 1.0000\n",
      "Epoch 17/50\n",
      "2188/2188 [==============================] - 7s 3ms/step - loss: 7.6116e-04 - accuracy: 0.9998\n",
      "Epoch 18/50\n",
      "2188/2188 [==============================] - 6s 3ms/step - loss: 5.4002e-06 - accuracy: 1.0000\n",
      "Epoch 19/50\n",
      "2188/2188 [==============================] - 6s 3ms/step - loss: 2.5446e-06 - accuracy: 1.0000\n",
      "Epoch 20/50\n",
      "2188/2188 [==============================] - 6s 3ms/step - loss: 1.3159e-06 - accuracy: 1.0000\n",
      "Epoch 21/50\n",
      "2188/2188 [==============================] - 6s 3ms/step - loss: 6.8129e-07 - accuracy: 1.0000\n",
      "Epoch 22/50\n",
      "2188/2188 [==============================] - 6s 3ms/step - loss: 3.5266e-07 - accuracy: 1.0000\n",
      "Epoch 23/50\n",
      "2188/2188 [==============================] - 6s 3ms/step - loss: 0.0012 - accuracy: 0.9997\n",
      "Epoch 24/50\n",
      "2188/2188 [==============================] - 6s 3ms/step - loss: 7.0995e-06 - accuracy: 1.0000\n",
      "Epoch 25/50\n",
      "2188/2188 [==============================] - 6s 3ms/step - loss: 2.6030e-06 - accuracy: 1.0000\n",
      "Epoch 26/50\n",
      "2188/2188 [==============================] - 6s 3ms/step - loss: 1.2837e-06 - accuracy: 1.0000\n",
      "Epoch 27/50\n",
      "2188/2188 [==============================] - 6s 3ms/step - loss: 6.0631e-07 - accuracy: 1.0000\n",
      "Epoch 28/50\n",
      "2188/2188 [==============================] - 6s 3ms/step - loss: 2.6497e-07 - accuracy: 1.0000\n",
      "Epoch 29/50\n",
      "2188/2188 [==============================] - 6s 3ms/step - loss: 1.3786e-07 - accuracy: 1.0000\n",
      "Epoch 30/50\n",
      "2188/2188 [==============================] - 6s 3ms/step - loss: 3.9968e-08 - accuracy: 1.0000\n",
      "Epoch 31/50\n",
      "2188/2188 [==============================] - 6s 3ms/step - loss: 9.1186e-04 - accuracy: 0.9998\n",
      "Epoch 32/50\n",
      "2188/2188 [==============================] - 6s 3ms/step - loss: 8.3470e-05 - accuracy: 1.0000\n",
      "Epoch 33/50\n",
      "2188/2188 [==============================] - 6s 3ms/step - loss: 2.1531e-06 - accuracy: 1.0000\n",
      "Epoch 34/50\n",
      "2188/2188 [==============================] - 6s 3ms/step - loss: 7.4510e-07 - accuracy: 1.0000\n",
      "Epoch 35/50\n",
      "2188/2188 [==============================] - 6s 3ms/step - loss: 4.1302e-07 - accuracy: 1.0000\n",
      "Epoch 36/50\n",
      "2188/2188 [==============================] - 6s 3ms/step - loss: 1.8324e-07 - accuracy: 1.0000\n",
      "Epoch 37/50\n",
      "2188/2188 [==============================] - 6s 3ms/step - loss: 9.5899e-08 - accuracy: 1.0000\n",
      "Epoch 38/50\n",
      "2188/2188 [==============================] - 6s 3ms/step - loss: 3.7726e-08 - accuracy: 1.0000\n",
      "Epoch 39/50\n",
      "2188/2188 [==============================] - 6s 3ms/step - loss: 8.4277e-04 - accuracy: 0.9998\n",
      "Epoch 40/50\n",
      "2188/2188 [==============================] - 6s 3ms/step - loss: 1.0793e-06 - accuracy: 1.0000\n",
      "Epoch 41/50\n",
      "2188/2188 [==============================] - 6s 3ms/step - loss: 4.3224e-07 - accuracy: 1.0000\n",
      "Epoch 42/50\n",
      "2188/2188 [==============================] - 6s 3ms/step - loss: 2.3133e-07 - accuracy: 1.0000\n",
      "Epoch 43/50\n",
      "2188/2188 [==============================] - 6s 3ms/step - loss: 1.1264e-07 - accuracy: 1.0000\n",
      "Epoch 44/50\n",
      "2188/2188 [==============================] - 6s 3ms/step - loss: 5.4283e-08 - accuracy: 1.0000\n",
      "Epoch 45/50\n",
      "2188/2188 [==============================] - 6s 3ms/step - loss: 2.6576e-08 - accuracy: 1.0000\n",
      "Epoch 46/50\n",
      "2188/2188 [==============================] - 6s 3ms/step - loss: 1.2570e-08 - accuracy: 1.0000\n",
      "Epoch 47/50\n",
      "2188/2188 [==============================] - 6s 3ms/step - loss: 5.9160e-09 - accuracy: 1.0000\n",
      "Epoch 48/50\n",
      "2188/2188 [==============================] - 6s 3ms/step - loss: 2.7093e-09 - accuracy: 1.0000\n",
      "Epoch 49/50\n",
      "2188/2188 [==============================] - 6s 3ms/step - loss: 1.5977e-09 - accuracy: 1.0000\n",
      "Epoch 50/50\n",
      "2188/2188 [==============================] - 7s 3ms/step - loss: 8.6608e-10 - accuracy: 1.0000\n"
     ]
    },
    {
     "data": {
      "text/plain": [
       "<keras.callbacks.History at 0x7f869868bca0>"
      ]
     },
     "execution_count": 22,
     "metadata": {},
     "output_type": "execute_result"
    }
   ],
   "source": [
    "import numpy as np\n",
    "from tensorflow.keras.models import Sequential\n",
    "from tensorflow.keras.layers import Conv1D, MaxPooling1D, Flatten, Dense\n",
    "\n",
    "# Reshape input data to match CNN input shape\n",
    "x_train_reshaped = X_train.values.reshape((70000,44, 1))\n",
    "\n",
    "# Define the CNN model\n",
    "model = Sequential()\n",
    "model.add(Conv1D(32, kernel_size=3, activation='relu', input_shape=(44, 1)))\n",
    "model.add(MaxPooling1D(pool_size=2))\n",
    "model.add(Flatten())\n",
    "model.add(Dense(64, activation='relu'))\n",
    "model.add(Dense(1, activation='sigmoid'))\n",
    "\n",
    "# Compile the model\n",
    "model.compile(optimizer='adam', loss='binary_crossentropy', metrics=['accuracy'])\n",
    "\n",
    "# Train the model\n",
    "model.fit(x_train_reshaped, y_train, epochs=50, batch_size=32)"
   ]
  },
  {
   "cell_type": "markdown",
   "id": "debafdd4",
   "metadata": {
    "papermill": {
     "duration": 0.588654,
     "end_time": "2023-09-23T19:54:18.081460",
     "exception": false,
     "start_time": "2023-09-23T19:54:17.492806",
     "status": "completed"
    },
    "tags": []
   },
   "source": [
    "# traing"
   ]
  },
  {
   "cell_type": "code",
   "execution_count": 23,
   "id": "f56f2ee3",
   "metadata": {
    "execution": {
     "iopub.execute_input": "2023-09-23T19:54:19.327063Z",
     "iopub.status.busy": "2023-09-23T19:54:19.326614Z",
     "iopub.status.idle": "2023-09-23T19:54:21.490132Z",
     "shell.execute_reply": "2023-09-23T19:54:21.488415Z"
    },
    "papermill": {
     "duration": 2.754245,
     "end_time": "2023-09-23T19:54:21.493132",
     "exception": false,
     "start_time": "2023-09-23T19:54:18.738887",
     "status": "completed"
    },
    "tags": []
   },
   "outputs": [
    {
     "name": "stdout",
     "output_type": "stream",
     "text": [
      "938/938 [==============================] - 2s 2ms/step\n"
     ]
    }
   ],
   "source": [
    "y_pred = model.predict(X_validation)"
   ]
  },
  {
   "cell_type": "code",
   "execution_count": 24,
   "id": "cc35de4e",
   "metadata": {
    "execution": {
     "iopub.execute_input": "2023-09-23T19:54:22.684160Z",
     "iopub.status.busy": "2023-09-23T19:54:22.683592Z",
     "iopub.status.idle": "2023-09-23T19:54:22.940065Z",
     "shell.execute_reply": "2023-09-23T19:54:22.938889Z"
    },
    "papermill": {
     "duration": 0.85584,
     "end_time": "2023-09-23T19:54:22.942851",
     "exception": false,
     "start_time": "2023-09-23T19:54:22.087011",
     "status": "completed"
    },
    "tags": []
   },
   "outputs": [
    {
     "data": {
      "image/png": "[encoded data removed]",
      "text/plain": [
       "<Figure size 800x600 with 2 Axes>"
      ]
     },
     "metadata": {},
     "output_type": "display_data"
    }
   ],
   "source": [
    "cm = confusion_matrix(y_validation, y_pred.round())\n",
    "\n",
    "plt.figure(figsize=(8, 6))\n",
    "sns.heatmap(cm, annot=True, fmt='d', cmap=\"Blues\")\n",
    "plt.xlabel('Predicted')\n",
    "plt.ylabel('True')\n",
    "plt.title('Confusion Matrix')\n",
    "plt.show()"
   ]
  },
  {
   "cell_type": "code",
   "execution_count": 25,
   "id": "32868307",
   "metadata": {
    "execution": {
     "iopub.execute_input": "2023-09-23T19:54:24.188407Z",
     "iopub.status.busy": "2023-09-23T19:54:24.187417Z",
     "iopub.status.idle": "2023-09-23T19:54:24.197720Z",
     "shell.execute_reply": "2023-09-23T19:54:24.196267Z"
    },
    "papermill": {
     "duration": 0.666366,
     "end_time": "2023-09-23T19:54:24.200082",
     "exception": false,
     "start_time": "2023-09-23T19:54:23.533716",
     "status": "completed"
    },
    "tags": []
   },
   "outputs": [
    {
     "name": "stdout",
     "output_type": "stream",
     "text": [
      "Model Training Accuracy: 1.0\n"
     ]
    }
   ],
   "source": [
    "accuracy = accuracy_score(y_validation, y_pred.round())\n",
    "print(\"Model Training Accuracy:\", accuracy)"
   ]
  },
  {
   "cell_type": "markdown",
   "id": "ba2645b2",
   "metadata": {
    "papermill": {
     "duration": 0.586383,
     "end_time": "2023-09-23T19:54:25.372073",
     "exception": false,
     "start_time": "2023-09-23T19:54:24.785690",
     "status": "completed"
    },
    "tags": []
   },
   "source": [
    "# testing"
   ]
  },
  {
   "cell_type": "code",
   "execution_count": 26,
   "id": "d7eaafbd",
   "metadata": {
    "execution": {
     "iopub.execute_input": "2023-09-23T19:54:26.616486Z",
     "iopub.status.busy": "2023-09-23T19:54:26.615293Z",
     "iopub.status.idle": "2023-09-23T19:54:29.255452Z",
     "shell.execute_reply": "2023-09-23T19:54:29.254253Z"
    },
    "papermill": {
     "duration": 3.231766,
     "end_time": "2023-09-23T19:54:29.258245",
     "exception": false,
     "start_time": "2023-09-23T19:54:26.026479",
     "status": "completed"
    },
    "tags": []
   },
   "outputs": [
    {
     "name": "stdout",
     "output_type": "stream",
     "text": [
      "625/625 [==============================] - 1s 2ms/step\n"
     ]
    }
   ],
   "source": [
    "y_pred = model.predict(X_testing)"
   ]
  },
  {
   "cell_type": "code",
   "execution_count": 27,
   "id": "b58caef0",
   "metadata": {
    "execution": {
     "iopub.execute_input": "2023-09-23T19:54:30.448267Z",
     "iopub.status.busy": "2023-09-23T19:54:30.447852Z",
     "iopub.status.idle": "2023-09-23T19:54:30.457188Z",
     "shell.execute_reply": "2023-09-23T19:54:30.456018Z"
    },
    "papermill": {
     "duration": 0.607206,
     "end_time": "2023-09-23T19:54:30.459304",
     "exception": false,
     "start_time": "2023-09-23T19:54:29.852098",
     "status": "completed"
    },
    "tags": []
   },
   "outputs": [
    {
     "name": "stdout",
     "output_type": "stream",
     "text": [
      "Panic Disorder Detection Accuracy: 1.0\n"
     ]
    }
   ],
   "source": [
    "accuracy = accuracy_score(y_testing, y_pred.round())\n",
    "print(\"Panic Disorder Detection Accuracy:\", accuracy)"
   ]
  },
  {
   "cell_type": "code",
   "execution_count": 28,
   "id": "07fec47a",
   "metadata": {
    "execution": {
     "iopub.execute_input": "2023-09-23T19:54:31.742672Z",
     "iopub.status.busy": "2023-09-23T19:54:31.742249Z",
     "iopub.status.idle": "2023-09-23T19:54:31.749182Z",
     "shell.execute_reply": "2023-09-23T19:54:31.748265Z"
    },
    "papermill": {
     "duration": 0.66892,
     "end_time": "2023-09-23T19:54:31.751286",
     "exception": false,
     "start_time": "2023-09-23T19:54:31.082366",
     "status": "completed"
    },
    "tags": []
   },
   "outputs": [
    {
     "data": {
      "text/plain": [
       "array([[0.],\n",
       "       [0.],\n",
       "       [0.],\n",
       "       ...,\n",
       "       [0.],\n",
       "       [0.],\n",
       "       [1.]], dtype=float32)"
      ]
     },
     "execution_count": 28,
     "metadata": {},
     "output_type": "execute_result"
    }
   ],
   "source": [
    "y_pred.round()"
   ]
  },
  {
   "cell_type": "code",
   "execution_count": 29,
   "id": "e8efce8e",
   "metadata": {
    "execution": {
     "iopub.execute_input": "2023-09-23T19:54:32.932535Z",
     "iopub.status.busy": "2023-09-23T19:54:32.932128Z",
     "iopub.status.idle": "2023-09-23T19:54:33.193394Z",
     "shell.execute_reply": "2023-09-23T19:54:33.192243Z"
    },
    "papermill": {
     "duration": 0.853996,
     "end_time": "2023-09-23T19:54:33.195734",
     "exception": false,
     "start_time": "2023-09-23T19:54:32.341738",
     "status": "completed"
    },
    "tags": []
   },
   "outputs": [
    {
     "data": {
      "image/png": "[encoded data removed]",
      "text/plain": [
       "<Figure size 800x600 with 2 Axes>"
      ]
     },
     "metadata": {},
     "output_type": "display_data"
    }
   ],
   "source": [
    "cm = confusion_matrix(y_testing, y_pred.round())\n",
    "\n",
    "plt.figure(figsize=(8, 6))\n",
    "sns.heatmap(cm, annot=True, fmt='d', cmap=\"Blues\")\n",
    "plt.xlabel('Predicted')\n",
    "plt.ylabel('True')\n",
    "plt.title('Confusion Matrix')\n",
    "plt.show()\n"
   ]
  },
  {
   "cell_type": "code",
   "execution_count": 30,
   "id": "995da6e4",
   "metadata": {
    "execution": {
     "iopub.execute_input": "2023-09-23T19:54:34.436167Z",
     "iopub.status.busy": "2023-09-23T19:54:34.435442Z",
     "iopub.status.idle": "2023-09-23T19:54:34.470182Z",
     "shell.execute_reply": "2023-09-23T19:54:34.469187Z"
    },
    "papermill": {
     "duration": 0.691272,
     "end_time": "2023-09-23T19:54:34.472834",
     "exception": false,
     "start_time": "2023-09-23T19:54:33.781562",
     "status": "completed"
    },
    "tags": []
   },
   "outputs": [],
   "source": [
    "from tensorflow.keras.models import save_model\n",
    "save_model(model, 'cnn_model.h5')"
   ]
  },
  {
   "cell_type": "code",
   "execution_count": 31,
   "id": "d5fffc17",
   "metadata": {
    "execution": {
     "iopub.execute_input": "2023-09-23T19:54:35.657805Z",
     "iopub.status.busy": "2023-09-23T19:54:35.656758Z",
     "iopub.status.idle": "2023-09-23T19:54:35.662276Z",
     "shell.execute_reply": "2023-09-23T19:54:35.661142Z"
    },
    "papermill": {
     "duration": 0.601889,
     "end_time": "2023-09-23T19:54:35.664686",
     "exception": false,
     "start_time": "2023-09-23T19:54:35.062797",
     "status": "completed"
    },
    "tags": []
   },
   "outputs": [],
   "source": [
    "import pickle\n"
   ]
  },
  {
   "cell_type": "code",
   "execution_count": 32,
   "id": "055bbf99",
   "metadata": {
    "execution": {
     "iopub.execute_input": "2023-09-23T19:54:36.919862Z",
     "iopub.status.busy": "2023-09-23T19:54:36.919044Z",
     "iopub.status.idle": "2023-09-23T19:54:36.924940Z",
     "shell.execute_reply": "2023-09-23T19:54:36.924009Z"
    },
    "papermill": {
     "duration": 0.670626,
     "end_time": "2023-09-23T19:54:36.927273",
     "exception": false,
     "start_time": "2023-09-23T19:54:36.256647",
     "status": "completed"
    },
    "tags": []
   },
   "outputs": [],
   "source": [
    "pickle.dump(encoder, open('/kaggle/working/encoder.pkl','wb'))\n"
   ]
  },
  {
   "cell_type": "code",
   "execution_count": 33,
   "id": "2efe1222",
   "metadata": {
    "execution": {
     "iopub.execute_input": "2023-09-23T19:54:38.108360Z",
     "iopub.status.busy": "2023-09-23T19:54:38.107901Z",
     "iopub.status.idle": "2023-09-23T19:54:38.113298Z",
     "shell.execute_reply": "2023-09-23T19:54:38.112232Z"
    },
    "papermill": {
     "duration": 0.596091,
     "end_time": "2023-09-23T19:54:38.115614",
     "exception": false,
     "start_time": "2023-09-23T19:54:37.519523",
     "status": "completed"
    },
    "tags": []
   },
   "outputs": [],
   "source": [
    "pickle.dump(scaler, open('/kaggle/working/scaler.pkl','wb'))\n"
   ]
  }
 ],
 "metadata": {
  "kernelspec": {
   "display_name": "Python 3",
   "language": "python",
   "name": "python3"
  },
  "language_info": {
   "codemirror_mode": {
    "name": "ipython",
    "version": 3
   },
   "file_extension": ".py",
   "mimetype": "text/x-python",
   "name": "python",
   "nbconvert_exporter": "python",
   "pygments_lexer": "ipython3",
   "version": "3.10.12"
  },
  "papermill": {
   "default_parameters": {},
   "duration": 358.503905,
   "end_time": "2023-09-23T19:54:40.532766",
   "environment_variables": {},
   "exception": null,
   "input_path": "__notebook__.ipynb",
   "output_path": "__notebook__.ipynb",
   "parameters": {},
   "start_time": "2023-09-23T19:48:42.028861",
   "version": "2.4.0"
  }
 },
 "nbformat": 4,
 "nbformat_minor": 5
}
