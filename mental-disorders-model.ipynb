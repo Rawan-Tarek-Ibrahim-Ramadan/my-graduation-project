{
 "cells": [
  {
   "cell_type": "code",
   "execution_count": 1,
   "id": "ea0e2457",
   "metadata": {
    "_cell_guid": "b1076dfc-b9ad-4769-8c92-a6c4dae69d19",
    "_uuid": "8f2839f25d086af736a60e9eeb907d3b93b6e0e5",
    "execution": {
     "iopub.execute_input": "2023-10-01T00:51:29.076954Z",
     "iopub.status.busy": "2023-10-01T00:51:29.076345Z",
     "iopub.status.idle": "2023-10-01T00:51:30.797889Z",
     "shell.execute_reply": "2023-10-01T00:51:30.796983Z"
    },
    "papermill": {
     "duration": 1.731499,
     "end_time": "2023-10-01T00:51:30.800641",
     "exception": false,
     "start_time": "2023-10-01T00:51:29.069142",
     "status": "completed"
    },
    "tags": []
   },
   "outputs": [
    {
     "name": "stdout",
     "output_type": "stream",
     "text": [
      "/kaggle/input/mental-disorders-dataset/Mental disorder symptoms.xlsx\n"
     ]
    }
   ],
   "source": [
    "# This Python 3 environment comes with many helpful analytics libraries installed\n",
    "# It is defined by the kaggle/python Docker image: https://github.com/kaggle/docker-python\n",
    "# For example, here's several helpful packages to load\n",
    "\n",
    "import numpy as np # linear algebra\n",
    "import pandas as pd # data processing, CSV file I/O (e.g. pd.read_csv)\n",
    "import matplotlib.pyplot as plt\n",
    "import seaborn as sns\n",
    "%matplotlib inline\n",
    "sns.set_style('whitegrid')\n",
    "\n",
    "# Input data files are available in the read-only \"../input/\" directory\n",
    "# For example, running this (by clicking run or pressing Shift+Enter) will list all files under the input directory\n",
    "\n",
    "import os\n",
    "for dirname, _, filenames in os.walk('/kaggle/input'):\n",
    "    for filename in filenames:\n",
    "        print(os.path.join(dirname, filename))\n",
    "\n",
    "# You can write up to 20GB to the current directory (/kaggle/working/) that gets preserved as output when you create a version using \"Save & Run All\" \n",
    "# You can also write temporary files to /kaggle/temp/, but they won't be saved outside of the current session"
   ]
  },
  {
   "cell_type": "code",
   "execution_count": 2,
   "id": "52182af2",
   "metadata": {
    "execution": {
     "iopub.execute_input": "2023-10-01T00:51:30.813860Z",
     "iopub.status.busy": "2023-10-01T00:51:30.812603Z",
     "iopub.status.idle": "2023-10-01T00:51:31.451343Z",
     "shell.execute_reply": "2023-10-01T00:51:31.449937Z"
    },
    "papermill": {
     "duration": 0.648469,
     "end_time": "2023-10-01T00:51:31.454656",
     "exception": false,
     "start_time": "2023-10-01T00:51:30.806187",
     "status": "completed"
    },
    "tags": []
   },
   "outputs": [],
   "source": [
    "Mental_disorders_path = '/kaggle/input/mental-disorders-dataset/Mental disorder symptoms.xlsx'\n",
    "df = pd.read_excel(Mental_disorders_path)"
   ]
  },
  {
   "cell_type": "code",
   "execution_count": 3,
   "id": "6b806e64",
   "metadata": {
    "execution": {
     "iopub.execute_input": "2023-10-01T00:51:31.467200Z",
     "iopub.status.busy": "2023-10-01T00:51:31.466412Z",
     "iopub.status.idle": "2023-10-01T00:51:31.513724Z",
     "shell.execute_reply": "2023-10-01T00:51:31.512468Z"
    },
    "papermill": {
     "duration": 0.056035,
     "end_time": "2023-10-01T00:51:31.516133",
     "exception": false,
     "start_time": "2023-10-01T00:51:31.460098",
     "status": "completed"
    },
    "tags": []
   },
   "outputs": [
    {
     "data": {
      "text/html": [
       "<div>\n",
       "<style scoped>\n",
       "    .dataframe tbody tr th:only-of-type {\n",
       "        vertical-align: middle;\n",
       "    }\n",
       "\n",
       "    .dataframe tbody tr th {\n",
       "        vertical-align: top;\n",
       "    }\n",
       "\n",
       "    .dataframe thead th {\n",
       "        text-align: right;\n",
       "    }\n",
       "</style>\n",
       "<table border=\"1\" class=\"dataframe\">\n",
       "  <thead>\n",
       "    <tr style=\"text-align: right;\">\n",
       "      <th></th>\n",
       "      <th>ag+1:629e</th>\n",
       "      <th>feeling.nervous</th>\n",
       "      <th>panic</th>\n",
       "      <th>breathing.rapidly</th>\n",
       "      <th>sweating</th>\n",
       "      <th>trouble.in.concentration</th>\n",
       "      <th>having.trouble.in.sleeping</th>\n",
       "      <th>having.trouble.with.work</th>\n",
       "      <th>hopelessness</th>\n",
       "      <th>anger</th>\n",
       "      <th>...</th>\n",
       "      <th>having.nightmares</th>\n",
       "      <th>avoids.people.or.activities</th>\n",
       "      <th>feeling.negative</th>\n",
       "      <th>trouble.concentrating</th>\n",
       "      <th>blamming.yourself</th>\n",
       "      <th>hallucinations</th>\n",
       "      <th>repetitive.behaviour</th>\n",
       "      <th>seasonally</th>\n",
       "      <th>increased.energy</th>\n",
       "      <th>Disorder</th>\n",
       "    </tr>\n",
       "  </thead>\n",
       "  <tbody>\n",
       "    <tr>\n",
       "      <th>0</th>\n",
       "      <td>23</td>\n",
       "      <td>1</td>\n",
       "      <td>0</td>\n",
       "      <td>1</td>\n",
       "      <td>0</td>\n",
       "      <td>0</td>\n",
       "      <td>1</td>\n",
       "      <td>0</td>\n",
       "      <td>1</td>\n",
       "      <td>0</td>\n",
       "      <td>...</td>\n",
       "      <td>0</td>\n",
       "      <td>0</td>\n",
       "      <td>1</td>\n",
       "      <td>0</td>\n",
       "      <td>0</td>\n",
       "      <td>0</td>\n",
       "      <td>0</td>\n",
       "      <td>0</td>\n",
       "      <td>0</td>\n",
       "      <td>MDD</td>\n",
       "    </tr>\n",
       "    <tr>\n",
       "      <th>1</th>\n",
       "      <td>14</td>\n",
       "      <td>1</td>\n",
       "      <td>0</td>\n",
       "      <td>1</td>\n",
       "      <td>0</td>\n",
       "      <td>0</td>\n",
       "      <td>1</td>\n",
       "      <td>0</td>\n",
       "      <td>0</td>\n",
       "      <td>1</td>\n",
       "      <td>...</td>\n",
       "      <td>1</td>\n",
       "      <td>1</td>\n",
       "      <td>0</td>\n",
       "      <td>0</td>\n",
       "      <td>0</td>\n",
       "      <td>0</td>\n",
       "      <td>1</td>\n",
       "      <td>0</td>\n",
       "      <td>0</td>\n",
       "      <td>ASD</td>\n",
       "    </tr>\n",
       "    <tr>\n",
       "      <th>2</th>\n",
       "      <td>25</td>\n",
       "      <td>0</td>\n",
       "      <td>0</td>\n",
       "      <td>0</td>\n",
       "      <td>0</td>\n",
       "      <td>0</td>\n",
       "      <td>0</td>\n",
       "      <td>0</td>\n",
       "      <td>0</td>\n",
       "      <td>0</td>\n",
       "      <td>...</td>\n",
       "      <td>0</td>\n",
       "      <td>0</td>\n",
       "      <td>0</td>\n",
       "      <td>0</td>\n",
       "      <td>0</td>\n",
       "      <td>0</td>\n",
       "      <td>0</td>\n",
       "      <td>0</td>\n",
       "      <td>0</td>\n",
       "      <td>Loneliness</td>\n",
       "    </tr>\n",
       "    <tr>\n",
       "      <th>3</th>\n",
       "      <td>29</td>\n",
       "      <td>1</td>\n",
       "      <td>0</td>\n",
       "      <td>0</td>\n",
       "      <td>0</td>\n",
       "      <td>1</td>\n",
       "      <td>1</td>\n",
       "      <td>0</td>\n",
       "      <td>0</td>\n",
       "      <td>0</td>\n",
       "      <td>...</td>\n",
       "      <td>0</td>\n",
       "      <td>0</td>\n",
       "      <td>0</td>\n",
       "      <td>1</td>\n",
       "      <td>1</td>\n",
       "      <td>0</td>\n",
       "      <td>0</td>\n",
       "      <td>0</td>\n",
       "      <td>1</td>\n",
       "      <td>bipolar</td>\n",
       "    </tr>\n",
       "    <tr>\n",
       "      <th>4</th>\n",
       "      <td>32</td>\n",
       "      <td>1</td>\n",
       "      <td>1</td>\n",
       "      <td>1</td>\n",
       "      <td>1</td>\n",
       "      <td>1</td>\n",
       "      <td>1</td>\n",
       "      <td>1</td>\n",
       "      <td>0</td>\n",
       "      <td>0</td>\n",
       "      <td>...</td>\n",
       "      <td>0</td>\n",
       "      <td>1</td>\n",
       "      <td>0</td>\n",
       "      <td>0</td>\n",
       "      <td>0</td>\n",
       "      <td>0</td>\n",
       "      <td>0</td>\n",
       "      <td>0</td>\n",
       "      <td>0</td>\n",
       "      <td>anexiety</td>\n",
       "    </tr>\n",
       "  </tbody>\n",
       "</table>\n",
       "<p>5 rows × 29 columns</p>\n",
       "</div>"
      ],
      "text/plain": [
       "   ag+1:629e  feeling.nervous  panic  breathing.rapidly  sweating  \\\n",
       "0         23                1      0                  1         0   \n",
       "1         14                1      0                  1         0   \n",
       "2         25                0      0                  0         0   \n",
       "3         29                1      0                  0         0   \n",
       "4         32                1      1                  1         1   \n",
       "\n",
       "   trouble.in.concentration  having.trouble.in.sleeping  \\\n",
       "0                         0                           1   \n",
       "1                         0                           1   \n",
       "2                         0                           0   \n",
       "3                         1                           1   \n",
       "4                         1                           1   \n",
       "\n",
       "   having.trouble.with.work  hopelessness  anger  ...  having.nightmares  \\\n",
       "0                         0             1      0  ...                  0   \n",
       "1                         0             0      1  ...                  1   \n",
       "2                         0             0      0  ...                  0   \n",
       "3                         0             0      0  ...                  0   \n",
       "4                         1             0      0  ...                  0   \n",
       "\n",
       "   avoids.people.or.activities  feeling.negative  trouble.concentrating  \\\n",
       "0                            0                 1                      0   \n",
       "1                            1                 0                      0   \n",
       "2                            0                 0                      0   \n",
       "3                            0                 0                      1   \n",
       "4                            1                 0                      0   \n",
       "\n",
       "   blamming.yourself  hallucinations  repetitive.behaviour  seasonally  \\\n",
       "0                  0               0                     0           0   \n",
       "1                  0               0                     1           0   \n",
       "2                  0               0                     0           0   \n",
       "3                  1               0                     0           0   \n",
       "4                  0               0                     0           0   \n",
       "\n",
       "   increased.energy    Disorder  \n",
       "0                 0         MDD  \n",
       "1                 0         ASD  \n",
       "2                 0  Loneliness  \n",
       "3                 1     bipolar  \n",
       "4                 0    anexiety  \n",
       "\n",
       "[5 rows x 29 columns]"
      ]
     },
     "execution_count": 3,
     "metadata": {},
     "output_type": "execute_result"
    }
   ],
   "source": [
    "df.head()"
   ]
  },
  {
   "cell_type": "code",
   "execution_count": 4,
   "id": "ab3a0422",
   "metadata": {
    "execution": {
     "iopub.execute_input": "2023-10-01T00:51:31.528376Z",
     "iopub.status.busy": "2023-10-01T00:51:31.527962Z",
     "iopub.status.idle": "2023-10-01T00:51:31.555086Z",
     "shell.execute_reply": "2023-10-01T00:51:31.553044Z"
    },
    "papermill": {
     "duration": 0.036186,
     "end_time": "2023-10-01T00:51:31.557514",
     "exception": false,
     "start_time": "2023-10-01T00:51:31.521328",
     "status": "completed"
    },
    "tags": []
   },
   "outputs": [
    {
     "name": "stdout",
     "output_type": "stream",
     "text": [
      "<class 'pandas.core.frame.DataFrame'>\n",
      "RangeIndex: 637 entries, 0 to 636\n",
      "Data columns (total 29 columns):\n",
      " #   Column                       Non-Null Count  Dtype \n",
      "---  ------                       --------------  ----- \n",
      " 0   ag+1:629e                    637 non-null    int64 \n",
      " 1   feeling.nervous              637 non-null    int64 \n",
      " 2   panic                        637 non-null    int64 \n",
      " 3   breathing.rapidly            637 non-null    int64 \n",
      " 4   sweating                     637 non-null    int64 \n",
      " 5   trouble.in.concentration     637 non-null    int64 \n",
      " 6   having.trouble.in.sleeping   637 non-null    int64 \n",
      " 7   having.trouble.with.work     637 non-null    int64 \n",
      " 8   hopelessness                 637 non-null    int64 \n",
      " 9   anger                        637 non-null    int64 \n",
      " 10  over.react                   637 non-null    int64 \n",
      " 11  change.in.eating             637 non-null    int64 \n",
      " 12  suicidal.thought             637 non-null    int64 \n",
      " 13  feeling.tired                637 non-null    int64 \n",
      " 14  close.friend                 637 non-null    int64 \n",
      " 15  social.media.addiction       637 non-null    int64 \n",
      " 16  weight.gain                  637 non-null    int64 \n",
      " 17  introvert                    637 non-null    int64 \n",
      " 18  popping.up.stressful.memory  637 non-null    int64 \n",
      " 19  having.nightmares            637 non-null    int64 \n",
      " 20  avoids.people.or.activities  637 non-null    int64 \n",
      " 21  feeling.negative             637 non-null    int64 \n",
      " 22  trouble.concentrating        637 non-null    int64 \n",
      " 23  blamming.yourself            637 non-null    int64 \n",
      " 24  hallucinations               637 non-null    int64 \n",
      " 25  repetitive.behaviour         637 non-null    int64 \n",
      " 26  seasonally                   637 non-null    int64 \n",
      " 27  increased.energy             637 non-null    int64 \n",
      " 28  Disorder                     637 non-null    object\n",
      "dtypes: int64(28), object(1)\n",
      "memory usage: 144.4+ KB\n"
     ]
    }
   ],
   "source": [
    "df.info()"
   ]
  },
  {
   "cell_type": "code",
   "execution_count": 5,
   "id": "63039de8",
   "metadata": {
    "execution": {
     "iopub.execute_input": "2023-10-01T00:51:31.571634Z",
     "iopub.status.busy": "2023-10-01T00:51:31.571191Z",
     "iopub.status.idle": "2023-10-01T00:51:31.597359Z",
     "shell.execute_reply": "2023-10-01T00:51:31.596101Z"
    },
    "papermill": {
     "duration": 0.036976,
     "end_time": "2023-10-01T00:51:31.599972",
     "exception": false,
     "start_time": "2023-10-01T00:51:31.562996",
     "status": "completed"
    },
    "tags": []
   },
   "outputs": [
    {
     "data": {
      "text/html": [
       "<div>\n",
       "<style scoped>\n",
       "    .dataframe tbody tr th:only-of-type {\n",
       "        vertical-align: middle;\n",
       "    }\n",
       "\n",
       "    .dataframe tbody tr th {\n",
       "        vertical-align: top;\n",
       "    }\n",
       "\n",
       "    .dataframe thead th {\n",
       "        text-align: right;\n",
       "    }\n",
       "</style>\n",
       "<table border=\"1\" class=\"dataframe\">\n",
       "  <thead>\n",
       "    <tr style=\"text-align: right;\">\n",
       "      <th></th>\n",
       "      <th>feeling.nervous</th>\n",
       "      <th>panic</th>\n",
       "      <th>breathing.rapidly</th>\n",
       "      <th>sweating</th>\n",
       "      <th>trouble.in.concentration</th>\n",
       "      <th>trouble.sleeping</th>\n",
       "      <th>trouble.with.work</th>\n",
       "      <th>hopelessness</th>\n",
       "      <th>anger</th>\n",
       "      <th>over.react</th>\n",
       "      <th>...</th>\n",
       "      <th>nightmares</th>\n",
       "      <th>avoids.people.or.activities</th>\n",
       "      <th>feeling.negative</th>\n",
       "      <th>trouble.concentrating</th>\n",
       "      <th>blamming.yourself</th>\n",
       "      <th>hallucinations</th>\n",
       "      <th>repetitive.behaviour</th>\n",
       "      <th>seasonally</th>\n",
       "      <th>increased.energy</th>\n",
       "      <th>Disorder</th>\n",
       "    </tr>\n",
       "    <tr>\n",
       "      <th>age</th>\n",
       "      <th></th>\n",
       "      <th></th>\n",
       "      <th></th>\n",
       "      <th></th>\n",
       "      <th></th>\n",
       "      <th></th>\n",
       "      <th></th>\n",
       "      <th></th>\n",
       "      <th></th>\n",
       "      <th></th>\n",
       "      <th></th>\n",
       "      <th></th>\n",
       "      <th></th>\n",
       "      <th></th>\n",
       "      <th></th>\n",
       "      <th></th>\n",
       "      <th></th>\n",
       "      <th></th>\n",
       "      <th></th>\n",
       "      <th></th>\n",
       "      <th></th>\n",
       "    </tr>\n",
       "  </thead>\n",
       "  <tbody>\n",
       "    <tr>\n",
       "      <th>23</th>\n",
       "      <td>1</td>\n",
       "      <td>0</td>\n",
       "      <td>1</td>\n",
       "      <td>0</td>\n",
       "      <td>0</td>\n",
       "      <td>1</td>\n",
       "      <td>0</td>\n",
       "      <td>1</td>\n",
       "      <td>0</td>\n",
       "      <td>0</td>\n",
       "      <td>...</td>\n",
       "      <td>0</td>\n",
       "      <td>0</td>\n",
       "      <td>1</td>\n",
       "      <td>0</td>\n",
       "      <td>0</td>\n",
       "      <td>0</td>\n",
       "      <td>0</td>\n",
       "      <td>0</td>\n",
       "      <td>0</td>\n",
       "      <td>MDD</td>\n",
       "    </tr>\n",
       "    <tr>\n",
       "      <th>14</th>\n",
       "      <td>1</td>\n",
       "      <td>0</td>\n",
       "      <td>1</td>\n",
       "      <td>0</td>\n",
       "      <td>0</td>\n",
       "      <td>1</td>\n",
       "      <td>0</td>\n",
       "      <td>0</td>\n",
       "      <td>1</td>\n",
       "      <td>1</td>\n",
       "      <td>...</td>\n",
       "      <td>1</td>\n",
       "      <td>1</td>\n",
       "      <td>0</td>\n",
       "      <td>0</td>\n",
       "      <td>0</td>\n",
       "      <td>0</td>\n",
       "      <td>1</td>\n",
       "      <td>0</td>\n",
       "      <td>0</td>\n",
       "      <td>ASD</td>\n",
       "    </tr>\n",
       "    <tr>\n",
       "      <th>25</th>\n",
       "      <td>0</td>\n",
       "      <td>0</td>\n",
       "      <td>0</td>\n",
       "      <td>0</td>\n",
       "      <td>0</td>\n",
       "      <td>0</td>\n",
       "      <td>0</td>\n",
       "      <td>0</td>\n",
       "      <td>0</td>\n",
       "      <td>0</td>\n",
       "      <td>...</td>\n",
       "      <td>0</td>\n",
       "      <td>0</td>\n",
       "      <td>0</td>\n",
       "      <td>0</td>\n",
       "      <td>0</td>\n",
       "      <td>0</td>\n",
       "      <td>0</td>\n",
       "      <td>0</td>\n",
       "      <td>0</td>\n",
       "      <td>Loneliness</td>\n",
       "    </tr>\n",
       "    <tr>\n",
       "      <th>29</th>\n",
       "      <td>1</td>\n",
       "      <td>0</td>\n",
       "      <td>0</td>\n",
       "      <td>0</td>\n",
       "      <td>1</td>\n",
       "      <td>1</td>\n",
       "      <td>0</td>\n",
       "      <td>0</td>\n",
       "      <td>0</td>\n",
       "      <td>1</td>\n",
       "      <td>...</td>\n",
       "      <td>0</td>\n",
       "      <td>0</td>\n",
       "      <td>0</td>\n",
       "      <td>1</td>\n",
       "      <td>1</td>\n",
       "      <td>0</td>\n",
       "      <td>0</td>\n",
       "      <td>0</td>\n",
       "      <td>1</td>\n",
       "      <td>bipolar</td>\n",
       "    </tr>\n",
       "    <tr>\n",
       "      <th>32</th>\n",
       "      <td>1</td>\n",
       "      <td>1</td>\n",
       "      <td>1</td>\n",
       "      <td>1</td>\n",
       "      <td>1</td>\n",
       "      <td>1</td>\n",
       "      <td>1</td>\n",
       "      <td>0</td>\n",
       "      <td>0</td>\n",
       "      <td>0</td>\n",
       "      <td>...</td>\n",
       "      <td>0</td>\n",
       "      <td>1</td>\n",
       "      <td>0</td>\n",
       "      <td>0</td>\n",
       "      <td>0</td>\n",
       "      <td>0</td>\n",
       "      <td>0</td>\n",
       "      <td>0</td>\n",
       "      <td>0</td>\n",
       "      <td>anexiety</td>\n",
       "    </tr>\n",
       "    <tr>\n",
       "      <th>...</th>\n",
       "      <td>...</td>\n",
       "      <td>...</td>\n",
       "      <td>...</td>\n",
       "      <td>...</td>\n",
       "      <td>...</td>\n",
       "      <td>...</td>\n",
       "      <td>...</td>\n",
       "      <td>...</td>\n",
       "      <td>...</td>\n",
       "      <td>...</td>\n",
       "      <td>...</td>\n",
       "      <td>...</td>\n",
       "      <td>...</td>\n",
       "      <td>...</td>\n",
       "      <td>...</td>\n",
       "      <td>...</td>\n",
       "      <td>...</td>\n",
       "      <td>...</td>\n",
       "      <td>...</td>\n",
       "      <td>...</td>\n",
       "      <td>...</td>\n",
       "    </tr>\n",
       "    <tr>\n",
       "      <th>23</th>\n",
       "      <td>1</td>\n",
       "      <td>0</td>\n",
       "      <td>1</td>\n",
       "      <td>1</td>\n",
       "      <td>0</td>\n",
       "      <td>0</td>\n",
       "      <td>0</td>\n",
       "      <td>0</td>\n",
       "      <td>0</td>\n",
       "      <td>0</td>\n",
       "      <td>...</td>\n",
       "      <td>0</td>\n",
       "      <td>0</td>\n",
       "      <td>1</td>\n",
       "      <td>0</td>\n",
       "      <td>0</td>\n",
       "      <td>0</td>\n",
       "      <td>0</td>\n",
       "      <td>0</td>\n",
       "      <td>0</td>\n",
       "      <td>eating disorder</td>\n",
       "    </tr>\n",
       "    <tr>\n",
       "      <th>27</th>\n",
       "      <td>1</td>\n",
       "      <td>0</td>\n",
       "      <td>1</td>\n",
       "      <td>0</td>\n",
       "      <td>0</td>\n",
       "      <td>0</td>\n",
       "      <td>0</td>\n",
       "      <td>1</td>\n",
       "      <td>1</td>\n",
       "      <td>0</td>\n",
       "      <td>...</td>\n",
       "      <td>1</td>\n",
       "      <td>0</td>\n",
       "      <td>1</td>\n",
       "      <td>1</td>\n",
       "      <td>1</td>\n",
       "      <td>0</td>\n",
       "      <td>0</td>\n",
       "      <td>0</td>\n",
       "      <td>0</td>\n",
       "      <td>PDD</td>\n",
       "    </tr>\n",
       "    <tr>\n",
       "      <th>19</th>\n",
       "      <td>0</td>\n",
       "      <td>1</td>\n",
       "      <td>0</td>\n",
       "      <td>0</td>\n",
       "      <td>1</td>\n",
       "      <td>0</td>\n",
       "      <td>1</td>\n",
       "      <td>0</td>\n",
       "      <td>0</td>\n",
       "      <td>1</td>\n",
       "      <td>...</td>\n",
       "      <td>0</td>\n",
       "      <td>1</td>\n",
       "      <td>0</td>\n",
       "      <td>1</td>\n",
       "      <td>0</td>\n",
       "      <td>0</td>\n",
       "      <td>1</td>\n",
       "      <td>0</td>\n",
       "      <td>1</td>\n",
       "      <td>ASD</td>\n",
       "    </tr>\n",
       "    <tr>\n",
       "      <th>16</th>\n",
       "      <td>1</td>\n",
       "      <td>0</td>\n",
       "      <td>0</td>\n",
       "      <td>0</td>\n",
       "      <td>0</td>\n",
       "      <td>0</td>\n",
       "      <td>1</td>\n",
       "      <td>0</td>\n",
       "      <td>0</td>\n",
       "      <td>0</td>\n",
       "      <td>...</td>\n",
       "      <td>0</td>\n",
       "      <td>0</td>\n",
       "      <td>0</td>\n",
       "      <td>0</td>\n",
       "      <td>0</td>\n",
       "      <td>0</td>\n",
       "      <td>0</td>\n",
       "      <td>0</td>\n",
       "      <td>0</td>\n",
       "      <td>Loneliness</td>\n",
       "    </tr>\n",
       "    <tr>\n",
       "      <th>14</th>\n",
       "      <td>1</td>\n",
       "      <td>0</td>\n",
       "      <td>1</td>\n",
       "      <td>0</td>\n",
       "      <td>0</td>\n",
       "      <td>1</td>\n",
       "      <td>0</td>\n",
       "      <td>0</td>\n",
       "      <td>1</td>\n",
       "      <td>1</td>\n",
       "      <td>...</td>\n",
       "      <td>1</td>\n",
       "      <td>1</td>\n",
       "      <td>0</td>\n",
       "      <td>0</td>\n",
       "      <td>0</td>\n",
       "      <td>0</td>\n",
       "      <td>1</td>\n",
       "      <td>0</td>\n",
       "      <td>0</td>\n",
       "      <td>ASD</td>\n",
       "    </tr>\n",
       "  </tbody>\n",
       "</table>\n",
       "<p>637 rows × 28 columns</p>\n",
       "</div>"
      ],
      "text/plain": [
       "     feeling.nervous  panic  breathing.rapidly  sweating  \\\n",
       "age                                                        \n",
       "23                 1      0                  1         0   \n",
       "14                 1      0                  1         0   \n",
       "25                 0      0                  0         0   \n",
       "29                 1      0                  0         0   \n",
       "32                 1      1                  1         1   \n",
       "..               ...    ...                ...       ...   \n",
       "23                 1      0                  1         1   \n",
       "27                 1      0                  1         0   \n",
       "19                 0      1                  0         0   \n",
       "16                 1      0                  0         0   \n",
       "14                 1      0                  1         0   \n",
       "\n",
       "     trouble.in.concentration  trouble.sleeping  trouble.with.work  \\\n",
       "age                                                                  \n",
       "23                          0                 1                  0   \n",
       "14                          0                 1                  0   \n",
       "25                          0                 0                  0   \n",
       "29                          1                 1                  0   \n",
       "32                          1                 1                  1   \n",
       "..                        ...               ...                ...   \n",
       "23                          0                 0                  0   \n",
       "27                          0                 0                  0   \n",
       "19                          1                 0                  1   \n",
       "16                          0                 0                  1   \n",
       "14                          0                 1                  0   \n",
       "\n",
       "     hopelessness  anger  over.react  ...  nightmares  \\\n",
       "age                                   ...               \n",
       "23              1      0           0  ...           0   \n",
       "14              0      1           1  ...           1   \n",
       "25              0      0           0  ...           0   \n",
       "29              0      0           1  ...           0   \n",
       "32              0      0           0  ...           0   \n",
       "..            ...    ...         ...  ...         ...   \n",
       "23              0      0           0  ...           0   \n",
       "27              1      1           0  ...           1   \n",
       "19              0      0           1  ...           0   \n",
       "16              0      0           0  ...           0   \n",
       "14              0      1           1  ...           1   \n",
       "\n",
       "     avoids.people.or.activities  feeling.negative  trouble.concentrating  \\\n",
       "age                                                                         \n",
       "23                             0                 1                      0   \n",
       "14                             1                 0                      0   \n",
       "25                             0                 0                      0   \n",
       "29                             0                 0                      1   \n",
       "32                             1                 0                      0   \n",
       "..                           ...               ...                    ...   \n",
       "23                             0                 1                      0   \n",
       "27                             0                 1                      1   \n",
       "19                             1                 0                      1   \n",
       "16                             0                 0                      0   \n",
       "14                             1                 0                      0   \n",
       "\n",
       "     blamming.yourself  hallucinations  repetitive.behaviour  seasonally  \\\n",
       "age                                                                        \n",
       "23                   0               0                     0           0   \n",
       "14                   0               0                     1           0   \n",
       "25                   0               0                     0           0   \n",
       "29                   1               0                     0           0   \n",
       "32                   0               0                     0           0   \n",
       "..                 ...             ...                   ...         ...   \n",
       "23                   0               0                     0           0   \n",
       "27                   1               0                     0           0   \n",
       "19                   0               0                     1           0   \n",
       "16                   0               0                     0           0   \n",
       "14                   0               0                     1           0   \n",
       "\n",
       "     increased.energy         Disorder  \n",
       "age                                     \n",
       "23                  0              MDD  \n",
       "14                  0              ASD  \n",
       "25                  0       Loneliness  \n",
       "29                  1          bipolar  \n",
       "32                  0         anexiety  \n",
       "..                ...              ...  \n",
       "23                  0  eating disorder  \n",
       "27                  0              PDD  \n",
       "19                  1              ASD  \n",
       "16                  0       Loneliness  \n",
       "14                  0              ASD  \n",
       "\n",
       "[637 rows x 28 columns]"
      ]
     },
     "execution_count": 5,
     "metadata": {},
     "output_type": "execute_result"
    }
   ],
   "source": [
    "df = df.rename(columns={'ag+1:629e':'age'})\n",
    "df = df.rename(columns={'having.trouble.in.sleeping':'trouble.sleeping'})\n",
    "df = df.rename(columns={'having.trouble.with.work':'trouble.with.work'})\n",
    "df = df.rename(columns={'having.nightmares':'nightmares'})\n",
    "\n",
    "df.set_index(['age'])"
   ]
  },
  {
   "cell_type": "markdown",
   "id": "cabb0d65",
   "metadata": {
    "papermill": {
     "duration": 0.005169,
     "end_time": "2023-10-01T00:51:31.610804",
     "exception": false,
     "start_time": "2023-10-01T00:51:31.605635",
     "status": "completed"
    },
    "tags": []
   },
   "source": [
    "Some preliminary data visualisation and analysis"
   ]
  },
  {
   "cell_type": "code",
   "execution_count": 6,
   "id": "713646be",
   "metadata": {
    "execution": {
     "iopub.execute_input": "2023-10-01T00:51:31.623536Z",
     "iopub.status.busy": "2023-10-01T00:51:31.623178Z",
     "iopub.status.idle": "2023-10-01T00:51:32.047406Z",
     "shell.execute_reply": "2023-10-01T00:51:32.046486Z"
    },
    "papermill": {
     "duration": 0.433406,
     "end_time": "2023-10-01T00:51:32.049679",
     "exception": false,
     "start_time": "2023-10-01T00:51:31.616273",
     "status": "completed"
    },
    "tags": []
   },
   "outputs": [
    {
     "data": {
      "text/plain": [
       "<Axes: xlabel='age', ylabel='Count'>"
      ]
     },
     "execution_count": 6,
     "metadata": {},
     "output_type": "execute_result"
    },
    {
     "data": {
      "image/png": "[encoded data removed]",
      "text/plain": [
       "<Figure size 640x480 with 1 Axes>"
      ]
     },
     "metadata": {},
     "output_type": "display_data"
    }
   ],
   "source": [
    "# Histogram of Age Profile\n",
    "sns.histplot(df.age, kde=True)"
   ]
  },
  {
   "cell_type": "markdown",
   "id": "d8dcf5b2",
   "metadata": {
    "papermill": {
     "duration": 0.005975,
     "end_time": "2023-10-01T00:51:32.062005",
     "exception": false,
     "start_time": "2023-10-01T00:51:32.056030",
     "status": "completed"
    },
    "tags": []
   },
   "source": [
    "Looks like an amalgamation of a few distributions, with onset of MH problems occurring in youth, late 20s and 40s."
   ]
  },
  {
   "cell_type": "code",
   "execution_count": 7,
   "id": "001af786",
   "metadata": {
    "execution": {
     "iopub.execute_input": "2023-10-01T00:51:32.076721Z",
     "iopub.status.busy": "2023-10-01T00:51:32.076191Z",
     "iopub.status.idle": "2023-10-01T00:51:32.272001Z",
     "shell.execute_reply": "2023-10-01T00:51:32.270500Z"
    },
    "papermill": {
     "duration": 0.206343,
     "end_time": "2023-10-01T00:51:32.274632",
     "exception": false,
     "start_time": "2023-10-01T00:51:32.068289",
     "status": "completed"
    },
    "tags": []
   },
   "outputs": [],
   "source": [
    "from sklearn.preprocessing import OrdinalEncoder\n",
    "encoder = OrdinalEncoder()\n",
    "\n",
    "encoder.fit(df[['Disorder']])\n",
    "df['Disorder']= encoder.transform(df[['Disorder']])\n",
    "\n"
   ]
  },
  {
   "cell_type": "code",
   "execution_count": 8,
   "id": "e3fc2f7d",
   "metadata": {
    "execution": {
     "iopub.execute_input": "2023-10-01T00:51:32.289127Z",
     "iopub.status.busy": "2023-10-01T00:51:32.288687Z",
     "iopub.status.idle": "2023-10-01T00:51:32.420451Z",
     "shell.execute_reply": "2023-10-01T00:51:32.418999Z"
    },
    "papermill": {
     "duration": 0.14197,
     "end_time": "2023-10-01T00:51:32.422996",
     "exception": false,
     "start_time": "2023-10-01T00:51:32.281026",
     "status": "completed"
    },
    "tags": []
   },
   "outputs": [],
   "source": [
    "from sklearn.model_selection import train_test_split\n",
    "X= df.drop(columns=['Disorder'], axis=1)\n",
    "y = df['Disorder']"
   ]
  },
  {
   "cell_type": "code",
   "execution_count": 9,
   "id": "17c8fba5",
   "metadata": {
    "execution": {
     "iopub.execute_input": "2023-10-01T00:51:32.437222Z",
     "iopub.status.busy": "2023-10-01T00:51:32.436757Z",
     "iopub.status.idle": "2023-10-01T00:51:32.445170Z",
     "shell.execute_reply": "2023-10-01T00:51:32.443964Z"
    },
    "papermill": {
     "duration": 0.018302,
     "end_time": "2023-10-01T00:51:32.447607",
     "exception": false,
     "start_time": "2023-10-01T00:51:32.429305",
     "status": "completed"
    },
    "tags": []
   },
   "outputs": [],
   "source": [
    "X_train, X_test, y_train, y_test = train_test_split(X, y , test_size =.2, random_state=42)"
   ]
  },
  {
   "cell_type": "code",
   "execution_count": 10,
   "id": "72320f14",
   "metadata": {
    "execution": {
     "iopub.execute_input": "2023-10-01T00:51:32.462346Z",
     "iopub.status.busy": "2023-10-01T00:51:32.461898Z",
     "iopub.status.idle": "2023-10-01T00:51:32.469559Z",
     "shell.execute_reply": "2023-10-01T00:51:32.468402Z"
    },
    "papermill": {
     "duration": 0.017558,
     "end_time": "2023-10-01T00:51:32.471565",
     "exception": false,
     "start_time": "2023-10-01T00:51:32.454007",
     "status": "completed"
    },
    "tags": []
   },
   "outputs": [
    {
     "data": {
      "text/plain": [
       "(509, 28)"
      ]
     },
     "execution_count": 10,
     "metadata": {},
     "output_type": "execute_result"
    }
   ],
   "source": [
    "X_train.shape"
   ]
  },
  {
   "cell_type": "code",
   "execution_count": 11,
   "id": "eef526d9",
   "metadata": {
    "execution": {
     "iopub.execute_input": "2023-10-01T00:51:32.486450Z",
     "iopub.status.busy": "2023-10-01T00:51:32.485990Z",
     "iopub.status.idle": "2023-10-01T00:51:32.634740Z",
     "shell.execute_reply": "2023-10-01T00:51:32.633356Z"
    },
    "papermill": {
     "duration": 0.159819,
     "end_time": "2023-10-01T00:51:32.637717",
     "exception": false,
     "start_time": "2023-10-01T00:51:32.477898",
     "status": "completed"
    },
    "tags": []
   },
   "outputs": [],
   "source": [
    "from sklearn.discriminant_analysis import LinearDiscriminantAnalysis\n",
    "from sklearn.discriminant_analysis import QuadraticDiscriminantAnalysis\n",
    "from sklearn.metrics import confusion_matrix, classification_report\n",
    "from sklearn.metrics import precision_score\n",
    "from sklearn.metrics import accuracy_score\n",
    "from sklearn.metrics import recall_score"
   ]
  },
  {
   "cell_type": "code",
   "execution_count": 12,
   "id": "48437520",
   "metadata": {
    "execution": {
     "iopub.execute_input": "2023-10-01T00:51:32.653977Z",
     "iopub.status.busy": "2023-10-01T00:51:32.653530Z",
     "iopub.status.idle": "2023-10-01T00:51:34.429364Z",
     "shell.execute_reply": "2023-10-01T00:51:34.427907Z"
    },
    "papermill": {
     "duration": 1.786961,
     "end_time": "2023-10-01T00:51:34.432598",
     "exception": false,
     "start_time": "2023-10-01T00:51:32.645637",
     "status": "completed"
    },
    "tags": []
   },
   "outputs": [],
   "source": [
    "from sklearn.ensemble import AdaBoostClassifier\n",
    "from sklearn.ensemble import GradientBoostingClassifier\n",
    "from xgboost import XGBClassifier\n",
    "import lightgbm as lgb"
   ]
  },
  {
   "cell_type": "code",
   "execution_count": 13,
   "id": "d60f9c3c",
   "metadata": {
    "execution": {
     "iopub.execute_input": "2023-10-01T00:51:34.449049Z",
     "iopub.status.busy": "2023-10-01T00:51:34.448618Z",
     "iopub.status.idle": "2023-10-01T00:51:34.453194Z",
     "shell.execute_reply": "2023-10-01T00:51:34.452371Z"
    },
    "papermill": {
     "duration": 0.015909,
     "end_time": "2023-10-01T00:51:34.455254",
     "exception": false,
     "start_time": "2023-10-01T00:51:34.439345",
     "status": "completed"
    },
    "tags": []
   },
   "outputs": [],
   "source": [
    "from sklearn.model_selection import KFold, cross_val_score\n"
   ]
  },
  {
   "cell_type": "code",
   "execution_count": 14,
   "id": "4e059adb",
   "metadata": {
    "execution": {
     "iopub.execute_input": "2023-10-01T00:51:34.470148Z",
     "iopub.status.busy": "2023-10-01T00:51:34.469668Z",
     "iopub.status.idle": "2023-10-01T00:51:34.480757Z",
     "shell.execute_reply": "2023-10-01T00:51:34.479559Z"
    },
    "papermill": {
     "duration": 0.021445,
     "end_time": "2023-10-01T00:51:34.482973",
     "exception": false,
     "start_time": "2023-10-01T00:51:34.461528",
     "status": "completed"
    },
    "tags": []
   },
   "outputs": [
    {
     "data": {
      "text/plain": [
       "0      3.0\n",
       "1      1.0\n",
       "2      2.0\n",
       "3      8.0\n",
       "4      7.0\n",
       "      ... \n",
       "632    9.0\n",
       "633    5.0\n",
       "634    1.0\n",
       "635    2.0\n",
       "636    1.0\n",
       "Name: Disorder, Length: 637, dtype: float64"
      ]
     },
     "execution_count": 14,
     "metadata": {},
     "output_type": "execute_result"
    }
   ],
   "source": [
    "y"
   ]
  },
  {
   "cell_type": "code",
   "execution_count": 15,
   "id": "2d57d991",
   "metadata": {
    "execution": {
     "iopub.execute_input": "2023-10-01T00:51:34.497621Z",
     "iopub.status.busy": "2023-10-01T00:51:34.497175Z",
     "iopub.status.idle": "2023-10-01T00:51:34.509086Z",
     "shell.execute_reply": "2023-10-01T00:51:34.507819Z"
    },
    "papermill": {
     "duration": 0.021925,
     "end_time": "2023-10-01T00:51:34.511304",
     "exception": false,
     "start_time": "2023-10-01T00:51:34.489379",
     "status": "completed"
    },
    "tags": []
   },
   "outputs": [
    {
     "data": {
      "text/plain": [
       "array([ 3.,  1.,  2.,  8.,  7.,  6., 11., 10.,  1.,  9.,  0.,  1.,  1.,\n",
       "        0.,  3.,  5.,  6.,  4.,  9.,  8., 11.,  6.,  4., 10.,  2.,  9.,\n",
       "        5.,  6.,  9., 10.,  1.,  2.,  6.,  2.,  8., 11., 11.,  7.,  6.,\n",
       "        3., 10., 10.,  9.,  8., 11.,  1.,  2.,  1.,  2.,  0.,  1.,  9.,\n",
       "        8., 11.,  7.,  5.,  5.,  8.,  7.,  5., 10.,  1.,  9.,  0.,  1.,\n",
       "        1.,  7.,  3.,  3.,  0.,  3.,  1.,  2.,  8.,  7.,  7.,  5.,  5.,\n",
       "        9.,  7.,  3.,  3.,  6.,  4.,  0.,  3.,  1.,  2.,  8.,  7.,  6.,\n",
       "       11., 10.,  1.,  9.,  0.,  1.,  1.,  7.,  3.,  3.,  6.,  4.,  9.,\n",
       "        0.,  0.,  0.,  4.,  9.,  1.,  9.,  8., 11.,  6.,  4.,  9., 10.,\n",
       "        1.,  2.,  6.,  2.,  8.,  2.,  8.,  7.,  6.,  1.,  7.,  3.,  0.,\n",
       "        1.,  0.,  7.,  3.,  5.,  0.,  4.,  9., 11.,  7.,  5.,  5.,  1.,\n",
       "        2.,  8.,  7.,  7.,  5.,  5.,  9.,  7.,  3.,  3., 11., 11.,  3.,\n",
       "        0.,  1.,  1.,  7.,  3.,  5.,  6.,  4.,  9.,  0.,  5.,  5.,  9.,\n",
       "        7.,  3.,  3.,  9.,  5.,  1.,  2.,  1.,  2.,  0.,  1.,  9.,  8.,\n",
       "       11.,  7.,  5.,  5.,  8.,  7.,  5., 10.,  1.,  9.,  0.,  1.,  1.,\n",
       "        7.,  3.,  0.,  1.,  0.,  7.,  3.,  5.,  0.,  4.,  8.,  7.,  7.,\n",
       "        5.,  5.,  9.,  7.,  3.,  3.,  6.,  4.,  0.,  3.,  1.,  2.,  8.,\n",
       "        7.,  6., 11., 10.,  1.,  9.,  0.,  1.,  6.,  2.,  8., 11., 11.,\n",
       "        7.,  6.,  3., 10., 10.,  9.,  8., 11.,  1.,  2.,  1.,  2.,  0.,\n",
       "        1.,  9.,  8.,  0.,  0.,  7.,  3.,  3.,  6.,  4.,  9.,  0.,  0.,\n",
       "        0.,  4.,  9.,  1.,  9.,  8., 11.,  6.,  4.,  9., 10.,  1.,  2.,\n",
       "        6.,  2.,  8.,  2.,  8.,  7.,  6.,  1.,  7.,  3.,  0.,  1.,  0.,\n",
       "        7.,  3.,  5.,  0.,  4.,  5.,  5.,  8.,  7.,  5., 10.,  1.,  9.,\n",
       "        0.,  1.,  1.,  7.,  3.,  0.,  1.,  6.,  4.,  9.,  8., 11.,  6.,\n",
       "        4., 10.,  2.,  9.,  5.,  6.,  9., 10.,  1.,  2.,  6.,  2.,  8.,\n",
       "        6.,  3., 10., 10.,  9.,  8., 11.,  1.,  2.,  1.,  2.,  0.,  1.,\n",
       "        9.,  8.,  0.,  0.,  7.,  3.,  3.,  6.,  4.,  9.,  0.,  2.,  8.,\n",
       "        7.,  7.,  5.,  5.,  9.,  7.,  3.,  3.,  6.,  4.,  0.,  3.,  1.,\n",
       "        2.,  8.,  7.,  6., 11., 10.,  1.,  9.,  0.,  1.,  1.,  7.,  1.,\n",
       "        0.,  7.,  3.,  5.,  0.,  4.,  9., 11.,  7.,  5.,  5.,  1.,  2.,\n",
       "        8.,  7.,  7.,  5.,  5.,  9.,  7.,  3.,  3., 11., 11.,  3.,  0.,\n",
       "        1.,  1.,  7.,  3.,  5.,  6.,  4.,  9.,  0.,  5.,  5.,  9.,  7.,\n",
       "        3.,  3.,  9.,  5.,  1.,  2.,  1.,  2.,  0.,  1.,  9.,  8.,  3.,\n",
       "        3.,  6.,  4.,  0.,  3.,  1.,  2.,  8.,  7.,  6., 11., 10.,  1.,\n",
       "        9.,  0.,  1.,  1.,  7.,  3.,  3.,  6.,  4.,  9.,  0.,  0.,  0.,\n",
       "        4.,  9.,  1.,  9.,  8., 11.,  6.,  4.,  9., 10.,  1.,  2.,  6.,\n",
       "        2.,  8.,  2.,  8.,  7.,  6.,  1.,  7.,  3.,  0.,  1.,  0.,  7.,\n",
       "        3.,  5.,  0.,  4.,  9., 11.,  7.,  5.,  5.,  1.,  2.,  8.,  7.,\n",
       "        7.,  5.,  5.,  9.,  7.,  3.,  3., 11., 11.,  3.,  0.,  1.,  1.,\n",
       "        7.,  3.,  5.,  6.,  4.,  9.,  0.,  5.,  5.,  9.,  7.,  3.,  3.,\n",
       "        9.,  5.,  1.,  2.,  1.,  2.,  0.,  1.,  9.,  8., 11.,  7.,  5.,\n",
       "        5.,  8.,  5.,  5.,  9.,  7.,  3.,  3.,  6.,  4.,  0.,  3.,  1.,\n",
       "        2.,  8.,  7.,  6., 11., 10.,  1.,  9.,  0.,  1.,  6.,  2.,  8.,\n",
       "       11., 11.,  7.,  6.,  3., 10., 10.,  9.,  8., 11.,  1.,  2.,  1.,\n",
       "        2.,  0.,  1.,  9.,  0.,  1.,  0.,  7.,  3.,  5.,  0.,  4.,  5.,\n",
       "        5.,  8.,  7.,  5., 10.,  1.,  9.,  0.,  1.,  1.,  7.,  3.,  0.,\n",
       "        1.,  6.,  4.,  9.,  8., 11.,  6.,  4., 10.,  2.,  9.,  5.,  6.,\n",
       "        9., 10.,  1.,  2.,  6.,  0.,  1.,  1.,  7.,  3.,  5.,  6.,  4.,\n",
       "        9.,  0.,  5.,  5.,  9.,  7.,  3.,  3.,  9.,  5.,  1.,  2.,  1.])"
      ]
     },
     "execution_count": 15,
     "metadata": {},
     "output_type": "execute_result"
    }
   ],
   "source": [
    "y.values"
   ]
  },
  {
   "cell_type": "code",
   "execution_count": 16,
   "id": "dfd6ced0",
   "metadata": {
    "execution": {
     "iopub.execute_input": "2023-10-01T00:51:34.526032Z",
     "iopub.status.busy": "2023-10-01T00:51:34.525573Z",
     "iopub.status.idle": "2023-10-01T00:51:34.531150Z",
     "shell.execute_reply": "2023-10-01T00:51:34.530061Z"
    },
    "papermill": {
     "duration": 0.015813,
     "end_time": "2023-10-01T00:51:34.533524",
     "exception": false,
     "start_time": "2023-10-01T00:51:34.517711",
     "status": "completed"
    },
    "tags": []
   },
   "outputs": [],
   "source": [
    "import pickle"
   ]
  },
  {
   "cell_type": "code",
   "execution_count": 17,
   "id": "8b46a0cc",
   "metadata": {
    "execution": {
     "iopub.execute_input": "2023-10-01T00:51:34.548293Z",
     "iopub.status.busy": "2023-10-01T00:51:34.547841Z",
     "iopub.status.idle": "2023-10-01T00:51:34.553189Z",
     "shell.execute_reply": "2023-10-01T00:51:34.551997Z"
    },
    "papermill": {
     "duration": 0.015182,
     "end_time": "2023-10-01T00:51:34.555349",
     "exception": false,
     "start_time": "2023-10-01T00:51:34.540167",
     "status": "completed"
    },
    "tags": []
   },
   "outputs": [],
   "source": [
    "from sklearn.model_selection import KFold, cross_val_score\n"
   ]
  },
  {
   "cell_type": "code",
   "execution_count": 18,
   "id": "b6134e2a",
   "metadata": {
    "execution": {
     "iopub.execute_input": "2023-10-01T00:51:34.569584Z",
     "iopub.status.busy": "2023-10-01T00:51:34.569240Z",
     "iopub.status.idle": "2023-10-01T00:51:34.580445Z",
     "shell.execute_reply": "2023-10-01T00:51:34.579254Z"
    },
    "papermill": {
     "duration": 0.021294,
     "end_time": "2023-10-01T00:51:34.582925",
     "exception": false,
     "start_time": "2023-10-01T00:51:34.561631",
     "status": "completed"
    },
    "tags": []
   },
   "outputs": [],
   "source": [
    "def my_function(model):\n",
    "    model.fit(X_train, y_train)\n",
    "    test_data_prediction = model.predict(X_test)\n",
    "    accuracy = accuracy_score(y_test, test_data_prediction)\n",
    "  \n",
    "  \n",
    "    precision = precision_score(test_data_prediction, y_test, average='weighted')\n",
    "    precision1 = precision_score(test_data_prediction, y_test, average='macro')\n",
    "    precision2 = precision_score(test_data_prediction, y_test, average='micro')\n",
    "    recall = recall_score(y_test, test_data_prediction, average='weighted')\n",
    "    recall1 = recall_score(y_test, test_data_prediction, average='macro')\n",
    "    recall2 = recall_score(y_test, test_data_prediction, average='micro')\n",
    "    f1_score = 2 * (precision * recall) / (precision + recall)\n",
    "    f1_score1 = 2 * (precision1 * recall1) / (precision1 + recall1)\n",
    "    f1_score2 = 2 * (precision2 * recall2) / (precision2+ recall2)\n",
    "    kf = KFold(n_splits=10, shuffle=True)\n",
    "\n",
    "\n",
    "\n",
    "    # Evaluate model using cross-validation\n",
    "    scores = cross_val_score(model, X_train, y_train, cv=kf)\n",
    "    print(scores)\n",
    "\n",
    "    # Print average score\n",
    "    print(\"Cross Validation Accuracy: %0.4f\" % scores.mean())\n",
    "    # fpr, tpr, thresholds = metrics.roc_curve(Y_test, test_data_prediction)\n",
    "    # auc = metrics.auc(fpr, tpr)\n",
    "    print('Accuracy score of the model', model , '=', round(accuracy,4))\n",
    "    print('Weighted Precision score of the model', model , '=', round(precision,4))\n",
    "    print('Macro Precision1 score of the model', model , '=', round(precision1,4))\n",
    "    print('Micro Precision2 score of the model', model , '=', round(precision2,4))\n",
    "    print('Weighted Recall score of the model', model , '=', round(recall,4))\n",
    "    print('Macro Recall1 score of the model', model , '=', round(recall1,4))\n",
    "    print('Micro Recall2 score of the model', model , '=', round(recall2,4))\n",
    "    print('Weighted F1_score score of the model', model , '=', round(f1_score,4))\n",
    "    print('Macro F1_score1 score of the model', model , '=', round(f1_score1,4))\n",
    "    print('Micro F1_score2 score of the model', model , '=', round(f1_score2,4))\n",
    "    # print('Cross validation accuracies for the', model, '=', cv_score, 'and', mean_accuracy)\n",
    "    # print('AUC score for the', model, '=', round(auc,4))\n",
    "\n",
    "\n",
    "    cr= classification_report(y_test, test_data_prediction) \n",
    "\n",
    "    print(cr)\n",
    "    pickle.dump(model,open(\"lgbb_classifier.pkl\",\"wb\"))\n"
   ]
  },
  {
   "cell_type": "code",
   "execution_count": 19,
   "id": "514004bb",
   "metadata": {
    "execution": {
     "iopub.execute_input": "2023-10-01T00:51:34.597761Z",
     "iopub.status.busy": "2023-10-01T00:51:34.597415Z",
     "iopub.status.idle": "2023-10-01T00:52:09.014512Z",
     "shell.execute_reply": "2023-10-01T00:52:09.013079Z"
    },
    "papermill": {
     "duration": 34.433076,
     "end_time": "2023-10-01T00:52:09.022377",
     "exception": false,
     "start_time": "2023-10-01T00:51:34.589301",
     "status": "completed"
    },
    "tags": []
   },
   "outputs": [
    {
     "name": "stdout",
     "output_type": "stream",
     "text": [
      "[0.98039216 0.98039216 0.94117647 1.         1.         1.\n",
      " 1.         0.96078431 1.         0.98      ]\n",
      "Cross Validation Accuracy: 0.9843\n",
      "Accuracy score of the model LGBMClassifier() = 1.0\n",
      "Weighted Precision score of the model LGBMClassifier() = 1.0\n",
      "Macro Precision1 score of the model LGBMClassifier() = 1.0\n",
      "Micro Precision2 score of the model LGBMClassifier() = 1.0\n",
      "Weighted Recall score of the model LGBMClassifier() = 1.0\n",
      "Macro Recall1 score of the model LGBMClassifier() = 1.0\n",
      "Micro Recall2 score of the model LGBMClassifier() = 1.0\n",
      "Weighted F1_score score of the model LGBMClassifier() = 1.0\n",
      "Macro F1_score1 score of the model LGBMClassifier() = 1.0\n",
      "Micro F1_score2 score of the model LGBMClassifier() = 1.0\n",
      "              precision    recall  f1-score   support\n",
      "\n",
      "         0.0       1.00      1.00      1.00        21\n",
      "         1.0       1.00      1.00      1.00        16\n",
      "         2.0       1.00      1.00      1.00        11\n",
      "         3.0       1.00      1.00      1.00        16\n",
      "         4.0       1.00      1.00      1.00         6\n",
      "         5.0       1.00      1.00      1.00        11\n",
      "         6.0       1.00      1.00      1.00         6\n",
      "         7.0       1.00      1.00      1.00        10\n",
      "         8.0       1.00      1.00      1.00         5\n",
      "         9.0       1.00      1.00      1.00        15\n",
      "        10.0       1.00      1.00      1.00         7\n",
      "        11.0       1.00      1.00      1.00         4\n",
      "\n",
      "    accuracy                           1.00       128\n",
      "   macro avg       1.00      1.00      1.00       128\n",
      "weighted avg       1.00      1.00      1.00       128\n",
      "\n"
     ]
    }
   ],
   "source": [
    "my_function(lgb.LGBMClassifier())\n"
   ]
  }
 ],
 "metadata": {
  "kernelspec": {
   "display_name": "Python 3",
   "language": "python",
   "name": "python3"
  },
  "language_info": {
   "codemirror_mode": {
    "name": "ipython",
    "version": 3
   },
   "file_extension": ".py",
   "mimetype": "text/x-python",
   "name": "python",
   "nbconvert_exporter": "python",
   "pygments_lexer": "ipython3",
   "version": "3.10.10"
  },
  "papermill": {
   "default_parameters": {},
   "duration": 54.197617,
   "end_time": "2023-10-01T00:52:11.281439",
   "environment_variables": {},
   "exception": null,
   "input_path": "__notebook__.ipynb",
   "output_path": "__notebook__.ipynb",
   "parameters": {},
   "start_time": "2023-10-01T00:51:17.083822",
   "version": "2.4.0"
  }
 },
 "nbformat": 4,
 "nbformat_minor": 5
}
