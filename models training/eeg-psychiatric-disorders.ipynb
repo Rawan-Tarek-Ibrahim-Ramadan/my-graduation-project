{
 "cells": [
  {
   "cell_type": "code",
   "execution_count": 1,
   "id": "82fe6e22",
   "metadata": {
    "_cell_guid": "b1076dfc-b9ad-4769-8c92-a6c4dae69d19",
    "_uuid": "8f2839f25d086af736a60e9eeb907d3b93b6e0e5",
    "execution": {
     "iopub.execute_input": "2023-09-05T19:51:42.940056Z",
     "iopub.status.busy": "2023-09-05T19:51:42.938661Z",
     "iopub.status.idle": "2023-09-05T19:51:42.964918Z",
     "shell.execute_reply": "2023-09-05T19:51:42.963913Z"
    },
    "papermill": {
     "duration": 0.04793,
     "end_time": "2023-09-05T19:51:42.967995",
     "exception": false,
     "start_time": "2023-09-05T19:51:42.920065",
     "status": "completed"
    },
    "tags": []
   },
   "outputs": [
    {
     "name": "stdout",
     "output_type": "stream",
     "text": [
      "/kaggle/input/eeg-psychiatric-disorders-dataset/EEG.machinelearing_data_BRMH.csv\n"
     ]
    }
   ],
   "source": [
    "# This Python 3 environment comes with many helpful analytics libraries installed\n",
    "# It is defined by the kaggle/python Docker image: https://github.com/kaggle/docker-python\n",
    "# For example, here's several helpful packages to load\n",
    "\n",
    "import numpy as np # linear algebra\n",
    "import pandas as pd # data processing, CSV file I/O (e.g. pd.read_csv)\n",
    "\n",
    "# Input data files are available in the read-only \"../input/\" directory\n",
    "# For example, running this (by clicking run or pressing Shift+Enter) will list all files under the input directory\n",
    "\n",
    "import os\n",
    "for dirname, _, filenames in os.walk('/kaggle/input'):\n",
    "    for filename in filenames:\n",
    "        print(os.path.join(dirname, filename))\n",
    "\n",
    "# You can write up to 20GB to the current directory (/kaggle/working/) that gets preserved as output when you create a version using \"Save & Run All\" \n",
    "# You can also write temporary files to /kaggle/temp/, but they won't be saved outside of the current session"
   ]
  },
  {
   "cell_type": "code",
   "execution_count": 2,
   "id": "166939c0",
   "metadata": {
    "execution": {
     "iopub.execute_input": "2023-09-05T19:51:43.000404Z",
     "iopub.status.busy": "2023-09-05T19:51:42.999542Z",
     "iopub.status.idle": "2023-09-05T19:51:44.280200Z",
     "shell.execute_reply": "2023-09-05T19:51:44.278845Z"
    },
    "papermill": {
     "duration": 1.300428,
     "end_time": "2023-09-05T19:51:44.283508",
     "exception": false,
     "start_time": "2023-09-05T19:51:42.983080",
     "status": "completed"
    },
    "tags": []
   },
   "outputs": [],
   "source": [
    "import numpy as np\n",
    "import pandas as pd\n",
    "from sklearn.model_selection import train_test_split\n",
    "from sklearn.metrics import confusion_matrix, classification_report\n",
    "import warnings\n",
    "warnings.filterwarnings('ignore')"
   ]
  },
  {
   "cell_type": "code",
   "execution_count": 3,
   "id": "800209b5",
   "metadata": {
    "execution": {
     "iopub.execute_input": "2023-09-05T19:51:44.317374Z",
     "iopub.status.busy": "2023-09-05T19:51:44.316921Z",
     "iopub.status.idle": "2023-09-05T19:51:53.183473Z",
     "shell.execute_reply": "2023-09-05T19:51:53.181689Z"
    },
    "papermill": {
     "duration": 8.888899,
     "end_time": "2023-09-05T19:51:53.188226",
     "exception": false,
     "start_time": "2023-09-05T19:51:44.299327",
     "status": "completed"
    },
    "tags": []
   },
   "outputs": [],
   "source": [
    "from keras.callbacks import ModelCheckpoint\n",
    "import pickle\n",
    "from sklearn.model_selection import cross_val_score"
   ]
  },
  {
   "cell_type": "code",
   "execution_count": 4,
   "id": "2cd20504",
   "metadata": {
    "execution": {
     "iopub.execute_input": "2023-09-05T19:51:53.229443Z",
     "iopub.status.busy": "2023-09-05T19:51:53.228297Z",
     "iopub.status.idle": "2023-09-05T19:51:53.648686Z",
     "shell.execute_reply": "2023-09-05T19:51:53.647463Z"
    },
    "papermill": {
     "duration": 0.443226,
     "end_time": "2023-09-05T19:51:53.651778",
     "exception": false,
     "start_time": "2023-09-05T19:51:53.208552",
     "status": "completed"
    },
    "tags": []
   },
   "outputs": [],
   "source": [
    "import seaborn as sns\n",
    "import matplotlib.pyplot as plt"
   ]
  },
  {
   "cell_type": "code",
   "execution_count": 5,
   "id": "5f018cca",
   "metadata": {
    "execution": {
     "iopub.execute_input": "2023-09-05T19:51:53.690285Z",
     "iopub.status.busy": "2023-09-05T19:51:53.689833Z",
     "iopub.status.idle": "2023-09-05T19:51:54.217177Z",
     "shell.execute_reply": "2023-09-05T19:51:54.215782Z"
    },
    "papermill": {
     "duration": 0.548842,
     "end_time": "2023-09-05T19:51:54.221298",
     "exception": false,
     "start_time": "2023-09-05T19:51:53.672456",
     "status": "completed"
    },
    "tags": []
   },
   "outputs": [],
   "source": [
    "data = pd.read_csv('/kaggle/input/eeg-psychiatric-disorders-dataset/EEG.machinelearing_data_BRMH.csv')"
   ]
  },
  {
   "cell_type": "code",
   "execution_count": 6,
   "id": "1bc53d55",
   "metadata": {
    "execution": {
     "iopub.execute_input": "2023-09-05T19:51:54.256044Z",
     "iopub.status.busy": "2023-09-05T19:51:54.255568Z",
     "iopub.status.idle": "2023-09-05T19:51:54.564585Z",
     "shell.execute_reply": "2023-09-05T19:51:54.562766Z"
    },
    "papermill": {
     "duration": 0.330013,
     "end_time": "2023-09-05T19:51:54.567418",
     "exception": false,
     "start_time": "2023-09-05T19:51:54.237405",
     "status": "completed"
    },
    "tags": []
   },
   "outputs": [
    {
     "name": "stdout",
     "output_type": "stream",
     "text": [
      "<class 'pandas.core.frame.DataFrame'>\n",
      "RangeIndex: 945 entries, 0 to 944\n",
      "Columns: 1149 entries, no. to COH.F.gamma.r.O1.s.O2\n",
      "dtypes: float64(1144), int64(1), object(4)\n",
      "memory usage: 8.3+ MB\n",
      "None\n"
     ]
    }
   ],
   "source": [
    "print(data.info())"
   ]
  },
  {
   "cell_type": "code",
   "execution_count": 7,
   "id": "443acba2",
   "metadata": {
    "execution": {
     "iopub.execute_input": "2023-09-05T19:51:54.601726Z",
     "iopub.status.busy": "2023-09-05T19:51:54.600703Z",
     "iopub.status.idle": "2023-09-05T19:51:54.611430Z",
     "shell.execute_reply": "2023-09-05T19:51:54.610116Z"
    },
    "papermill": {
     "duration": 0.029844,
     "end_time": "2023-09-05T19:51:54.614290",
     "exception": false,
     "start_time": "2023-09-05T19:51:54.584446",
     "status": "completed"
    },
    "tags": []
   },
   "outputs": [
    {
     "data": {
      "text/plain": [
       "(945, 1149)"
      ]
     },
     "execution_count": 7,
     "metadata": {},
     "output_type": "execute_result"
    }
   ],
   "source": [
    "data.shape"
   ]
  },
  {
   "cell_type": "code",
   "execution_count": 8,
   "id": "237688c2",
   "metadata": {
    "execution": {
     "iopub.execute_input": "2023-09-05T19:51:54.646767Z",
     "iopub.status.busy": "2023-09-05T19:51:54.646346Z",
     "iopub.status.idle": "2023-09-05T19:51:54.699497Z",
     "shell.execute_reply": "2023-09-05T19:51:54.697730Z"
    },
    "papermill": {
     "duration": 0.073015,
     "end_time": "2023-09-05T19:51:54.702586",
     "exception": false,
     "start_time": "2023-09-05T19:51:54.629571",
     "status": "completed"
    },
    "tags": []
   },
   "outputs": [
    {
     "data": {
      "text/html": [
       "<div>\n",
       "<style scoped>\n",
       "    .dataframe tbody tr th:only-of-type {\n",
       "        vertical-align: middle;\n",
       "    }\n",
       "\n",
       "    .dataframe tbody tr th {\n",
       "        vertical-align: top;\n",
       "    }\n",
       "\n",
       "    .dataframe thead th {\n",
       "        text-align: right;\n",
       "    }\n",
       "</style>\n",
       "<table border=\"1\" class=\"dataframe\">\n",
       "  <thead>\n",
       "    <tr style=\"text-align: right;\">\n",
       "      <th></th>\n",
       "      <th>no.</th>\n",
       "      <th>sex</th>\n",
       "      <th>age</th>\n",
       "      <th>eeg.date</th>\n",
       "      <th>education</th>\n",
       "      <th>IQ</th>\n",
       "      <th>main.disorder</th>\n",
       "      <th>specific.disorder</th>\n",
       "      <th>AB.A.delta.a.FP1</th>\n",
       "      <th>AB.A.delta.b.FP2</th>\n",
       "      <th>...</th>\n",
       "      <th>COH.F.gamma.o.Pz.p.P4</th>\n",
       "      <th>COH.F.gamma.o.Pz.q.T6</th>\n",
       "      <th>COH.F.gamma.o.Pz.r.O1</th>\n",
       "      <th>COH.F.gamma.o.Pz.s.O2</th>\n",
       "      <th>COH.F.gamma.p.P4.q.T6</th>\n",
       "      <th>COH.F.gamma.p.P4.r.O1</th>\n",
       "      <th>COH.F.gamma.p.P4.s.O2</th>\n",
       "      <th>COH.F.gamma.q.T6.r.O1</th>\n",
       "      <th>COH.F.gamma.q.T6.s.O2</th>\n",
       "      <th>COH.F.gamma.r.O1.s.O2</th>\n",
       "    </tr>\n",
       "  </thead>\n",
       "  <tbody>\n",
       "    <tr>\n",
       "      <th>0</th>\n",
       "      <td>1</td>\n",
       "      <td>M</td>\n",
       "      <td>57.0</td>\n",
       "      <td>2012.8.30</td>\n",
       "      <td>NaN</td>\n",
       "      <td>NaN</td>\n",
       "      <td>Addictive disorder</td>\n",
       "      <td>Alcohol use disorder</td>\n",
       "      <td>35.998557</td>\n",
       "      <td>21.717375</td>\n",
       "      <td>...</td>\n",
       "      <td>55.989192</td>\n",
       "      <td>16.739679</td>\n",
       "      <td>23.452271</td>\n",
       "      <td>45.678820</td>\n",
       "      <td>30.167520</td>\n",
       "      <td>16.918761</td>\n",
       "      <td>48.850427</td>\n",
       "      <td>9.422630</td>\n",
       "      <td>34.507082</td>\n",
       "      <td>28.613029</td>\n",
       "    </tr>\n",
       "    <tr>\n",
       "      <th>1</th>\n",
       "      <td>2</td>\n",
       "      <td>M</td>\n",
       "      <td>37.0</td>\n",
       "      <td>2012.9.6</td>\n",
       "      <td>6.0</td>\n",
       "      <td>120.0</td>\n",
       "      <td>Addictive disorder</td>\n",
       "      <td>Alcohol use disorder</td>\n",
       "      <td>13.425118</td>\n",
       "      <td>11.002916</td>\n",
       "      <td>...</td>\n",
       "      <td>45.595619</td>\n",
       "      <td>17.510824</td>\n",
       "      <td>26.777368</td>\n",
       "      <td>28.201062</td>\n",
       "      <td>57.108861</td>\n",
       "      <td>32.375401</td>\n",
       "      <td>60.351749</td>\n",
       "      <td>13.900981</td>\n",
       "      <td>57.831848</td>\n",
       "      <td>43.463261</td>\n",
       "    </tr>\n",
       "    <tr>\n",
       "      <th>2</th>\n",
       "      <td>3</td>\n",
       "      <td>M</td>\n",
       "      <td>32.0</td>\n",
       "      <td>2012.9.10</td>\n",
       "      <td>16.0</td>\n",
       "      <td>113.0</td>\n",
       "      <td>Addictive disorder</td>\n",
       "      <td>Alcohol use disorder</td>\n",
       "      <td>29.941780</td>\n",
       "      <td>27.544684</td>\n",
       "      <td>...</td>\n",
       "      <td>99.475453</td>\n",
       "      <td>70.654171</td>\n",
       "      <td>39.131547</td>\n",
       "      <td>69.920996</td>\n",
       "      <td>71.063644</td>\n",
       "      <td>38.534505</td>\n",
       "      <td>69.908764</td>\n",
       "      <td>27.180532</td>\n",
       "      <td>64.803155</td>\n",
       "      <td>31.485799</td>\n",
       "    </tr>\n",
       "    <tr>\n",
       "      <th>3</th>\n",
       "      <td>4</td>\n",
       "      <td>M</td>\n",
       "      <td>35.0</td>\n",
       "      <td>2012.10.8</td>\n",
       "      <td>18.0</td>\n",
       "      <td>126.0</td>\n",
       "      <td>Addictive disorder</td>\n",
       "      <td>Alcohol use disorder</td>\n",
       "      <td>21.496226</td>\n",
       "      <td>21.846832</td>\n",
       "      <td>...</td>\n",
       "      <td>59.986561</td>\n",
       "      <td>63.822201</td>\n",
       "      <td>36.478254</td>\n",
       "      <td>47.117006</td>\n",
       "      <td>84.658376</td>\n",
       "      <td>24.724096</td>\n",
       "      <td>50.299349</td>\n",
       "      <td>35.319695</td>\n",
       "      <td>79.822944</td>\n",
       "      <td>41.141873</td>\n",
       "    </tr>\n",
       "    <tr>\n",
       "      <th>4</th>\n",
       "      <td>5</td>\n",
       "      <td>M</td>\n",
       "      <td>36.0</td>\n",
       "      <td>2012.10.18</td>\n",
       "      <td>16.0</td>\n",
       "      <td>112.0</td>\n",
       "      <td>Addictive disorder</td>\n",
       "      <td>Alcohol use disorder</td>\n",
       "      <td>37.775667</td>\n",
       "      <td>33.607679</td>\n",
       "      <td>...</td>\n",
       "      <td>61.462720</td>\n",
       "      <td>59.166097</td>\n",
       "      <td>51.465531</td>\n",
       "      <td>58.635415</td>\n",
       "      <td>80.685608</td>\n",
       "      <td>62.138436</td>\n",
       "      <td>75.888749</td>\n",
       "      <td>61.003944</td>\n",
       "      <td>87.455509</td>\n",
       "      <td>70.531662</td>\n",
       "    </tr>\n",
       "    <tr>\n",
       "      <th>5</th>\n",
       "      <td>6</td>\n",
       "      <td>F</td>\n",
       "      <td>24.0</td>\n",
       "      <td>2012.11.21</td>\n",
       "      <td>14.0</td>\n",
       "      <td>105.0</td>\n",
       "      <td>Addictive disorder</td>\n",
       "      <td>Alcohol use disorder</td>\n",
       "      <td>13.482096</td>\n",
       "      <td>14.095855</td>\n",
       "      <td>...</td>\n",
       "      <td>92.841723</td>\n",
       "      <td>82.302355</td>\n",
       "      <td>83.938567</td>\n",
       "      <td>88.213886</td>\n",
       "      <td>90.972026</td>\n",
       "      <td>77.443894</td>\n",
       "      <td>89.545596</td>\n",
       "      <td>72.579530</td>\n",
       "      <td>89.462863</td>\n",
       "      <td>86.127823</td>\n",
       "    </tr>\n",
       "    <tr>\n",
       "      <th>6</th>\n",
       "      <td>7</td>\n",
       "      <td>F</td>\n",
       "      <td>26.0</td>\n",
       "      <td>2012.12.3</td>\n",
       "      <td>16.0</td>\n",
       "      <td>103.0</td>\n",
       "      <td>Addictive disorder</td>\n",
       "      <td>Alcohol use disorder</td>\n",
       "      <td>21.780747</td>\n",
       "      <td>26.655328</td>\n",
       "      <td>...</td>\n",
       "      <td>73.017845</td>\n",
       "      <td>50.593309</td>\n",
       "      <td>56.250644</td>\n",
       "      <td>46.572808</td>\n",
       "      <td>69.617082</td>\n",
       "      <td>51.808149</td>\n",
       "      <td>56.495169</td>\n",
       "      <td>52.526873</td>\n",
       "      <td>62.801103</td>\n",
       "      <td>56.710212</td>\n",
       "    </tr>\n",
       "    <tr>\n",
       "      <th>7</th>\n",
       "      <td>8</td>\n",
       "      <td>M</td>\n",
       "      <td>23.0</td>\n",
       "      <td>2013.1.17</td>\n",
       "      <td>12.0</td>\n",
       "      <td>104.0</td>\n",
       "      <td>Addictive disorder</td>\n",
       "      <td>Alcohol use disorder</td>\n",
       "      <td>11.704212</td>\n",
       "      <td>10.600361</td>\n",
       "      <td>...</td>\n",
       "      <td>91.645799</td>\n",
       "      <td>63.962652</td>\n",
       "      <td>58.120225</td>\n",
       "      <td>69.767127</td>\n",
       "      <td>80.165627</td>\n",
       "      <td>58.648915</td>\n",
       "      <td>79.533814</td>\n",
       "      <td>35.510554</td>\n",
       "      <td>45.811328</td>\n",
       "      <td>60.417464</td>\n",
       "    </tr>\n",
       "    <tr>\n",
       "      <th>8</th>\n",
       "      <td>9</td>\n",
       "      <td>M</td>\n",
       "      <td>24.0</td>\n",
       "      <td>2013.2.15</td>\n",
       "      <td>17.0</td>\n",
       "      <td>89.0</td>\n",
       "      <td>Addictive disorder</td>\n",
       "      <td>Alcohol use disorder</td>\n",
       "      <td>8.531635</td>\n",
       "      <td>8.668278</td>\n",
       "      <td>...</td>\n",
       "      <td>47.703314</td>\n",
       "      <td>34.685504</td>\n",
       "      <td>38.526848</td>\n",
       "      <td>75.189718</td>\n",
       "      <td>47.003045</td>\n",
       "      <td>32.248734</td>\n",
       "      <td>77.707001</td>\n",
       "      <td>33.095903</td>\n",
       "      <td>67.985045</td>\n",
       "      <td>65.377007</td>\n",
       "    </tr>\n",
       "    <tr>\n",
       "      <th>9</th>\n",
       "      <td>10</td>\n",
       "      <td>F</td>\n",
       "      <td>30.0</td>\n",
       "      <td>2013.2.8</td>\n",
       "      <td>12.0</td>\n",
       "      <td>98.0</td>\n",
       "      <td>Addictive disorder</td>\n",
       "      <td>Alcohol use disorder</td>\n",
       "      <td>14.853668</td>\n",
       "      <td>12.614058</td>\n",
       "      <td>...</td>\n",
       "      <td>83.249851</td>\n",
       "      <td>39.820829</td>\n",
       "      <td>70.283171</td>\n",
       "      <td>64.150040</td>\n",
       "      <td>63.783769</td>\n",
       "      <td>45.423004</td>\n",
       "      <td>61.922878</td>\n",
       "      <td>19.639653</td>\n",
       "      <td>54.220350</td>\n",
       "      <td>53.456534</td>\n",
       "    </tr>\n",
       "  </tbody>\n",
       "</table>\n",
       "<p>10 rows × 1149 columns</p>\n",
       "</div>"
      ],
      "text/plain": [
       "   no. sex   age    eeg.date  education     IQ       main.disorder  \\\n",
       "0    1   M  57.0   2012.8.30        NaN    NaN  Addictive disorder   \n",
       "1    2   M  37.0    2012.9.6        6.0  120.0  Addictive disorder   \n",
       "2    3   M  32.0   2012.9.10       16.0  113.0  Addictive disorder   \n",
       "3    4   M  35.0   2012.10.8       18.0  126.0  Addictive disorder   \n",
       "4    5   M  36.0  2012.10.18       16.0  112.0  Addictive disorder   \n",
       "5    6   F  24.0  2012.11.21       14.0  105.0  Addictive disorder   \n",
       "6    7   F  26.0   2012.12.3       16.0  103.0  Addictive disorder   \n",
       "7    8   M  23.0   2013.1.17       12.0  104.0  Addictive disorder   \n",
       "8    9   M  24.0   2013.2.15       17.0   89.0  Addictive disorder   \n",
       "9   10   F  30.0    2013.2.8       12.0   98.0  Addictive disorder   \n",
       "\n",
       "      specific.disorder  AB.A.delta.a.FP1  AB.A.delta.b.FP2  ...  \\\n",
       "0  Alcohol use disorder         35.998557         21.717375  ...   \n",
       "1  Alcohol use disorder         13.425118         11.002916  ...   \n",
       "2  Alcohol use disorder         29.941780         27.544684  ...   \n",
       "3  Alcohol use disorder         21.496226         21.846832  ...   \n",
       "4  Alcohol use disorder         37.775667         33.607679  ...   \n",
       "5  Alcohol use disorder         13.482096         14.095855  ...   \n",
       "6  Alcohol use disorder         21.780747         26.655328  ...   \n",
       "7  Alcohol use disorder         11.704212         10.600361  ...   \n",
       "8  Alcohol use disorder          8.531635          8.668278  ...   \n",
       "9  Alcohol use disorder         14.853668         12.614058  ...   \n",
       "\n",
       "   COH.F.gamma.o.Pz.p.P4  COH.F.gamma.o.Pz.q.T6  COH.F.gamma.o.Pz.r.O1  \\\n",
       "0              55.989192              16.739679              23.452271   \n",
       "1              45.595619              17.510824              26.777368   \n",
       "2              99.475453              70.654171              39.131547   \n",
       "3              59.986561              63.822201              36.478254   \n",
       "4              61.462720              59.166097              51.465531   \n",
       "5              92.841723              82.302355              83.938567   \n",
       "6              73.017845              50.593309              56.250644   \n",
       "7              91.645799              63.962652              58.120225   \n",
       "8              47.703314              34.685504              38.526848   \n",
       "9              83.249851              39.820829              70.283171   \n",
       "\n",
       "   COH.F.gamma.o.Pz.s.O2  COH.F.gamma.p.P4.q.T6  COH.F.gamma.p.P4.r.O1  \\\n",
       "0              45.678820              30.167520              16.918761   \n",
       "1              28.201062              57.108861              32.375401   \n",
       "2              69.920996              71.063644              38.534505   \n",
       "3              47.117006              84.658376              24.724096   \n",
       "4              58.635415              80.685608              62.138436   \n",
       "5              88.213886              90.972026              77.443894   \n",
       "6              46.572808              69.617082              51.808149   \n",
       "7              69.767127              80.165627              58.648915   \n",
       "8              75.189718              47.003045              32.248734   \n",
       "9              64.150040              63.783769              45.423004   \n",
       "\n",
       "   COH.F.gamma.p.P4.s.O2  COH.F.gamma.q.T6.r.O1  COH.F.gamma.q.T6.s.O2  \\\n",
       "0              48.850427               9.422630              34.507082   \n",
       "1              60.351749              13.900981              57.831848   \n",
       "2              69.908764              27.180532              64.803155   \n",
       "3              50.299349              35.319695              79.822944   \n",
       "4              75.888749              61.003944              87.455509   \n",
       "5              89.545596              72.579530              89.462863   \n",
       "6              56.495169              52.526873              62.801103   \n",
       "7              79.533814              35.510554              45.811328   \n",
       "8              77.707001              33.095903              67.985045   \n",
       "9              61.922878              19.639653              54.220350   \n",
       "\n",
       "   COH.F.gamma.r.O1.s.O2  \n",
       "0              28.613029  \n",
       "1              43.463261  \n",
       "2              31.485799  \n",
       "3              41.141873  \n",
       "4              70.531662  \n",
       "5              86.127823  \n",
       "6              56.710212  \n",
       "7              60.417464  \n",
       "8              65.377007  \n",
       "9              53.456534  \n",
       "\n",
       "[10 rows x 1149 columns]"
      ]
     },
     "execution_count": 8,
     "metadata": {},
     "output_type": "execute_result"
    }
   ],
   "source": [
    "data.head(10)"
   ]
  },
  {
   "cell_type": "code",
   "execution_count": 9,
   "id": "eae09fa9",
   "metadata": {
    "execution": {
     "iopub.execute_input": "2023-09-05T19:51:54.737431Z",
     "iopub.status.busy": "2023-09-05T19:51:54.735885Z",
     "iopub.status.idle": "2023-09-05T19:51:54.745442Z",
     "shell.execute_reply": "2023-09-05T19:51:54.744224Z"
    },
    "papermill": {
     "duration": 0.029637,
     "end_time": "2023-09-05T19:51:54.748206",
     "exception": false,
     "start_time": "2023-09-05T19:51:54.718569",
     "status": "completed"
    },
    "tags": []
   },
   "outputs": [
    {
     "data": {
      "text/plain": [
       "dtype('float64')"
      ]
     },
     "execution_count": 9,
     "metadata": {},
     "output_type": "execute_result"
    }
   ],
   "source": [
    "data['education'].dtypes"
   ]
  },
  {
   "cell_type": "code",
   "execution_count": 10,
   "id": "160a4d4b",
   "metadata": {
    "execution": {
     "iopub.execute_input": "2023-09-05T19:51:54.783307Z",
     "iopub.status.busy": "2023-09-05T19:51:54.782341Z",
     "iopub.status.idle": "2023-09-05T19:51:55.034731Z",
     "shell.execute_reply": "2023-09-05T19:51:55.033665Z"
    },
    "papermill": {
     "duration": 0.273517,
     "end_time": "2023-09-05T19:51:55.037968",
     "exception": false,
     "start_time": "2023-09-05T19:51:54.764451",
     "status": "completed"
    },
    "tags": []
   },
   "outputs": [],
   "source": [
    "data = data.fillna(data.mean())"
   ]
  },
  {
   "cell_type": "code",
   "execution_count": 11,
   "id": "b2f87c1e",
   "metadata": {
    "execution": {
     "iopub.execute_input": "2023-09-05T19:51:55.071882Z",
     "iopub.status.busy": "2023-09-05T19:51:55.071426Z",
     "iopub.status.idle": "2023-09-05T19:51:55.104536Z",
     "shell.execute_reply": "2023-09-05T19:51:55.103142Z"
    },
    "papermill": {
     "duration": 0.053525,
     "end_time": "2023-09-05T19:51:55.107418",
     "exception": false,
     "start_time": "2023-09-05T19:51:55.053893",
     "status": "completed"
    },
    "tags": []
   },
   "outputs": [
    {
     "data": {
      "text/html": [
       "<div>\n",
       "<style scoped>\n",
       "    .dataframe tbody tr th:only-of-type {\n",
       "        vertical-align: middle;\n",
       "    }\n",
       "\n",
       "    .dataframe tbody tr th {\n",
       "        vertical-align: top;\n",
       "    }\n",
       "\n",
       "    .dataframe thead th {\n",
       "        text-align: right;\n",
       "    }\n",
       "</style>\n",
       "<table border=\"1\" class=\"dataframe\">\n",
       "  <thead>\n",
       "    <tr style=\"text-align: right;\">\n",
       "      <th></th>\n",
       "      <th>no.</th>\n",
       "      <th>sex</th>\n",
       "      <th>age</th>\n",
       "      <th>eeg.date</th>\n",
       "      <th>education</th>\n",
       "      <th>IQ</th>\n",
       "      <th>main.disorder</th>\n",
       "      <th>specific.disorder</th>\n",
       "      <th>AB.A.delta.a.FP1</th>\n",
       "      <th>AB.A.delta.b.FP2</th>\n",
       "      <th>...</th>\n",
       "      <th>COH.F.gamma.o.Pz.p.P4</th>\n",
       "      <th>COH.F.gamma.o.Pz.q.T6</th>\n",
       "      <th>COH.F.gamma.o.Pz.r.O1</th>\n",
       "      <th>COH.F.gamma.o.Pz.s.O2</th>\n",
       "      <th>COH.F.gamma.p.P4.q.T6</th>\n",
       "      <th>COH.F.gamma.p.P4.r.O1</th>\n",
       "      <th>COH.F.gamma.p.P4.s.O2</th>\n",
       "      <th>COH.F.gamma.q.T6.r.O1</th>\n",
       "      <th>COH.F.gamma.q.T6.s.O2</th>\n",
       "      <th>COH.F.gamma.r.O1.s.O2</th>\n",
       "    </tr>\n",
       "  </thead>\n",
       "  <tbody>\n",
       "    <tr>\n",
       "      <th>0</th>\n",
       "      <td>1</td>\n",
       "      <td>M</td>\n",
       "      <td>57.0</td>\n",
       "      <td>2012.8.30</td>\n",
       "      <td>13.43871</td>\n",
       "      <td>101.580472</td>\n",
       "      <td>Addictive disorder</td>\n",
       "      <td>Alcohol use disorder</td>\n",
       "      <td>35.998557</td>\n",
       "      <td>21.717375</td>\n",
       "      <td>...</td>\n",
       "      <td>55.989192</td>\n",
       "      <td>16.739679</td>\n",
       "      <td>23.452271</td>\n",
       "      <td>45.678820</td>\n",
       "      <td>30.167520</td>\n",
       "      <td>16.918761</td>\n",
       "      <td>48.850427</td>\n",
       "      <td>9.422630</td>\n",
       "      <td>34.507082</td>\n",
       "      <td>28.613029</td>\n",
       "    </tr>\n",
       "    <tr>\n",
       "      <th>1</th>\n",
       "      <td>2</td>\n",
       "      <td>M</td>\n",
       "      <td>37.0</td>\n",
       "      <td>2012.9.6</td>\n",
       "      <td>6.00000</td>\n",
       "      <td>120.000000</td>\n",
       "      <td>Addictive disorder</td>\n",
       "      <td>Alcohol use disorder</td>\n",
       "      <td>13.425118</td>\n",
       "      <td>11.002916</td>\n",
       "      <td>...</td>\n",
       "      <td>45.595619</td>\n",
       "      <td>17.510824</td>\n",
       "      <td>26.777368</td>\n",
       "      <td>28.201062</td>\n",
       "      <td>57.108861</td>\n",
       "      <td>32.375401</td>\n",
       "      <td>60.351749</td>\n",
       "      <td>13.900981</td>\n",
       "      <td>57.831848</td>\n",
       "      <td>43.463261</td>\n",
       "    </tr>\n",
       "    <tr>\n",
       "      <th>2</th>\n",
       "      <td>3</td>\n",
       "      <td>M</td>\n",
       "      <td>32.0</td>\n",
       "      <td>2012.9.10</td>\n",
       "      <td>16.00000</td>\n",
       "      <td>113.000000</td>\n",
       "      <td>Addictive disorder</td>\n",
       "      <td>Alcohol use disorder</td>\n",
       "      <td>29.941780</td>\n",
       "      <td>27.544684</td>\n",
       "      <td>...</td>\n",
       "      <td>99.475453</td>\n",
       "      <td>70.654171</td>\n",
       "      <td>39.131547</td>\n",
       "      <td>69.920996</td>\n",
       "      <td>71.063644</td>\n",
       "      <td>38.534505</td>\n",
       "      <td>69.908764</td>\n",
       "      <td>27.180532</td>\n",
       "      <td>64.803155</td>\n",
       "      <td>31.485799</td>\n",
       "    </tr>\n",
       "    <tr>\n",
       "      <th>3</th>\n",
       "      <td>4</td>\n",
       "      <td>M</td>\n",
       "      <td>35.0</td>\n",
       "      <td>2012.10.8</td>\n",
       "      <td>18.00000</td>\n",
       "      <td>126.000000</td>\n",
       "      <td>Addictive disorder</td>\n",
       "      <td>Alcohol use disorder</td>\n",
       "      <td>21.496226</td>\n",
       "      <td>21.846832</td>\n",
       "      <td>...</td>\n",
       "      <td>59.986561</td>\n",
       "      <td>63.822201</td>\n",
       "      <td>36.478254</td>\n",
       "      <td>47.117006</td>\n",
       "      <td>84.658376</td>\n",
       "      <td>24.724096</td>\n",
       "      <td>50.299349</td>\n",
       "      <td>35.319695</td>\n",
       "      <td>79.822944</td>\n",
       "      <td>41.141873</td>\n",
       "    </tr>\n",
       "    <tr>\n",
       "      <th>4</th>\n",
       "      <td>5</td>\n",
       "      <td>M</td>\n",
       "      <td>36.0</td>\n",
       "      <td>2012.10.18</td>\n",
       "      <td>16.00000</td>\n",
       "      <td>112.000000</td>\n",
       "      <td>Addictive disorder</td>\n",
       "      <td>Alcohol use disorder</td>\n",
       "      <td>37.775667</td>\n",
       "      <td>33.607679</td>\n",
       "      <td>...</td>\n",
       "      <td>61.462720</td>\n",
       "      <td>59.166097</td>\n",
       "      <td>51.465531</td>\n",
       "      <td>58.635415</td>\n",
       "      <td>80.685608</td>\n",
       "      <td>62.138436</td>\n",
       "      <td>75.888749</td>\n",
       "      <td>61.003944</td>\n",
       "      <td>87.455509</td>\n",
       "      <td>70.531662</td>\n",
       "    </tr>\n",
       "  </tbody>\n",
       "</table>\n",
       "<p>5 rows × 1149 columns</p>\n",
       "</div>"
      ],
      "text/plain": [
       "   no. sex   age    eeg.date  education          IQ       main.disorder  \\\n",
       "0    1   M  57.0   2012.8.30   13.43871  101.580472  Addictive disorder   \n",
       "1    2   M  37.0    2012.9.6    6.00000  120.000000  Addictive disorder   \n",
       "2    3   M  32.0   2012.9.10   16.00000  113.000000  Addictive disorder   \n",
       "3    4   M  35.0   2012.10.8   18.00000  126.000000  Addictive disorder   \n",
       "4    5   M  36.0  2012.10.18   16.00000  112.000000  Addictive disorder   \n",
       "\n",
       "      specific.disorder  AB.A.delta.a.FP1  AB.A.delta.b.FP2  ...  \\\n",
       "0  Alcohol use disorder         35.998557         21.717375  ...   \n",
       "1  Alcohol use disorder         13.425118         11.002916  ...   \n",
       "2  Alcohol use disorder         29.941780         27.544684  ...   \n",
       "3  Alcohol use disorder         21.496226         21.846832  ...   \n",
       "4  Alcohol use disorder         37.775667         33.607679  ...   \n",
       "\n",
       "   COH.F.gamma.o.Pz.p.P4  COH.F.gamma.o.Pz.q.T6  COH.F.gamma.o.Pz.r.O1  \\\n",
       "0              55.989192              16.739679              23.452271   \n",
       "1              45.595619              17.510824              26.777368   \n",
       "2              99.475453              70.654171              39.131547   \n",
       "3              59.986561              63.822201              36.478254   \n",
       "4              61.462720              59.166097              51.465531   \n",
       "\n",
       "   COH.F.gamma.o.Pz.s.O2  COH.F.gamma.p.P4.q.T6  COH.F.gamma.p.P4.r.O1  \\\n",
       "0              45.678820              30.167520              16.918761   \n",
       "1              28.201062              57.108861              32.375401   \n",
       "2              69.920996              71.063644              38.534505   \n",
       "3              47.117006              84.658376              24.724096   \n",
       "4              58.635415              80.685608              62.138436   \n",
       "\n",
       "   COH.F.gamma.p.P4.s.O2  COH.F.gamma.q.T6.r.O1  COH.F.gamma.q.T6.s.O2  \\\n",
       "0              48.850427               9.422630              34.507082   \n",
       "1              60.351749              13.900981              57.831848   \n",
       "2              69.908764              27.180532              64.803155   \n",
       "3              50.299349              35.319695              79.822944   \n",
       "4              75.888749              61.003944              87.455509   \n",
       "\n",
       "   COH.F.gamma.r.O1.s.O2  \n",
       "0              28.613029  \n",
       "1              43.463261  \n",
       "2              31.485799  \n",
       "3              41.141873  \n",
       "4              70.531662  \n",
       "\n",
       "[5 rows x 1149 columns]"
      ]
     },
     "execution_count": 11,
     "metadata": {},
     "output_type": "execute_result"
    }
   ],
   "source": [
    "data.head()"
   ]
  },
  {
   "cell_type": "code",
   "execution_count": 12,
   "id": "66562b57",
   "metadata": {
    "execution": {
     "iopub.execute_input": "2023-09-05T19:51:55.142864Z",
     "iopub.status.busy": "2023-09-05T19:51:55.141927Z",
     "iopub.status.idle": "2023-09-05T19:51:55.184667Z",
     "shell.execute_reply": "2023-09-05T19:51:55.183069Z"
    },
    "papermill": {
     "duration": 0.064221,
     "end_time": "2023-09-05T19:51:55.187913",
     "exception": false,
     "start_time": "2023-09-05T19:51:55.123692",
     "status": "completed"
    },
    "tags": []
   },
   "outputs": [],
   "source": [
    "from sklearn.preprocessing import OrdinalEncoder\n",
    "encoder = OrdinalEncoder()\n",
    "\n",
    "encoder.fit(data[['sex']])\n",
    "data['sex']= encoder.transform(data[['sex']])\n",
    "encoder.fit(data[['main.disorder']])\n",
    "data['main.disorder']= encoder.transform(data[['main.disorder']])\n",
    "\n",
    "encoder.fit(data[['specific.disorder']])\n",
    "data['specific.disorder']= encoder.transform(data[['specific.disorder']])\n"
   ]
  },
  {
   "cell_type": "code",
   "execution_count": 13,
   "id": "9e6ff2e2",
   "metadata": {
    "execution": {
     "iopub.execute_input": "2023-09-05T19:51:55.222869Z",
     "iopub.status.busy": "2023-09-05T19:51:55.222437Z",
     "iopub.status.idle": "2023-09-05T19:51:55.245946Z",
     "shell.execute_reply": "2023-09-05T19:51:55.244219Z"
    },
    "papermill": {
     "duration": 0.044766,
     "end_time": "2023-09-05T19:51:55.249129",
     "exception": false,
     "start_time": "2023-09-05T19:51:55.204363",
     "status": "completed"
    },
    "tags": []
   },
   "outputs": [],
   "source": [
    "data = data.drop(columns =['no.', 'eeg.date'], axis =1)"
   ]
  },
  {
   "cell_type": "code",
   "execution_count": 14,
   "id": "7569f6ad",
   "metadata": {
    "execution": {
     "iopub.execute_input": "2023-09-05T19:51:55.286644Z",
     "iopub.status.busy": "2023-09-05T19:51:55.285634Z",
     "iopub.status.idle": "2023-09-05T19:51:55.301942Z",
     "shell.execute_reply": "2023-09-05T19:51:55.300580Z"
    },
    "papermill": {
     "duration": 0.038943,
     "end_time": "2023-09-05T19:51:55.305163",
     "exception": false,
     "start_time": "2023-09-05T19:51:55.266220",
     "status": "completed"
    },
    "tags": []
   },
   "outputs": [
    {
     "data": {
      "text/plain": [
       "945"
      ]
     },
     "execution_count": 14,
     "metadata": {},
     "output_type": "execute_result"
    }
   ],
   "source": [
    "sum(data.isnull().sum())"
   ]
  },
  {
   "cell_type": "code",
   "execution_count": 15,
   "id": "b196a47f",
   "metadata": {
    "execution": {
     "iopub.execute_input": "2023-09-05T19:51:55.343191Z",
     "iopub.status.busy": "2023-09-05T19:51:55.342035Z",
     "iopub.status.idle": "2023-09-05T19:51:55.453999Z",
     "shell.execute_reply": "2023-09-05T19:51:55.452593Z"
    },
    "papermill": {
     "duration": 0.134317,
     "end_time": "2023-09-05T19:51:55.457243",
     "exception": false,
     "start_time": "2023-09-05T19:51:55.322926",
     "status": "completed"
    },
    "tags": []
   },
   "outputs": [],
   "source": [
    "from sklearn.linear_model import ElasticNet\n",
    "from sklearn.model_selection import train_test_split\n",
    "X= data.drop(columns=['main.disorder','Unnamed: 122'], axis=1)\n",
    "y = data['main.disorder']"
   ]
  },
  {
   "cell_type": "code",
   "execution_count": 16,
   "id": "f9baf39a",
   "metadata": {
    "execution": {
     "iopub.execute_input": "2023-09-05T19:51:55.492805Z",
     "iopub.status.busy": "2023-09-05T19:51:55.491642Z",
     "iopub.status.idle": "2023-09-05T19:51:56.261255Z",
     "shell.execute_reply": "2023-09-05T19:51:56.259101Z"
    },
    "papermill": {
     "duration": 0.792578,
     "end_time": "2023-09-05T19:51:56.266231",
     "exception": false,
     "start_time": "2023-09-05T19:51:55.473653",
     "status": "completed"
    },
    "tags": []
   },
   "outputs": [
    {
     "data": {
      "text/plain": [
       "ElasticNet(alpha=0.1)"
      ]
     },
     "execution_count": 16,
     "metadata": {},
     "output_type": "execute_result"
    }
   ],
   "source": [
    "elastic_net = ElasticNet( alpha =.1, l1_ratio= .5)\n",
    "elastic_net.fit(X, y)"
   ]
  },
  {
   "cell_type": "code",
   "execution_count": 17,
   "id": "a44a80b4",
   "metadata": {
    "execution": {
     "iopub.execute_input": "2023-09-05T19:51:56.340218Z",
     "iopub.status.busy": "2023-09-05T19:51:56.339738Z",
     "iopub.status.idle": "2023-09-05T19:51:56.346497Z",
     "shell.execute_reply": "2023-09-05T19:51:56.345365Z"
    },
    "papermill": {
     "duration": 0.046969,
     "end_time": "2023-09-05T19:51:56.349251",
     "exception": false,
     "start_time": "2023-09-05T19:51:56.302282",
     "status": "completed"
    },
    "tags": []
   },
   "outputs": [],
   "source": [
    "coef_abs = np.abs(elastic_net.coef_)\n",
    "sorted_coef_abs = np.argsort(coef_abs)[::-1]\n",
    "top_50_features = sorted_coef_abs[:50]"
   ]
  },
  {
   "cell_type": "code",
   "execution_count": 18,
   "id": "05949a5f",
   "metadata": {
    "execution": {
     "iopub.execute_input": "2023-09-05T19:51:56.385401Z",
     "iopub.status.busy": "2023-09-05T19:51:56.384919Z",
     "iopub.status.idle": "2023-09-05T19:51:56.390904Z",
     "shell.execute_reply": "2023-09-05T19:51:56.389431Z"
    },
    "papermill": {
     "duration": 0.027872,
     "end_time": "2023-09-05T19:51:56.393925",
     "exception": false,
     "start_time": "2023-09-05T19:51:56.366053",
     "status": "completed"
    },
    "tags": []
   },
   "outputs": [],
   "source": [
    "top_50_feature_names = [X.columns[i] for i in top_50_features]"
   ]
  },
  {
   "cell_type": "code",
   "execution_count": 19,
   "id": "4c207c86",
   "metadata": {
    "execution": {
     "iopub.execute_input": "2023-09-05T19:51:56.431331Z",
     "iopub.status.busy": "2023-09-05T19:51:56.429905Z",
     "iopub.status.idle": "2023-09-05T19:51:56.649537Z",
     "shell.execute_reply": "2023-09-05T19:51:56.648556Z"
    },
    "papermill": {
     "duration": 0.240899,
     "end_time": "2023-09-05T19:51:56.652337",
     "exception": false,
     "start_time": "2023-09-05T19:51:56.411438",
     "status": "completed"
    },
    "tags": []
   },
   "outputs": [
    {
     "data": {
      "text/plain": [
       "<AxesSubplot:xlabel='main.disorder', ylabel='count'>"
      ]
     },
     "execution_count": 19,
     "metadata": {},
     "output_type": "execute_result"
    },
    {
     "data": {
      "image/png": "[encoded data removed]",
      "text/plain": [
       "<Figure size 640x480 with 1 Axes>"
      ]
     },
     "metadata": {},
     "output_type": "display_data"
    }
   ],
   "source": [
    "sns.countplot(x=\"main.disorder\",data=data)"
   ]
  },
  {
   "cell_type": "code",
   "execution_count": 20,
   "id": "385cb1ab",
   "metadata": {
    "execution": {
     "iopub.execute_input": "2023-09-05T19:51:56.690760Z",
     "iopub.status.busy": "2023-09-05T19:51:56.690313Z",
     "iopub.status.idle": "2023-09-05T19:51:56.695824Z",
     "shell.execute_reply": "2023-09-05T19:51:56.694424Z"
    },
    "papermill": {
     "duration": 0.028884,
     "end_time": "2023-09-05T19:51:56.698438",
     "exception": false,
     "start_time": "2023-09-05T19:51:56.669554",
     "status": "completed"
    },
    "tags": []
   },
   "outputs": [],
   "source": [
    "df1=[]"
   ]
  },
  {
   "cell_type": "code",
   "execution_count": 21,
   "id": "cfb5d267",
   "metadata": {
    "execution": {
     "iopub.execute_input": "2023-09-05T19:51:56.736854Z",
     "iopub.status.busy": "2023-09-05T19:51:56.735989Z",
     "iopub.status.idle": "2023-09-05T19:51:56.744917Z",
     "shell.execute_reply": "2023-09-05T19:51:56.743475Z"
    },
    "papermill": {
     "duration": 0.031331,
     "end_time": "2023-09-05T19:51:56.748085",
     "exception": false,
     "start_time": "2023-09-05T19:51:56.716754",
     "status": "completed"
    },
    "tags": []
   },
   "outputs": [],
   "source": [
    "for j in list(top_50_feature_names):\n",
    "   df1.append(data[j])"
   ]
  },
  {
   "cell_type": "code",
   "execution_count": 22,
   "id": "cbf47fbd",
   "metadata": {
    "execution": {
     "iopub.execute_input": "2023-09-05T19:51:56.785261Z",
     "iopub.status.busy": "2023-09-05T19:51:56.784231Z",
     "iopub.status.idle": "2023-09-05T19:51:56.793550Z",
     "shell.execute_reply": "2023-09-05T19:51:56.792474Z"
    },
    "papermill": {
     "duration": 0.03102,
     "end_time": "2023-09-05T19:51:56.796395",
     "exception": false,
     "start_time": "2023-09-05T19:51:56.765375",
     "status": "completed"
    },
    "tags": []
   },
   "outputs": [],
   "source": [
    " df1 = pd.concat(df1, axis = 1)"
   ]
  },
  {
   "cell_type": "code",
   "execution_count": 23,
   "id": "e71ec397",
   "metadata": {
    "execution": {
     "iopub.execute_input": "2023-09-05T19:51:56.834292Z",
     "iopub.status.busy": "2023-09-05T19:51:56.833035Z",
     "iopub.status.idle": "2023-09-05T19:51:57.408165Z",
     "shell.execute_reply": "2023-09-05T19:51:57.406090Z"
    },
    "papermill": {
     "duration": 0.599562,
     "end_time": "2023-09-05T19:51:57.414033",
     "exception": false,
     "start_time": "2023-09-05T19:51:56.814471",
     "status": "completed"
    },
    "tags": []
   },
   "outputs": [],
   "source": [
    "from imblearn.over_sampling import SMOTE\n",
    "smote = SMOTE(sampling_strategy ='all', random_state = 42)\n",
    "X_resampled, y_resampled = smote.fit_resample(df1, y)"
   ]
  },
  {
   "cell_type": "code",
   "execution_count": 24,
   "id": "6d069342",
   "metadata": {
    "execution": {
     "iopub.execute_input": "2023-09-05T19:51:57.489820Z",
     "iopub.status.busy": "2023-09-05T19:51:57.489041Z",
     "iopub.status.idle": "2023-09-05T19:51:57.510349Z",
     "shell.execute_reply": "2023-09-05T19:51:57.509231Z"
    },
    "papermill": {
     "duration": 0.062835,
     "end_time": "2023-09-05T19:51:57.513405",
     "exception": false,
     "start_time": "2023-09-05T19:51:57.450570",
     "status": "completed"
    },
    "tags": []
   },
   "outputs": [],
   "source": [
    "from sklearn.preprocessing import StandardScaler\n",
    "scaler = StandardScaler()\n",
    "scaler.fit(X_resampled)\n",
    "# y = y.reshape(-1,1)\n",
    "df3= scaler.transform(X_resampled)\n",
    "# y= scaler.transform(y)"
   ]
  },
  {
   "cell_type": "code",
   "execution_count": 25,
   "id": "f2ca2a0f",
   "metadata": {
    "execution": {
     "iopub.execute_input": "2023-09-05T19:51:57.550408Z",
     "iopub.status.busy": "2023-09-05T19:51:57.549905Z",
     "iopub.status.idle": "2023-09-05T19:51:57.560852Z",
     "shell.execute_reply": "2023-09-05T19:51:57.559410Z"
    },
    "papermill": {
     "duration": 0.033081,
     "end_time": "2023-09-05T19:51:57.563783",
     "exception": false,
     "start_time": "2023-09-05T19:51:57.530702",
     "status": "completed"
    },
    "tags": []
   },
   "outputs": [],
   "source": [
    "X_train, X_test, y_train, y_test = train_test_split(df3, y_resampled , test_size =.2, stratify = y_resampled, random_state=42)"
   ]
  },
  {
   "cell_type": "code",
   "execution_count": 26,
   "id": "75b73ea3",
   "metadata": {
    "execution": {
     "iopub.execute_input": "2023-09-05T19:51:57.602250Z",
     "iopub.status.busy": "2023-09-05T19:51:57.600764Z",
     "iopub.status.idle": "2023-09-05T19:51:57.635648Z",
     "shell.execute_reply": "2023-09-05T19:51:57.634604Z"
    },
    "papermill": {
     "duration": 0.057746,
     "end_time": "2023-09-05T19:51:57.638816",
     "exception": false,
     "start_time": "2023-09-05T19:51:57.581070",
     "status": "completed"
    },
    "tags": []
   },
   "outputs": [],
   "source": [
    "from sklearn.discriminant_analysis import LinearDiscriminantAnalysis\n",
    "from sklearn.discriminant_analysis import QuadraticDiscriminantAnalysis\n",
    "from sklearn.metrics import confusion_matrix, classification_report\n",
    "from sklearn.metrics import precision_score\n",
    "from sklearn.metrics import accuracy_score\n",
    "from sklearn.metrics import recall_score"
   ]
  },
  {
   "cell_type": "code",
   "execution_count": 27,
   "id": "421ab06b",
   "metadata": {
    "execution": {
     "iopub.execute_input": "2023-09-05T19:51:57.675617Z",
     "iopub.status.busy": "2023-09-05T19:51:57.675129Z",
     "iopub.status.idle": "2023-09-05T19:51:58.778105Z",
     "shell.execute_reply": "2023-09-05T19:51:58.776981Z"
    },
    "papermill": {
     "duration": 1.124712,
     "end_time": "2023-09-05T19:51:58.781037",
     "exception": false,
     "start_time": "2023-09-05T19:51:57.656325",
     "status": "completed"
    },
    "tags": []
   },
   "outputs": [
    {
     "data": {
      "text/html": [
       "<style type='text/css'>\n",
       ".datatable table.frame { margin-bottom: 0; }\n",
       ".datatable table.frame thead { border-bottom: none; }\n",
       ".datatable table.frame tr.coltypes td {  color: #FFFFFF;  line-height: 6px;  padding: 0 0.5em;}\n",
       ".datatable .bool    { background: #DDDD99; }\n",
       ".datatable .object  { background: #565656; }\n",
       ".datatable .int     { background: #5D9E5D; }\n",
       ".datatable .float   { background: #4040CC; }\n",
       ".datatable .str     { background: #CC4040; }\n",
       ".datatable .time    { background: #40CC40; }\n",
       ".datatable .row_index {  background: var(--jp-border-color3);  border-right: 1px solid var(--jp-border-color0);  color: var(--jp-ui-font-color3);  font-size: 9px;}\n",
       ".datatable .frame tbody td { text-align: left; }\n",
       ".datatable .frame tr.coltypes .row_index {  background: var(--jp-border-color0);}\n",
       ".datatable th:nth-child(2) { padding-left: 12px; }\n",
       ".datatable .hellipsis {  color: var(--jp-cell-editor-border-color);}\n",
       ".datatable .vellipsis {  background: var(--jp-layout-color0);  color: var(--jp-cell-editor-border-color);}\n",
       ".datatable .na {  color: var(--jp-cell-editor-border-color);  font-size: 80%;}\n",
       ".datatable .sp {  opacity: 0.25;}\n",
       ".datatable .footer { font-size: 9px; }\n",
       ".datatable .frame_dimensions {  background: var(--jp-border-color3);  border-top: 1px solid var(--jp-border-color0);  color: var(--jp-ui-font-color3);  display: inline-block;  opacity: 0.6;  padding: 1px 10px 1px 5px;}\n",
       "</style>\n"
      ],
      "text/plain": [
       "<IPython.core.display.HTML object>"
      ]
     },
     "metadata": {},
     "output_type": "display_data"
    }
   ],
   "source": [
    "from sklearn.ensemble import AdaBoostClassifier\n",
    "from sklearn.ensemble import GradientBoostingClassifier\n",
    "from xgboost import XGBClassifier\n",
    "import lightgbm as lgb"
   ]
  },
  {
   "cell_type": "code",
   "execution_count": 28,
   "id": "0f13db64",
   "metadata": {
    "execution": {
     "iopub.execute_input": "2023-09-05T19:51:58.818821Z",
     "iopub.status.busy": "2023-09-05T19:51:58.818098Z",
     "iopub.status.idle": "2023-09-05T19:51:58.823299Z",
     "shell.execute_reply": "2023-09-05T19:51:58.822188Z"
    },
    "papermill": {
     "duration": 0.027256,
     "end_time": "2023-09-05T19:51:58.826085",
     "exception": false,
     "start_time": "2023-09-05T19:51:58.798829",
     "status": "completed"
    },
    "tags": []
   },
   "outputs": [],
   "source": [
    "from sklearn.model_selection import KFold, cross_val_score"
   ]
  },
  {
   "cell_type": "code",
   "execution_count": 29,
   "id": "38644883",
   "metadata": {
    "execution": {
     "iopub.execute_input": "2023-09-05T19:51:58.863860Z",
     "iopub.status.busy": "2023-09-05T19:51:58.862468Z",
     "iopub.status.idle": "2023-09-05T19:51:58.883153Z",
     "shell.execute_reply": "2023-09-05T19:51:58.882119Z"
    },
    "papermill": {
     "duration": 0.042596,
     "end_time": "2023-09-05T19:51:58.886114",
     "exception": false,
     "start_time": "2023-09-05T19:51:58.843518",
     "status": "completed"
    },
    "tags": []
   },
   "outputs": [],
   "source": [
    "def my_function(model):\n",
    "    model.fit(X_train, y_train)\n",
    "    test_data_prediction = model.predict(X_test)\n",
    "    accuracy = accuracy_score(y_test, test_data_prediction)\n",
    "    # Check if the current model has the highest accuracy so far\n",
    "    if accuracy > my_function.best_accuracy:\n",
    "        my_function.best_accuracy = accuracy\n",
    "        # Save the best model as a pkl file\n",
    "        pickle.dump(model, open('/kaggle/working/best_model.pkl','wb'))\n",
    "        my_function.counter = my_function.counter + 1\n",
    "    precision = precision_score(test_data_prediction, y_test, average='weighted')\n",
    "    precision1 = precision_score(test_data_prediction, y_test, average='macro')\n",
    "    precision2 = precision_score(test_data_prediction, y_test, average='micro')\n",
    "    recall = recall_score(y_test, test_data_prediction, average='weighted')\n",
    "    recall1 = recall_score(y_test, test_data_prediction, average='macro')\n",
    "    recall2 = recall_score(y_test, test_data_prediction, average='micro')\n",
    "    f1_score = 2 * (precision * recall) / (precision + recall)\n",
    "    f1_score1 = 2 * (precision1 * recall1) / (precision1 + recall1)\n",
    "    f1_score2 = 2 * (precision2 * recall2) / (precision2+ recall2)\n",
    "    kf = KFold(n_splits=10, shuffle=True)\n",
    "\n",
    "\n",
    "\n",
    "    # Evaluate model using cross-validation\n",
    "    scores = cross_val_score(model, X_train, y_train, cv=kf)\n",
    "    print(scores)\n",
    "\n",
    "    # Print average score\n",
    "    print(\"Cross Validation Accuracy: %0.4f\" % scores.mean())\n",
    "    # fpr, tpr, thresholds = metrics.roc_curve(Y_test, test_data_prediction)\n",
    "    # auc = metrics.auc(fpr, tpr)\n",
    "    print('Accuracy score of the model', model , '=', round(accuracy,4))\n",
    "    print('Weighted Precision score of the model', model , '=', round(precision,4))\n",
    "    print('Macro Precision1 score of the model', model , '=', round(precision1,4))\n",
    "    print('Micro Precision2 score of the model', model , '=', round(precision2,4))\n",
    "    print('Weighted Recall score of the model', model , '=', round(recall,4))\n",
    "    print('Macro Recall1 score of the model', model , '=', round(recall1,4))\n",
    "    print('Micro Recall2 score of the model', model , '=', round(recall2,4))\n",
    "    print('Weighted F1_score score of the model', model , '=', round(f1_score,4))\n",
    "    print('Macro F1_score1 score of the model', model , '=', round(f1_score1,4))\n",
    "    print('Micro F1_score2 score of the model', model , '=', round(f1_score2,4))\n",
    "    # print('Cross validation accuracies for the', model, '=', cv_score, 'and', mean_accuracy)\n",
    "    # print('AUC score for the', model, '=', round(auc,4))\n",
    "\n",
    "\n",
    "    cr= classification_report(y_test, test_data_prediction) \n",
    "\n",
    "    print(cr)\n",
    "\n"
   ]
  },
  {
   "cell_type": "code",
   "execution_count": 30,
   "id": "cddc61b9",
   "metadata": {
    "execution": {
     "iopub.execute_input": "2023-09-05T19:51:58.923142Z",
     "iopub.status.busy": "2023-09-05T19:51:58.922401Z",
     "iopub.status.idle": "2023-09-05T19:51:58.928659Z",
     "shell.execute_reply": "2023-09-05T19:51:58.927630Z"
    },
    "papermill": {
     "duration": 0.028083,
     "end_time": "2023-09-05T19:51:58.931591",
     "exception": false,
     "start_time": "2023-09-05T19:51:58.903508",
     "status": "completed"
    },
    "tags": []
   },
   "outputs": [],
   "source": [
    "# Initialize the best_accuracy attribute\n",
    "my_function.best_accuracy = 0\n",
    "my_function.counter=0"
   ]
  },
  {
   "cell_type": "code",
   "execution_count": 31,
   "id": "d1616714",
   "metadata": {
    "execution": {
     "iopub.execute_input": "2023-09-05T19:51:58.970399Z",
     "iopub.status.busy": "2023-09-05T19:51:58.969555Z",
     "iopub.status.idle": "2023-09-05T19:52:43.562530Z",
     "shell.execute_reply": "2023-09-05T19:52:43.561109Z"
    },
    "papermill": {
     "duration": 44.631275,
     "end_time": "2023-09-05T19:52:43.581833",
     "exception": false,
     "start_time": "2023-09-05T19:51:58.950558",
     "status": "completed"
    },
    "tags": []
   },
   "outputs": [
    {
     "name": "stdout",
     "output_type": "stream",
     "text": [
      "[0.96644295 0.97315436 1.         0.98657718 0.97986577 0.98657718\n",
      " 0.95973154 0.98657718 0.98657718 0.99324324]\n",
      "Cross Validation Accuracy: 0.9819\n",
      "Accuracy score of the model LGBMClassifier() = 0.9786\n",
      "Weighted Precision score of the model LGBMClassifier() = 0.9817\n",
      "Macro Precision1 score of the model LGBMClassifier() = 0.9788\n",
      "Micro Precision2 score of the model LGBMClassifier() = 0.9786\n",
      "Weighted Recall score of the model LGBMClassifier() = 0.9786\n",
      "Macro Recall1 score of the model LGBMClassifier() = 0.9788\n",
      "Micro Recall2 score of the model LGBMClassifier() = 0.9786\n",
      "Weighted F1_score score of the model LGBMClassifier() = 0.9801\n",
      "Macro F1_score1 score of the model LGBMClassifier() = 0.9788\n",
      "Micro F1_score2 score of the model LGBMClassifier() = 0.9786\n",
      "              precision    recall  f1-score   support\n",
      "\n",
      "         0.0       0.96      1.00      0.98        53\n",
      "         1.0       0.98      1.00      0.99        53\n",
      "         2.0       0.95      1.00      0.97        53\n",
      "         3.0       0.96      1.00      0.98        54\n",
      "         4.0       1.00      1.00      1.00        53\n",
      "         5.0       1.00      1.00      1.00        53\n",
      "         6.0       1.00      0.85      0.92        54\n",
      "\n",
      "    accuracy                           0.98       373\n",
      "   macro avg       0.98      0.98      0.98       373\n",
      "weighted avg       0.98      0.98      0.98       373\n",
      "\n"
     ]
    }
   ],
   "source": [
    "my_function(lgb.LGBMClassifier())"
   ]
  },
  {
   "cell_type": "code",
   "execution_count": 32,
   "id": "916d7929",
   "metadata": {
    "execution": {
     "iopub.execute_input": "2023-09-05T19:52:43.620087Z",
     "iopub.status.busy": "2023-09-05T19:52:43.619535Z",
     "iopub.status.idle": "2023-09-05T19:55:22.618138Z",
     "shell.execute_reply": "2023-09-05T19:55:22.616325Z"
    },
    "papermill": {
     "duration": 159.038064,
     "end_time": "2023-09-05T19:55:22.637579",
     "exception": false,
     "start_time": "2023-09-05T19:52:43.599515",
     "status": "completed"
    },
    "tags": []
   },
   "outputs": [
    {
     "name": "stdout",
     "output_type": "stream",
     "text": [
      "[0.98657718 0.99328859 0.97315436 1.         0.97986577 1.\n",
      " 0.98657718 0.97986577 1.         0.99324324]\n",
      "Cross Validation Accuracy: 0.9893\n",
      "Accuracy score of the model GradientBoostingClassifier() = 0.9866\n",
      "Weighted Precision score of the model GradientBoostingClassifier() = 0.9878\n",
      "Macro Precision1 score of the model GradientBoostingClassifier() = 0.9868\n",
      "Micro Precision2 score of the model GradientBoostingClassifier() = 0.9866\n",
      "Weighted Recall score of the model GradientBoostingClassifier() = 0.9866\n",
      "Macro Recall1 score of the model GradientBoostingClassifier() = 0.9868\n",
      "Micro Recall2 score of the model GradientBoostingClassifier() = 0.9866\n",
      "Weighted F1_score score of the model GradientBoostingClassifier() = 0.9872\n",
      "Macro F1_score1 score of the model GradientBoostingClassifier() = 0.9868\n",
      "Micro F1_score2 score of the model GradientBoostingClassifier() = 0.9866\n",
      "              precision    recall  f1-score   support\n",
      "\n",
      "         0.0       0.95      1.00      0.97        53\n",
      "         1.0       0.98      1.00      0.99        53\n",
      "         2.0       1.00      1.00      1.00        53\n",
      "         3.0       0.98      1.00      0.99        54\n",
      "         4.0       1.00      1.00      1.00        53\n",
      "         5.0       1.00      1.00      1.00        53\n",
      "         6.0       1.00      0.91      0.95        54\n",
      "\n",
      "    accuracy                           0.99       373\n",
      "   macro avg       0.99      0.99      0.99       373\n",
      "weighted avg       0.99      0.99      0.99       373\n",
      "\n"
     ]
    }
   ],
   "source": [
    "my_function(GradientBoostingClassifier())"
   ]
  },
  {
   "cell_type": "code",
   "execution_count": 33,
   "id": "3057fb54",
   "metadata": {
    "execution": {
     "iopub.execute_input": "2023-09-05T19:55:22.675128Z",
     "iopub.status.busy": "2023-09-05T19:55:22.674608Z",
     "iopub.status.idle": "2023-09-05T19:55:53.282061Z",
     "shell.execute_reply": "2023-09-05T19:55:53.280711Z"
    },
    "papermill": {
     "duration": 30.64828,
     "end_time": "2023-09-05T19:55:53.303580",
     "exception": false,
     "start_time": "2023-09-05T19:55:22.655300",
     "status": "completed"
    },
    "tags": []
   },
   "outputs": [
    {
     "name": "stdout",
     "output_type": "stream",
     "text": [
      "[0.97986577 0.99328859 0.98657718 0.98657718 0.99328859 0.98657718\n",
      " 1.         0.98657718 0.98657718 0.99324324]\n",
      "Cross Validation Accuracy: 0.9893\n",
      "Accuracy score of the model XGBClassifier(base_score=0.5, booster='gbtree', callbacks=None,\n",
      "              colsample_bylevel=1, colsample_bynode=1, colsample_bytree=1,\n",
      "              early_stopping_rounds=None, enable_categorical=False,\n",
      "              eval_metric=None, gamma=0, gpu_id=-1, grow_policy='depthwise',\n",
      "              importance_type=None, interaction_constraints='',\n",
      "              learning_rate=0.300000012, max_bin=256, max_cat_to_onehot=4,\n",
      "              max_delta_step=0, max_depth=6, max_leaves=0, min_child_weight=1,\n",
      "              missing=nan, monotone_constraints='()', n_estimators=100,\n",
      "              n_jobs=0, num_parallel_tree=1, objective='multi:softprob',\n",
      "              predictor='auto', random_state=0, reg_alpha=0, ...) = 0.9866\n",
      "Weighted Precision score of the model XGBClassifier(base_score=0.5, booster='gbtree', callbacks=None,\n",
      "              colsample_bylevel=1, colsample_bynode=1, colsample_bytree=1,\n",
      "              early_stopping_rounds=None, enable_categorical=False,\n",
      "              eval_metric=None, gamma=0, gpu_id=-1, grow_policy='depthwise',\n",
      "              importance_type=None, interaction_constraints='',\n",
      "              learning_rate=0.300000012, max_bin=256, max_cat_to_onehot=4,\n",
      "              max_delta_step=0, max_depth=6, max_leaves=0, min_child_weight=1,\n",
      "              missing=nan, monotone_constraints='()', n_estimators=100,\n",
      "              n_jobs=0, num_parallel_tree=1, objective='multi:softprob',\n",
      "              predictor='auto', random_state=0, reg_alpha=0, ...) = 0.9878\n",
      "Macro Precision1 score of the model XGBClassifier(base_score=0.5, booster='gbtree', callbacks=None,\n",
      "              colsample_bylevel=1, colsample_bynode=1, colsample_bytree=1,\n",
      "              early_stopping_rounds=None, enable_categorical=False,\n",
      "              eval_metric=None, gamma=0, gpu_id=-1, grow_policy='depthwise',\n",
      "              importance_type=None, interaction_constraints='',\n",
      "              learning_rate=0.300000012, max_bin=256, max_cat_to_onehot=4,\n",
      "              max_delta_step=0, max_depth=6, max_leaves=0, min_child_weight=1,\n",
      "              missing=nan, monotone_constraints='()', n_estimators=100,\n",
      "              n_jobs=0, num_parallel_tree=1, objective='multi:softprob',\n",
      "              predictor='auto', random_state=0, reg_alpha=0, ...) = 0.9868\n",
      "Micro Precision2 score of the model XGBClassifier(base_score=0.5, booster='gbtree', callbacks=None,\n",
      "              colsample_bylevel=1, colsample_bynode=1, colsample_bytree=1,\n",
      "              early_stopping_rounds=None, enable_categorical=False,\n",
      "              eval_metric=None, gamma=0, gpu_id=-1, grow_policy='depthwise',\n",
      "              importance_type=None, interaction_constraints='',\n",
      "              learning_rate=0.300000012, max_bin=256, max_cat_to_onehot=4,\n",
      "              max_delta_step=0, max_depth=6, max_leaves=0, min_child_weight=1,\n",
      "              missing=nan, monotone_constraints='()', n_estimators=100,\n",
      "              n_jobs=0, num_parallel_tree=1, objective='multi:softprob',\n",
      "              predictor='auto', random_state=0, reg_alpha=0, ...) = 0.9866\n",
      "Weighted Recall score of the model XGBClassifier(base_score=0.5, booster='gbtree', callbacks=None,\n",
      "              colsample_bylevel=1, colsample_bynode=1, colsample_bytree=1,\n",
      "              early_stopping_rounds=None, enable_categorical=False,\n",
      "              eval_metric=None, gamma=0, gpu_id=-1, grow_policy='depthwise',\n",
      "              importance_type=None, interaction_constraints='',\n",
      "              learning_rate=0.300000012, max_bin=256, max_cat_to_onehot=4,\n",
      "              max_delta_step=0, max_depth=6, max_leaves=0, min_child_weight=1,\n",
      "              missing=nan, monotone_constraints='()', n_estimators=100,\n",
      "              n_jobs=0, num_parallel_tree=1, objective='multi:softprob',\n",
      "              predictor='auto', random_state=0, reg_alpha=0, ...) = 0.9866\n",
      "Macro Recall1 score of the model XGBClassifier(base_score=0.5, booster='gbtree', callbacks=None,\n",
      "              colsample_bylevel=1, colsample_bynode=1, colsample_bytree=1,\n",
      "              early_stopping_rounds=None, enable_categorical=False,\n",
      "              eval_metric=None, gamma=0, gpu_id=-1, grow_policy='depthwise',\n",
      "              importance_type=None, interaction_constraints='',\n",
      "              learning_rate=0.300000012, max_bin=256, max_cat_to_onehot=4,\n",
      "              max_delta_step=0, max_depth=6, max_leaves=0, min_child_weight=1,\n",
      "              missing=nan, monotone_constraints='()', n_estimators=100,\n",
      "              n_jobs=0, num_parallel_tree=1, objective='multi:softprob',\n",
      "              predictor='auto', random_state=0, reg_alpha=0, ...) = 0.9868\n",
      "Micro Recall2 score of the model XGBClassifier(base_score=0.5, booster='gbtree', callbacks=None,\n",
      "              colsample_bylevel=1, colsample_bynode=1, colsample_bytree=1,\n",
      "              early_stopping_rounds=None, enable_categorical=False,\n",
      "              eval_metric=None, gamma=0, gpu_id=-1, grow_policy='depthwise',\n",
      "              importance_type=None, interaction_constraints='',\n",
      "              learning_rate=0.300000012, max_bin=256, max_cat_to_onehot=4,\n",
      "              max_delta_step=0, max_depth=6, max_leaves=0, min_child_weight=1,\n",
      "              missing=nan, monotone_constraints='()', n_estimators=100,\n",
      "              n_jobs=0, num_parallel_tree=1, objective='multi:softprob',\n",
      "              predictor='auto', random_state=0, reg_alpha=0, ...) = 0.9866\n",
      "Weighted F1_score score of the model XGBClassifier(base_score=0.5, booster='gbtree', callbacks=None,\n",
      "              colsample_bylevel=1, colsample_bynode=1, colsample_bytree=1,\n",
      "              early_stopping_rounds=None, enable_categorical=False,\n",
      "              eval_metric=None, gamma=0, gpu_id=-1, grow_policy='depthwise',\n",
      "              importance_type=None, interaction_constraints='',\n",
      "              learning_rate=0.300000012, max_bin=256, max_cat_to_onehot=4,\n",
      "              max_delta_step=0, max_depth=6, max_leaves=0, min_child_weight=1,\n",
      "              missing=nan, monotone_constraints='()', n_estimators=100,\n",
      "              n_jobs=0, num_parallel_tree=1, objective='multi:softprob',\n",
      "              predictor='auto', random_state=0, reg_alpha=0, ...) = 0.9872\n",
      "Macro F1_score1 score of the model XGBClassifier(base_score=0.5, booster='gbtree', callbacks=None,\n",
      "              colsample_bylevel=1, colsample_bynode=1, colsample_bytree=1,\n",
      "              early_stopping_rounds=None, enable_categorical=False,\n",
      "              eval_metric=None, gamma=0, gpu_id=-1, grow_policy='depthwise',\n",
      "              importance_type=None, interaction_constraints='',\n",
      "              learning_rate=0.300000012, max_bin=256, max_cat_to_onehot=4,\n",
      "              max_delta_step=0, max_depth=6, max_leaves=0, min_child_weight=1,\n",
      "              missing=nan, monotone_constraints='()', n_estimators=100,\n",
      "              n_jobs=0, num_parallel_tree=1, objective='multi:softprob',\n",
      "              predictor='auto', random_state=0, reg_alpha=0, ...) = 0.9868\n",
      "Micro F1_score2 score of the model XGBClassifier(base_score=0.5, booster='gbtree', callbacks=None,\n",
      "              colsample_bylevel=1, colsample_bynode=1, colsample_bytree=1,\n",
      "              early_stopping_rounds=None, enable_categorical=False,\n",
      "              eval_metric=None, gamma=0, gpu_id=-1, grow_policy='depthwise',\n",
      "              importance_type=None, interaction_constraints='',\n",
      "              learning_rate=0.300000012, max_bin=256, max_cat_to_onehot=4,\n",
      "              max_delta_step=0, max_depth=6, max_leaves=0, min_child_weight=1,\n",
      "              missing=nan, monotone_constraints='()', n_estimators=100,\n",
      "              n_jobs=0, num_parallel_tree=1, objective='multi:softprob',\n",
      "              predictor='auto', random_state=0, reg_alpha=0, ...) = 0.9866\n",
      "              precision    recall  f1-score   support\n",
      "\n",
      "         0.0       0.95      1.00      0.97        53\n",
      "         1.0       0.98      1.00      0.99        53\n",
      "         2.0       1.00      1.00      1.00        53\n",
      "         3.0       0.98      1.00      0.99        54\n",
      "         4.0       1.00      1.00      1.00        53\n",
      "         5.0       1.00      1.00      1.00        53\n",
      "         6.0       1.00      0.91      0.95        54\n",
      "\n",
      "    accuracy                           0.99       373\n",
      "   macro avg       0.99      0.99      0.99       373\n",
      "weighted avg       0.99      0.99      0.99       373\n",
      "\n"
     ]
    }
   ],
   "source": [
    "my_function(XGBClassifier())"
   ]
  },
  {
   "cell_type": "code",
   "execution_count": 34,
   "id": "3defb527",
   "metadata": {
    "execution": {
     "iopub.execute_input": "2023-09-05T19:55:53.341825Z",
     "iopub.status.busy": "2023-09-05T19:55:53.341385Z",
     "iopub.status.idle": "2023-09-05T19:55:53.349231Z",
     "shell.execute_reply": "2023-09-05T19:55:53.348085Z"
    },
    "papermill": {
     "duration": 0.029946,
     "end_time": "2023-09-05T19:55:53.351609",
     "exception": false,
     "start_time": "2023-09-05T19:55:53.321663",
     "status": "completed"
    },
    "tags": []
   },
   "outputs": [
    {
     "data": {
      "text/plain": [
       "0.9865951742627346"
      ]
     },
     "execution_count": 34,
     "metadata": {},
     "output_type": "execute_result"
    }
   ],
   "source": [
    "my_function.best_accuracy"
   ]
  },
  {
   "cell_type": "code",
   "execution_count": 35,
   "id": "dc1ee196",
   "metadata": {
    "execution": {
     "iopub.execute_input": "2023-09-05T19:55:53.390518Z",
     "iopub.status.busy": "2023-09-05T19:55:53.390067Z",
     "iopub.status.idle": "2023-09-05T19:55:53.397800Z",
     "shell.execute_reply": "2023-09-05T19:55:53.396521Z"
    },
    "papermill": {
     "duration": 0.030579,
     "end_time": "2023-09-05T19:55:53.400454",
     "exception": false,
     "start_time": "2023-09-05T19:55:53.369875",
     "status": "completed"
    },
    "tags": []
   },
   "outputs": [
    {
     "data": {
      "text/plain": [
       "2"
      ]
     },
     "execution_count": 35,
     "metadata": {},
     "output_type": "execute_result"
    }
   ],
   "source": [
    "#number of the saved model\n",
    "my_function.counter"
   ]
  },
  {
   "cell_type": "code",
   "execution_count": 36,
   "id": "13267717",
   "metadata": {
    "execution": {
     "iopub.execute_input": "2023-09-05T19:55:53.439535Z",
     "iopub.status.busy": "2023-09-05T19:55:53.439080Z",
     "iopub.status.idle": "2023-09-05T19:55:53.445204Z",
     "shell.execute_reply": "2023-09-05T19:55:53.444044Z"
    },
    "papermill": {
     "duration": 0.029097,
     "end_time": "2023-09-05T19:55:53.448037",
     "exception": false,
     "start_time": "2023-09-05T19:55:53.418940",
     "status": "completed"
    },
    "tags": []
   },
   "outputs": [],
   "source": [
    "pickle.dump(encoder, open('/kaggle/working/encoder.pkl','wb'))"
   ]
  },
  {
   "cell_type": "code",
   "execution_count": 37,
   "id": "3ec9d104",
   "metadata": {
    "execution": {
     "iopub.execute_input": "2023-09-05T19:55:53.488174Z",
     "iopub.status.busy": "2023-09-05T19:55:53.487673Z",
     "iopub.status.idle": "2023-09-05T19:55:53.494361Z",
     "shell.execute_reply": "2023-09-05T19:55:53.493153Z"
    },
    "papermill": {
     "duration": 0.029649,
     "end_time": "2023-09-05T19:55:53.496937",
     "exception": false,
     "start_time": "2023-09-05T19:55:53.467288",
     "status": "completed"
    },
    "tags": []
   },
   "outputs": [],
   "source": [
    "pickle.dump(scaler, open('/kaggle/working/scaler.pkl','wb'))"
   ]
  },
  {
   "cell_type": "code",
   "execution_count": 38,
   "id": "7e58b37e",
   "metadata": {
    "execution": {
     "iopub.execute_input": "2023-09-05T19:55:53.535747Z",
     "iopub.status.busy": "2023-09-05T19:55:53.535268Z",
     "iopub.status.idle": "2023-09-05T19:55:53.541920Z",
     "shell.execute_reply": "2023-09-05T19:55:53.540583Z"
    },
    "papermill": {
     "duration": 0.029841,
     "end_time": "2023-09-05T19:55:53.545120",
     "exception": false,
     "start_time": "2023-09-05T19:55:53.515279",
     "status": "completed"
    },
    "tags": []
   },
   "outputs": [],
   "source": [
    "pickle.dump(top_50_feature_names, open('/kaggle/working/top_50_feature_names.pkl','wb'))"
   ]
  }
 ],
 "kernelspec": {
  "display_name": "Python 3",
  "language": "python",
  "name": "python3"
 },
 "language_info": {
  "codemirror_mode": {
   "name": "ipython",
   "version": 3
  },
  "file_extension": ".py",
  "mimetype": "text/x-python",
  "name": "python",
  "nbconvert_exporter": "python",
  "pygments_lexer": "ipython3",
  "version": "3.6.4"
 },
 "metadata": {
  "kernelspec": {
   "display_name": "Python 3",
   "language": "python",
   "name": "python3"
  },
  "language_info": {
   "codemirror_mode": {
    "name": "ipython",
    "version": 3
   },
   "file_extension": ".py",
   "mimetype": "text/x-python",
   "name": "python",
   "nbconvert_exporter": "python",
   "pygments_lexer": "ipython3",
   "version": "3.7.12"
  },
  "papermill": {
   "default_parameters": {},
   "duration": 267.712483,
   "end_time": "2023-09-05T19:55:56.732005",
   "environment_variables": {},
   "exception": null,
   "input_path": "__notebook__.ipynb",
   "output_path": "__notebook__.ipynb",
   "parameters": {},
   "start_time": "2023-09-05T19:51:29.019522",
   "version": "2.4.0"
  }
 },
 "nbformat": 4,
 "nbformat_minor": 5
}
